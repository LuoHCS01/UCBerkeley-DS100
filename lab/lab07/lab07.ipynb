{
 "cells": [
  {
   "cell_type": "code",
   "execution_count": 1,
   "metadata": {
    "deletable": false,
    "editable": false
   },
   "outputs": [],
   "source": [
    "# Initialize Otter\n",
    "import otter\n",
    "grader = otter.Notebook(\"lab07.ipynb\")"
   ]
  },
  {
   "cell_type": "markdown",
   "metadata": {
    "nbgrader": {
     "grade": false,
     "grade_id": "intro",
     "locked": true,
     "schema_version": 2,
     "solution": false
    }
   },
   "source": [
    "# Lab 07: Gradient Descent and Sklearn\n",
    "\n",
    "In this lab, we will work through the process of:\n",
    "1. Defining loss functions,\n",
    "1. Performing feature engineering,\n",
    "1. Minimizing loss functions using numerical methods and analytical methods,\n",
    "1. Understanding what happens if we use the analytical solution for OLS on a matrix with redundant features,\n",
    "1. Computing a gradient for a nonlinear model, and\n",
    "1. Using gradient descent to optimize the non-linear model.\n",
    "\n",
    "This lab will continue using the toy `tips` calculation dataset used in a prior lab.\n",
    "\n",
    "To receive credit for a lab, answer all questions correctly and submit before the deadline.\n",
    "\n",
    "You must submit this assignment to Gradescope by the on-time deadline, **Tuesday, March 18, 11:59 PM PT**. Please read the syllabus for the Slip Day policy. As a reminder, slip days are **not** applicable on labs. **We strongly encourage you to plan to submit your work to Gradescope several hours before the stated deadline.** This way, you will have ample time to contact staff for submission support. "
   ]
  },
  {
   "cell_type": "markdown",
   "metadata": {},
   "source": [
    "### Lab Walk-Through\n",
    "In addition to the lab notebook, we have also released a prerecorded walk-through video of the lab. We encourage you to reference this video as you work through the lab. Run the cell below to display the video.\n",
    "\n",
    "**Note:** Some parts of the video are recorded in Spring 2022. There may be slight inconsistencies between the version you are viewing and the version used in the recording, but the content is identical."
   ]
  },
  {
   "cell_type": "code",
   "execution_count": null,
   "metadata": {},
   "outputs": [],
   "source": [
    "from IPython.display import YouTubeVideo\n",
    "YouTubeVideo(\"LohVOmiulHQ\")"
   ]
  },
  {
   "cell_type": "markdown",
   "metadata": {},
   "source": [
    "### Discussion 7 Mini-lecture\n",
    "\n",
    "In Data 100, discussions will not reserve time to host mini-lectures. Instead, we will release a set of pre-recorded mini-lectures that supplement the concepts introduced in lecture. The week after a mini-lecture is released, the topics will be covered in discussion. Thus, it is important to watch these mini-lectures **before** attending the discussion section you are assigned to. Discussion 7 mini-lecture is attached below."
   ]
  },
  {
   "cell_type": "code",
   "execution_count": null,
   "metadata": {},
   "outputs": [],
   "source": [
    "YouTubeVideo(\"9-ZfKJX3e14\", list = 'PLQCcNQgUcDfoUXRtrHc9TUx2pBYNfToVN')"
   ]
  },
  {
   "cell_type": "markdown",
   "metadata": {},
   "source": [
    "\n",
    "### Collaboration Policy\n",
    "\n",
    "Data science is a collaborative activity. While you may talk to others about the labs, we ask that you **write your solutions individually**. If you do discuss the assignments with others, please **include their names** in the following cell:"
   ]
  },
  {
   "cell_type": "markdown",
   "metadata": {},
   "source": [
    "**Collaborators**: *list names here*"
   ]
  },
  {
   "cell_type": "markdown",
   "metadata": {},
   "source": [
    "---\n",
    "### Debugging Guide\n",
    "\n",
    "If you run into any technical issues, we highly recommend checking out the [Data 100 Debugging Guide](https://ds100.org/debugging-guide/). In this guide, you can find general questions about Jupyter notebooks / Datahub, Gradescope, and common `pandas`, RegEx, and visualization errors."
   ]
  },
  {
   "cell_type": "markdown",
   "metadata": {
    "nbgrader": {
     "grade": false,
     "grade_id": "load-data-text",
     "locked": true,
     "schema_version": 2,
     "solution": false
    }
   },
   "source": [
    "<br/>\n",
    "<hr style=\"border: 5px solid #003262;\" />\n",
    "<hr style=\"border: 1px solid #fdb515;\" />\n",
    "\n",
    "# Feature Engineering\n",
    "\n",
    "To begin, let's load the tips dataset from the `seaborn` library.  This dataset contains records of tips, total bill, and information about the person who paid the bill. As earlier, we'll be trying to predict tips from the other data."
   ]
  },
  {
   "cell_type": "code",
   "execution_count": 2,
   "metadata": {
    "nbgrader": {
     "grade": false,
     "grade_id": "imports",
     "locked": true,
     "schema_version": 2,
     "solution": false
    }
   },
   "outputs": [],
   "source": [
    "import pandas as pd\n",
    "import numpy as np\n",
    "import seaborn as sns\n",
    "from sklearn.feature_extraction import DictVectorizer\n",
    "from sklearn.preprocessing import OneHotEncoder\n",
    "import matplotlib.pyplot as plt\n",
    "np.random.seed(42)\n",
    "plt.style.use('fivethirtyeight')\n",
    "sns.set()\n",
    "sns.set_context(\"talk\")\n",
    "%matplotlib inline"
   ]
  },
  {
   "cell_type": "code",
   "execution_count": 3,
   "metadata": {
    "nbgrader": {
     "grade": false,
     "grade_id": "load-data-code",
     "locked": true,
     "schema_version": 2,
     "solution": false
    }
   },
   "outputs": [
    {
     "name": "stdout",
     "output_type": "stream",
     "text": [
      "Number of Records: 244\n"
     ]
    },
    {
     "data": {
      "text/html": [
       "<div>\n",
       "<style scoped>\n",
       "    .dataframe tbody tr th:only-of-type {\n",
       "        vertical-align: middle;\n",
       "    }\n",
       "\n",
       "    .dataframe tbody tr th {\n",
       "        vertical-align: top;\n",
       "    }\n",
       "\n",
       "    .dataframe thead th {\n",
       "        text-align: right;\n",
       "    }\n",
       "</style>\n",
       "<table border=\"1\" class=\"dataframe\">\n",
       "  <thead>\n",
       "    <tr style=\"text-align: right;\">\n",
       "      <th></th>\n",
       "      <th>total_bill</th>\n",
       "      <th>tip</th>\n",
       "      <th>sex</th>\n",
       "      <th>smoker</th>\n",
       "      <th>day</th>\n",
       "      <th>time</th>\n",
       "      <th>size</th>\n",
       "    </tr>\n",
       "  </thead>\n",
       "  <tbody>\n",
       "    <tr>\n",
       "      <th>0</th>\n",
       "      <td>16.99</td>\n",
       "      <td>1.01</td>\n",
       "      <td>Female</td>\n",
       "      <td>No</td>\n",
       "      <td>Sun</td>\n",
       "      <td>Dinner</td>\n",
       "      <td>2</td>\n",
       "    </tr>\n",
       "    <tr>\n",
       "      <th>1</th>\n",
       "      <td>10.34</td>\n",
       "      <td>1.66</td>\n",
       "      <td>Male</td>\n",
       "      <td>No</td>\n",
       "      <td>Sun</td>\n",
       "      <td>Dinner</td>\n",
       "      <td>3</td>\n",
       "    </tr>\n",
       "    <tr>\n",
       "      <th>2</th>\n",
       "      <td>21.01</td>\n",
       "      <td>3.50</td>\n",
       "      <td>Male</td>\n",
       "      <td>No</td>\n",
       "      <td>Sun</td>\n",
       "      <td>Dinner</td>\n",
       "      <td>3</td>\n",
       "    </tr>\n",
       "    <tr>\n",
       "      <th>3</th>\n",
       "      <td>23.68</td>\n",
       "      <td>3.31</td>\n",
       "      <td>Male</td>\n",
       "      <td>No</td>\n",
       "      <td>Sun</td>\n",
       "      <td>Dinner</td>\n",
       "      <td>2</td>\n",
       "    </tr>\n",
       "    <tr>\n",
       "      <th>4</th>\n",
       "      <td>24.59</td>\n",
       "      <td>3.61</td>\n",
       "      <td>Female</td>\n",
       "      <td>No</td>\n",
       "      <td>Sun</td>\n",
       "      <td>Dinner</td>\n",
       "      <td>4</td>\n",
       "    </tr>\n",
       "  </tbody>\n",
       "</table>\n",
       "</div>"
      ],
      "text/plain": [
       "   total_bill   tip     sex smoker  day    time  size\n",
       "0       16.99  1.01  Female     No  Sun  Dinner     2\n",
       "1       10.34  1.66    Male     No  Sun  Dinner     3\n",
       "2       21.01  3.50    Male     No  Sun  Dinner     3\n",
       "3       23.68  3.31    Male     No  Sun  Dinner     2\n",
       "4       24.59  3.61  Female     No  Sun  Dinner     4"
      ]
     },
     "execution_count": 3,
     "metadata": {},
     "output_type": "execute_result"
    }
   ],
   "source": [
    "# Run this cell to load the tips dataset; no further action is needed.\n",
    "data = sns.load_dataset(\"tips\")\n",
    "\n",
    "print(\"Number of Records:\", len(data))\n",
    "data.head()"
   ]
  },
  {
   "cell_type": "markdown",
   "metadata": {},
   "source": [
    "---\n",
    "\n",
    "## Feature Functions\n",
    "\n",
    "So far, we've only considered models of the form $\\hat{y} = f_{\\theta}(x) = \\theta_0 + \\sum_{j=1}^p x_j\\theta_j$, where $\\hat{y}$ is a quantitative continuous variable. \n",
    "\n",
    "We call this a linear model because it is a linear combination of the features $x_1, \\dots, x_p$. However, our features don't need to be numbers: we could have categorical values such as names. Additionally, the true relationship doesn't have to be linear, as we could have a relationship that is quadratic, such as the relationship between the height of a projectile and time.\n",
    "\n",
    "In these cases, we often apply **feature functions**, functions that take in some value and output another value. This might look like converting a string into a number, combining multiple numeric values, or creating a boolean value from some filter.\n",
    "\n",
    "If we use $\\phi$ to represent the feature (_\"phi\"_-ture) function or transformation applied to our data, then our model takes the following form: $$\\hat{y} = f_{\\theta}(x) = \\theta_0 + \\sum_{j=1}^p \\phi(x)_j\\theta_j$$"
   ]
  },
  {
   "cell_type": "markdown",
   "metadata": {},
   "source": [
    "### Example Feature Functions\n",
    "\n",
    "1. **One-hot encoding**\n",
    "    - Converts a single categorical feature into many binary features, each of which represents one of the possible values in the original column.\n",
    "    - Each of the binary feature columns produced contains a 1 for rows that had that column's label in the original column and 0 elsewhere.\n",
    "1. **Polynomial feature**\n",
    "    - Creates polynomial combinations of features.\n",
    "1. **Normalized/Standardized feature**\n",
    "    - Normalizes features so they have a mean of 0 and a standard deviation of 1."
   ]
  },
  {
   "cell_type": "markdown",
   "metadata": {
    "nbgrader": {
     "grade": false,
     "grade_id": "q1",
     "locked": true,
     "schema_version": 2,
     "solution": false
    }
   },
   "source": [
    "<br/>\n",
    "<hr style=\"border: 1px solid #fdb515;\" />\n",
    "\n",
    "## Defining the Model and Engineering Features\n",
    "\n",
    "In Lab 5, we used both a Simple Linear Regression (SLR) model and a constant model on this dataset. Now, let's make a more complicated model that utilizes other features in our dataset. You can imagine that we might want to use the features with an equation that looks as shown below:\n",
    "\n",
    "$$ \\text{Tip} = \\theta_0 + \\theta_1 \\cdot \\text{total}\\_\\text{bill} + \\theta_2 \\cdot \\text{sex} + \\theta_3 \\cdot \\text{smoker} + \\theta_4 \\cdot \\text{day} + \\theta_5 \\cdot \\text{time} + \\theta_6 \\cdot \\text{size} $$\n",
    "\n",
    "Unfortunately, that's not possible because some of these features like \"day\" are not numbers, so it doesn't make sense to multiply by a numerical parameter. Let's start by converting some of these non-numerical values into numerical values.\n",
    "\n",
    "Before we do this, let's separate out the tips and the features into two separate variables, and add a bias term using `pd.insert` ([documentation](https://pandas.pydata.org/docs/reference/api/pandas.DataFrame.insert.html))."
   ]
  },
  {
   "cell_type": "code",
   "execution_count": 4,
   "metadata": {},
   "outputs": [
    {
     "data": {
      "text/html": [
       "<div>\n",
       "<style scoped>\n",
       "    .dataframe tbody tr th:only-of-type {\n",
       "        vertical-align: middle;\n",
       "    }\n",
       "\n",
       "    .dataframe tbody tr th {\n",
       "        vertical-align: top;\n",
       "    }\n",
       "\n",
       "    .dataframe thead th {\n",
       "        text-align: right;\n",
       "    }\n",
       "</style>\n",
       "<table border=\"1\" class=\"dataframe\">\n",
       "  <thead>\n",
       "    <tr style=\"text-align: right;\">\n",
       "      <th></th>\n",
       "      <th>bias</th>\n",
       "      <th>total_bill</th>\n",
       "      <th>sex</th>\n",
       "      <th>smoker</th>\n",
       "      <th>day</th>\n",
       "      <th>time</th>\n",
       "      <th>size</th>\n",
       "    </tr>\n",
       "  </thead>\n",
       "  <tbody>\n",
       "    <tr>\n",
       "      <th>0</th>\n",
       "      <td>1</td>\n",
       "      <td>16.99</td>\n",
       "      <td>Female</td>\n",
       "      <td>No</td>\n",
       "      <td>Sun</td>\n",
       "      <td>Dinner</td>\n",
       "      <td>2</td>\n",
       "    </tr>\n",
       "    <tr>\n",
       "      <th>1</th>\n",
       "      <td>1</td>\n",
       "      <td>10.34</td>\n",
       "      <td>Male</td>\n",
       "      <td>No</td>\n",
       "      <td>Sun</td>\n",
       "      <td>Dinner</td>\n",
       "      <td>3</td>\n",
       "    </tr>\n",
       "    <tr>\n",
       "      <th>2</th>\n",
       "      <td>1</td>\n",
       "      <td>21.01</td>\n",
       "      <td>Male</td>\n",
       "      <td>No</td>\n",
       "      <td>Sun</td>\n",
       "      <td>Dinner</td>\n",
       "      <td>3</td>\n",
       "    </tr>\n",
       "    <tr>\n",
       "      <th>3</th>\n",
       "      <td>1</td>\n",
       "      <td>23.68</td>\n",
       "      <td>Male</td>\n",
       "      <td>No</td>\n",
       "      <td>Sun</td>\n",
       "      <td>Dinner</td>\n",
       "      <td>2</td>\n",
       "    </tr>\n",
       "    <tr>\n",
       "      <th>4</th>\n",
       "      <td>1</td>\n",
       "      <td>24.59</td>\n",
       "      <td>Female</td>\n",
       "      <td>No</td>\n",
       "      <td>Sun</td>\n",
       "      <td>Dinner</td>\n",
       "      <td>4</td>\n",
       "    </tr>\n",
       "  </tbody>\n",
       "</table>\n",
       "</div>"
      ],
      "text/plain": [
       "   bias  total_bill     sex smoker  day    time  size\n",
       "0     1       16.99  Female     No  Sun  Dinner     2\n",
       "1     1       10.34    Male     No  Sun  Dinner     3\n",
       "2     1       21.01    Male     No  Sun  Dinner     3\n",
       "3     1       23.68    Male     No  Sun  Dinner     2\n",
       "4     1       24.59  Female     No  Sun  Dinner     4"
      ]
     },
     "execution_count": 4,
     "metadata": {},
     "output_type": "execute_result"
    }
   ],
   "source": [
    "# Run this cell to create our design matrix X; no further action is needed.\n",
    "tips = data['tip']\n",
    "X = data.drop(columns='tip')\n",
    "X.insert(0, 'bias', 1)\n",
    "X.head()"
   ]
  },
  {
   "cell_type": "markdown",
   "metadata": {
    "deletable": false,
    "editable": false
   },
   "source": [
    "<br/>\n",
    "<hr style=\"border: 1px solid #fdb515;\" />\n",
    "\n",
    "## Question 1: Feature Engineering\n",
    "\n",
    "First, let's convert our features to numerical values. A straightforward approach is to map some of these non-numerical features into numerical ones. \n",
    "\n",
    "For example, we could convert the `day` feature to a numerical value from 1-7. However, one of the disadvantages of directly translating to a numeric value is that we unintentionally assign certain features disproportionate weight. Consider assigning Sunday to the numeric value of 7, and Monday to the numeric value of 1. In our linear model, Sunday will have 7 times the influence of Monday, which can (and likely will) lower the performance of our model.\n",
    "\n",
    "Instead, let's use **one-hot encoding** to better represent these features!  As you learned in the lecture, one-hot encoding is a feature engineering method that represents non-numeric features using boolean vectors (numerical values 0 or 1).\n",
    "\n",
    "In the `tips` dataset, for example, we encode Sunday as the row vector `[0 0 0 1]` because our dataset only contains bills from Thursday through Sunday. This replaces the `day` feature with four boolean features indicating if the record occurred on Thursday, Friday, Saturday, or Sunday. One-hot encoding therefore assigns a more even weight across each category in non-numeric features.\n",
    "\n",
    "Complete the code below to one-hot encode our dataset. This `DataFrame` holds our \"featurized\" data, which is also often denoted by $\\phi$.\n",
    "\n",
    "**Hint 1:** You should use sklearn's `OneHotEncoder` class ([documentation](https://scikit-learn.org/stable/modules/generated/sklearn.preprocessing.OneHotEncoder.html)) when doing your one-hot encoding. Note that `OneHotEncoder` transforms data into a [SciPy sparse matrix](https://docs.scipy.org/doc/scipy/reference/generated/scipy.sparse.csr_matrix.html) to save space; we'll need to convert these back into regular arrays before doing any operations on them. Check out `.toarray()` ([documentation](https://docs.scipy.org/doc/scipy/reference/generated/scipy.sparse.csr_matrix.toarray.html)) for how to convert this to a `NumPy` array.\n",
    "\n",
    "**Hint 2:** Look through the lecture slides and/or course notes for examples of how to use `OneHotEncoder`."
   ]
  },
  {
   "cell_type": "code",
   "execution_count": 17,
   "metadata": {},
   "outputs": [
    {
     "data": {
      "text/plain": [
       "True"
      ]
     },
     "execution_count": 17,
     "metadata": {},
     "output_type": "execute_result"
    }
   ],
   "source": [
    "pd.api.types.is_numeric_dtype(data['tip'])"
   ]
  },
  {
   "cell_type": "code",
   "execution_count": 26,
   "metadata": {
    "nbgrader": {
     "grade": false,
     "grade_id": "q1a-answer",
     "locked": false,
     "schema_version": 2,
     "solution": true
    },
    "tags": [
     "otter_answer_cell"
    ]
   },
   "outputs": [
    {
     "data": {
      "text/html": [
       "<div>\n",
       "<style scoped>\n",
       "    .dataframe tbody tr th:only-of-type {\n",
       "        vertical-align: middle;\n",
       "    }\n",
       "\n",
       "    .dataframe tbody tr th {\n",
       "        vertical-align: top;\n",
       "    }\n",
       "\n",
       "    .dataframe thead th {\n",
       "        text-align: right;\n",
       "    }\n",
       "</style>\n",
       "<table border=\"1\" class=\"dataframe\">\n",
       "  <thead>\n",
       "    <tr style=\"text-align: right;\">\n",
       "      <th></th>\n",
       "      <th>bias</th>\n",
       "      <th>total_bill</th>\n",
       "      <th>size</th>\n",
       "      <th>sex_Female</th>\n",
       "      <th>sex_Male</th>\n",
       "      <th>smoker_No</th>\n",
       "      <th>smoker_Yes</th>\n",
       "      <th>day_Fri</th>\n",
       "      <th>day_Sat</th>\n",
       "      <th>day_Sun</th>\n",
       "      <th>day_Thur</th>\n",
       "      <th>time_Dinner</th>\n",
       "      <th>time_Lunch</th>\n",
       "    </tr>\n",
       "  </thead>\n",
       "  <tbody>\n",
       "    <tr>\n",
       "      <th>0</th>\n",
       "      <td>1</td>\n",
       "      <td>16.99</td>\n",
       "      <td>2</td>\n",
       "      <td>1.0</td>\n",
       "      <td>0.0</td>\n",
       "      <td>1.0</td>\n",
       "      <td>0.0</td>\n",
       "      <td>0.0</td>\n",
       "      <td>0.0</td>\n",
       "      <td>1.0</td>\n",
       "      <td>0.0</td>\n",
       "      <td>1.0</td>\n",
       "      <td>0.0</td>\n",
       "    </tr>\n",
       "    <tr>\n",
       "      <th>1</th>\n",
       "      <td>1</td>\n",
       "      <td>10.34</td>\n",
       "      <td>3</td>\n",
       "      <td>0.0</td>\n",
       "      <td>1.0</td>\n",
       "      <td>1.0</td>\n",
       "      <td>0.0</td>\n",
       "      <td>0.0</td>\n",
       "      <td>0.0</td>\n",
       "      <td>1.0</td>\n",
       "      <td>0.0</td>\n",
       "      <td>1.0</td>\n",
       "      <td>0.0</td>\n",
       "    </tr>\n",
       "    <tr>\n",
       "      <th>2</th>\n",
       "      <td>1</td>\n",
       "      <td>21.01</td>\n",
       "      <td>3</td>\n",
       "      <td>0.0</td>\n",
       "      <td>1.0</td>\n",
       "      <td>1.0</td>\n",
       "      <td>0.0</td>\n",
       "      <td>0.0</td>\n",
       "      <td>0.0</td>\n",
       "      <td>1.0</td>\n",
       "      <td>0.0</td>\n",
       "      <td>1.0</td>\n",
       "      <td>0.0</td>\n",
       "    </tr>\n",
       "    <tr>\n",
       "      <th>3</th>\n",
       "      <td>1</td>\n",
       "      <td>23.68</td>\n",
       "      <td>2</td>\n",
       "      <td>0.0</td>\n",
       "      <td>1.0</td>\n",
       "      <td>1.0</td>\n",
       "      <td>0.0</td>\n",
       "      <td>0.0</td>\n",
       "      <td>0.0</td>\n",
       "      <td>1.0</td>\n",
       "      <td>0.0</td>\n",
       "      <td>1.0</td>\n",
       "      <td>0.0</td>\n",
       "    </tr>\n",
       "    <tr>\n",
       "      <th>4</th>\n",
       "      <td>1</td>\n",
       "      <td>24.59</td>\n",
       "      <td>4</td>\n",
       "      <td>1.0</td>\n",
       "      <td>0.0</td>\n",
       "      <td>1.0</td>\n",
       "      <td>0.0</td>\n",
       "      <td>0.0</td>\n",
       "      <td>0.0</td>\n",
       "      <td>1.0</td>\n",
       "      <td>0.0</td>\n",
       "      <td>1.0</td>\n",
       "      <td>0.0</td>\n",
       "    </tr>\n",
       "  </tbody>\n",
       "</table>\n",
       "</div>"
      ],
      "text/plain": [
       "   bias  total_bill  size  sex_Female  sex_Male  smoker_No  smoker_Yes  \\\n",
       "0     1       16.99     2         1.0       0.0        1.0         0.0   \n",
       "1     1       10.34     3         0.0       1.0        1.0         0.0   \n",
       "2     1       21.01     3         0.0       1.0        1.0         0.0   \n",
       "3     1       23.68     2         0.0       1.0        1.0         0.0   \n",
       "4     1       24.59     4         1.0       0.0        1.0         0.0   \n",
       "\n",
       "   day_Fri  day_Sat  day_Sun  day_Thur  time_Dinner  time_Lunch  \n",
       "0      0.0      0.0      1.0       0.0          1.0         0.0  \n",
       "1      0.0      0.0      1.0       0.0          1.0         0.0  \n",
       "2      0.0      0.0      1.0       0.0          1.0         0.0  \n",
       "3      0.0      0.0      1.0       0.0          1.0         0.0  \n",
       "4      0.0      0.0      1.0       0.0          1.0         0.0  "
      ]
     },
     "execution_count": 26,
     "metadata": {},
     "output_type": "execute_result"
    }
   ],
   "source": [
    "def one_hot_encode(data):\n",
    "    \"\"\"\n",
    "    Return the one-hot encoded DataFrame of our input data.\n",
    "    \n",
    "    Parameters\n",
    "    -----------\n",
    "    data: A DataFrame that may include non-numerical features.\n",
    "    \n",
    "    Returns\n",
    "    -----------\n",
    "    A one-hot encoded DataFrame that only contains numeric features.\n",
    "    \n",
    "    \"\"\"\n",
    "    for column in data.columns:\n",
    "        if pd.api.types.is_numeric_dtype(data[column]):\n",
    "            continue\n",
    "        ohe = OneHotEncoder()\n",
    "        ohe.fit(data[[column]])\n",
    "        data = (\n",
    "            data.join(\n",
    "                pd.DataFrame(\n",
    "                    ohe.transform(data[[column]]).toarray(),\n",
    "                    columns=ohe.get_feature_names_out()\n",
    "                )\n",
    "            ).drop(columns=column)\n",
    "        )\n",
    "    return data\n",
    "\n",
    "one_hot_X = one_hot_encode(X)\n",
    "one_hot_X.head()"
   ]
  },
  {
   "cell_type": "code",
   "execution_count": 27,
   "metadata": {
    "deletable": false,
    "editable": false
   },
   "outputs": [
    {
     "data": {
      "text/html": [
       "<p><strong><pre style='display: inline;'>q1</pre></strong> passed! 🌈</p>"
      ],
      "text/plain": [
       "q1 results: All test cases passed!"
      ]
     },
     "execution_count": 27,
     "metadata": {},
     "output_type": "execute_result"
    }
   ],
   "source": [
    "grader.check(\"q1\")"
   ]
  },
  {
   "cell_type": "markdown",
   "metadata": {
    "nbgrader": {
     "grade": false,
     "grade_id": "q1b",
     "locked": true,
     "schema_version": 2,
     "solution": false
    },
    "tags": []
   },
   "source": [
    "<br>\n",
    "\n",
    "### Tutorial: fit()/predict()\n",
    "\n",
    "This tutorial serves to provide you with a blueprint for how to create a model. Now that all of our data is numeric, we can begin to define our model function. Notice that after one-hot encoding our data, we now have 13 features instead of 7 (including bias). Therefore, our linear model is now similar to the below (note the order of thetas below does not necessarily match the order in the `DataFrame`):\n",
    "\n",
    "\\begin{align}\n",
    "\\text{Tip} &= \\theta_0 + \\theta_1 \\cdot \\text{total}\\_\\text{bill} + \\theta_2 \\cdot \\text{size}  \\\\\n",
    "& + \\theta_3 \\cdot \\text{sex}\\_\\text{Female} + \\theta_4 \\cdot \\text{sex}\\_\\text{Male} \\\\\n",
    "& + \\theta_5 \\cdot \\text{smoker}\\_\\text{No} + \\theta_{6} \\cdot \\text{smoker}\\_\\text{Yes} \\\\\n",
    "& + \\theta_7 \\cdot \\text{day}\\_\\text{Fri} + \\theta_8 \\cdot \\text{day}\\_\\text{Sat} + \\theta_9 \\cdot \\text{day}\\_\\text{Sun} + \\theta_{10} \\cdot \\text{day}\\_\\text{Thur} \\\\\n",
    "& + \\theta_{11} \\cdot \\text{time}\\_\\text{Dinner}+ \\theta_{12} \\cdot \\text{time}\\_\\text{Lunch} \n",
    "\\end{align}\n",
    "\n",
    "We can represent the linear combination above as a matrix-vector product. To practice using syntax similar to the `sklearn` pipeline, we introduce a staff-made example called `MyZeroLinearModel`.\n",
    "\n",
    "The `MyZeroLinearModel` has two methods, `predict` and `fit`.\n",
    "* `fit`: Compute parameters theta given data `X` and `Y` and the underlying model.\n",
    "* `predict`: Compute estimate $\\hat{y}$ given `X` and the underlying model.\n",
    "\n",
    "If you are unfamiliar with using `Python` objects, please review [object-oriented programming](https://cs61a.org/study-guide/objects/). \n",
    "\n",
    "**Note:** Practically speaking, this is a pretty bad model: it sets all of its parameters to 0 regardless of the data we fit it to! While this model doesn't really have any practical application, we're using it here to help you build intuition on how `sklearn` pipelines work! "
   ]
  },
  {
   "cell_type": "code",
   "execution_count": 28,
   "metadata": {},
   "outputs": [
    {
     "data": {
      "text/plain": [
       "array([[0.],\n",
       "       [0.],\n",
       "       [0.],\n",
       "       [0.],\n",
       "       [0.],\n",
       "       [0.],\n",
       "       [0.],\n",
       "       [0.],\n",
       "       [0.],\n",
       "       [0.],\n",
       "       [0.],\n",
       "       [0.],\n",
       "       [0.]])"
      ]
     },
     "execution_count": 28,
     "metadata": {},
     "output_type": "execute_result"
    }
   ],
   "source": [
    "# Run this cell to create the MyZeroLinearModel class; no further action is needed.\n",
    "class MyZeroLinearModel():\n",
    "    def __init__(self):\n",
    "        self._thetas = None\n",
    "    def fit(self, X, Y):\n",
    "        number_of_features = X.shape[1]\n",
    "        # For demonstration purposes in this tutorial, we set the values of all the parameters to 0. \n",
    "        self._thetas = np.zeros(shape=(number_of_features, 1))\n",
    "    \n",
    "    def predict(self, X):\n",
    "        return X @ self._thetas\n",
    "\n",
    "# Running the code below produces all-zero thetas\n",
    "model0 = MyZeroLinearModel()\n",
    "model0.fit(one_hot_X, tips)\n",
    "model0._thetas"
   ]
  },
  {
   "cell_type": "markdown",
   "metadata": {},
   "source": [
    "<br/>\n",
    "<hr style=\"border: 1px solid #fdb515;\" />\n",
    "\n",
    "## Question 2: Fitting a Linear Model Using Numerical Methods\n",
    "\n",
    "\n",
    "The best-fit model is determined by our loss function. Recall in Lab 5 and in Lecture 12 we defined multiple loss functions and found the optimal $\\hat{\\theta}$ using the `scipy.optimize.minimize` function. \n",
    "\n",
    "\n",
    "In this question, we'll wrap this function into a method `fit()` in our class `MyScipyLinearModel`.\n",
    "To allow for different loss functions, we create a `loss_function` parameter where the model can be fit accordingly. Example loss functions are given as `l1` and `l2`.\n",
    "\n",
    "**Note:** Just like `MyZeroLinearModel`, the class `MyScipyLinearModel` is a staff-made example to help you understand how `sklearn` works behind the scenes. In practice, when using pre-made `sklearn` models, defining a class like this is unnecessary!"
   ]
  },
  {
   "cell_type": "markdown",
   "metadata": {
    "deletable": false,
    "editable": false,
    "tags": []
   },
   "source": [
    "---\n",
    "\n",
    "### Question 2a: scipy\n",
    "\n",
    "Complete the code below using `scipy.optimize.minimize`. Find and store the optimal $\\hat{\\theta}$ in the instance attribute `self._thetas`.\n",
    "\n",
    "**Hint:**\n",
    "* The `starting_guess` should be some arbitrary array (such as an array of all zeroes) of the correct length. You may find `number_of_features` helpful.\n",
    "\n",
    "**Notes:**\n",
    "* Notice that `l1` and `l2` return term-wise loss and only accept observed value $y$ and predicted value $\\hat{y}$. We added a lambda function to help convert them into the right format for `scipy.optimize.minimize`.\n",
    "* Notice above that we extract the `'x'` entry in the dictionary returned by `minimize`. This entry corresponds to the optimal $\\hat{\\theta}$ estimated by the function, and it is the format that `minimize` uses."
   ]
  },
  {
   "cell_type": "code",
   "execution_count": 32,
   "metadata": {
    "nbgrader": {
     "grade": false,
     "grade_id": "q2-answer",
     "locked": false,
     "schema_version": 2,
     "solution": true
    },
    "tags": [
     "otter_answer_cell"
    ]
   },
   "outputs": [
    {
     "name": "stdout",
     "output_type": "stream",
     "text": [
      "L2 loss thetas:\n",
      "[ 0.25496953  0.09448694  0.17599233  0.14370134  0.1112605   0.17068664\n",
      "  0.08427849  0.14104278  0.01958451  0.1155622  -0.02121636  0.09341723\n",
      "  0.16154573]\n",
      "L1 loss thetas:\n",
      "[ 0.25496953  0.09448694  0.17599233  0.14370134  0.1112605   0.17068664\n",
      "  0.08427849  0.14104278  0.01958451  0.1155622  -0.02121636  0.09341723\n",
      "  0.16154573]\n"
     ]
    }
   ],
   "source": [
    "from scipy.optimize import minimize\n",
    "\n",
    "def l1(y, y_hat):\n",
    "    return np.abs(y - y_hat)\n",
    "\n",
    "def l2(y, y_hat):\n",
    "    return (y - y_hat)**2\n",
    "\n",
    "class MyScipyLinearModel():\n",
    "    def __init__(self):\n",
    "        self._thetas = None\n",
    "        \n",
    "    def fit(self, loss_function, X, Y):\n",
    "        \"\"\"\n",
    "        Estimated optimal _thetas for the given loss function, \n",
    "        feature matrix X, and observed values y. Store them in _thetas.\n",
    "\n",
    "        Parameters\n",
    "        -----------\n",
    "        loss_function: A function that takes in observed and predicted y, \n",
    "                       and return the loss calculated for each data point.\n",
    "        X: A 2D DataFrame (or NumPy array) of numeric features.\n",
    "        Y: A 1D NumPy array or Series of the dependent variable.\n",
    "\n",
    "        Returns\n",
    "        -----------\n",
    "        None\n",
    "        \"\"\"\n",
    "        \n",
    "        number_of_features = X.shape[1]\n",
    "        starting_guess = np.zeros(shape=number_of_features)\n",
    "        self._thetas = minimize(lambda theta:\n",
    "                                np.sum(loss_function(Y, X @ theta)),\n",
    "                                x0 = starting_guess)['x']\n",
    "        \n",
    "    def predict(self, X):\n",
    "        return X @ self._thetas\n",
    "        \n",
    "# Create a new model and fit the data using l2 loss, it should produce some non-zero thetas.\n",
    "model = MyScipyLinearModel()\n",
    "model.fit(l2, one_hot_X, tips)\n",
    "print(\"L2 loss thetas:\")\n",
    "print(model._thetas)\n",
    "\n",
    "# Create a new model and fit the data using l1 loss, it should produce some non-zero thetas.\n",
    "model_l1 = MyScipyLinearModel()\n",
    "model_l1.fit(l1, one_hot_X, tips)\n",
    "print(\"L1 loss thetas:\")\n",
    "print(model._thetas)"
   ]
  },
  {
   "cell_type": "code",
   "execution_count": 33,
   "metadata": {
    "deletable": false,
    "editable": false
   },
   "outputs": [
    {
     "data": {
      "text/html": [
       "<p><strong><pre style='display: inline;'>q2a</pre></strong> passed! ✨</p>"
      ],
      "text/plain": [
       "q2a results: All test cases passed!"
      ]
     },
     "execution_count": 33,
     "metadata": {},
     "output_type": "execute_result"
    }
   ],
   "source": [
    "grader.check(\"q2a\")"
   ]
  },
  {
   "cell_type": "markdown",
   "metadata": {},
   "source": [
    "The MSE and MAE for your model above should be just slightly larger than 1:"
   ]
  },
  {
   "cell_type": "code",
   "execution_count": 34,
   "metadata": {
    "tags": []
   },
   "outputs": [
    {
     "name": "stdout",
     "output_type": "stream",
     "text": [
      "L2 loss MSE scipy: 1.0103535612259835\n",
      "L1 loss MAE scipy: 1.0368525453788675\n"
     ]
    }
   ],
   "source": [
    "# Run this cell to calculate the MSE and MAE of the above model; no further action is needed.\n",
    "from sklearn.metrics import mean_squared_error\n",
    "print(\"L2 loss MSE scipy: \" + str(mean_squared_error(model.predict(one_hot_X), tips)))\n",
    "print(\"L1 loss MAE scipy: \" + str(mean_squared_error(model_l1.predict(one_hot_X), tips)))"
   ]
  },
  {
   "cell_type": "markdown",
   "metadata": {
    "deletable": false,
    "editable": false,
    "tags": []
   },
   "source": [
    "<br>\n",
    "\n",
    "---\n",
    "\n",
    "### Question 2b: sklearn\n",
    "\n",
    "Another way to fit a linear regression model is to use `scikit-learn`/`sklearn` as we have seen in Lab 6.  As a reminder, here are the three steps to use `sklearn`:\n",
    "\n",
    "1. Create a `sklearn` object.\n",
    "1. `fit` the object to data.\n",
    "1. Analyze fit, or call `predict`.\n",
    "\n",
    "\n",
    "The `sklearn` `LinearRegression` object ([documentation](http://scikit-learn.org/stable/modules/generated/sklearn.linear_model.LinearRegression.html)) models the Ordinary Least Squares (OLS) problem, also using numerical methods to estimate $\\hat{\\theta}$. Fill in the code below such that `sklearn_model` **fits** OLS using `sklearn`.\n",
    "\n",
    "**Hint:** Since we have included the bias column in our design matrix explicitly, we need to adjust the `fit_intercept` parameter appropriately when creating the `LinearRegression` model. "
   ]
  },
  {
   "cell_type": "code",
   "execution_count": 36,
   "metadata": {
    "tags": [
     "otter_answer_cell"
    ]
   },
   "outputs": [
    {
     "name": "stdout",
     "output_type": "stream",
     "text": [
      "sklearn with bias column thetas:\n",
      "[ 0.25496633  0.09448701  0.175992    0.14370363  0.11126269  0.17068732\n",
      "  0.084279    0.14104114  0.01958276  0.11556048 -0.02121806  0.09341886\n",
      "  0.16154746]\n"
     ]
    }
   ],
   "source": [
    "from sklearn.linear_model import LinearRegression\n",
    "\n",
    "sklearn_model = LinearRegression(fit_intercept=False)\n",
    "sklearn_model.fit(one_hot_X, tips)\n",
    "print(\"sklearn with bias column thetas:\")\n",
    "print(sklearn_model.coef_)"
   ]
  },
  {
   "cell_type": "code",
   "execution_count": 37,
   "metadata": {
    "deletable": false,
    "editable": false
   },
   "outputs": [
    {
     "data": {
      "text/html": [
       "<p><strong><pre style='display: inline;'>q2b</pre></strong> passed! 🍀</p>"
      ],
      "text/plain": [
       "q2b results: All test cases passed!"
      ]
     },
     "execution_count": 37,
     "metadata": {},
     "output_type": "execute_result"
    }
   ],
   "source": [
    "grader.check(\"q2b\")"
   ]
  },
  {
   "cell_type": "markdown",
   "metadata": {
    "deletable": false,
    "editable": false
   },
   "source": [
    "<br>\n",
    " \n",
    "---\n",
    " \n",
    "### Question 2c: sklearn and `fit_intercept`"
   ]
  },
  {
   "cell_type": "markdown",
   "metadata": {
    "deletable": false,
    "editable": false
   },
   "source": [
    "To avoid always explicitly building in a bias column into our design matrix, `sklearn`'s `LinearRegression` object also supports `fit_intercept=True` during instantiation. \n",
    "\n",
    "Fill in the code below by first assigning `one_hot_X_nobias` to the `one_hot_X` design matrix with the bias column dropped, then fit a new `LinearRegression` model, with intercept."
   ]
  },
  {
   "cell_type": "code",
   "execution_count": 39,
   "metadata": {
    "tags": [
     "otter_answer_cell"
    ]
   },
   "outputs": [
    {
     "name": "stdout",
     "output_type": "stream",
     "text": [
      "sklearn with intercept thetas:\n",
      "[ 0.70115739  0.09448701  0.175992    0.01622047 -0.01622047  0.04320416\n",
      " -0.04320416  0.07729956 -0.04415882  0.0518189  -0.08495964 -0.0340643\n",
      "  0.0340643 ]\n"
     ]
    }
   ],
   "source": [
    "one_hot_X_nobias = one_hot_encode(data.drop(columns=\"tip\"))\n",
    "\n",
    "sklearn_model_intercept = LinearRegression(fit_intercept=True)\n",
    "sklearn_model_intercept.fit(one_hot_X_nobias, tips)\n",
    "\n",
    "# Note that sklearn returns intercept (theta_0) and coefficients (other thetas) separately.\n",
    "# We concatenate the intercept and other thetas before printing for easier comparison with the models above.\n",
    "print(\"sklearn with intercept thetas:\")\n",
    "print(np.concatenate(([sklearn_model_intercept.intercept_], sklearn_model_intercept.coef_)))"
   ]
  },
  {
   "cell_type": "code",
   "execution_count": 40,
   "metadata": {
    "deletable": false,
    "editable": false
   },
   "outputs": [
    {
     "data": {
      "text/html": [
       "<p><strong><pre style='display: inline;'>q2c</pre></strong> passed! 💯</p>"
      ],
      "text/plain": [
       "q2c results: All test cases passed!"
      ]
     },
     "execution_count": 40,
     "metadata": {},
     "output_type": "execute_result"
    }
   ],
   "source": [
    "grader.check(\"q2c\")"
   ]
  },
  {
   "cell_type": "markdown",
   "metadata": {},
   "source": [
    "We printed the MSE for the `SciPy` and both `sklearn` solutions below (all using L2 loss). Notice that while the theta coefficients are different for the two `sklearn` models (with the bias column, vs. with `fit_intercept=True`), all three models have similar MSEs! We will explain this when we explore Gradient Descent later in this lab."
   ]
  },
  {
   "cell_type": "code",
   "execution_count": 41,
   "metadata": {},
   "outputs": [
    {
     "name": "stdout",
     "output_type": "stream",
     "text": [
      "MSE scipy: \t\t\t1.0103535612259835\n",
      "MSE sklearn bias column: \t1.010353561225785\n",
      "MSE sklearn intercept model: \t1.010353561225785\n"
     ]
    }
   ],
   "source": [
    "print(\"MSE scipy: \\t\\t\\t\" + str(mean_squared_error(model.predict(one_hot_X), tips)))\n",
    "print(\"MSE sklearn bias column: \\t\" + str(mean_squared_error(sklearn_model.predict(one_hot_X), tips)))\n",
    "print(\"MSE sklearn intercept model: \\t\" + str(mean_squared_error(sklearn_model_intercept.predict(one_hot_X_nobias), tips)))"
   ]
  },
  {
   "cell_type": "markdown",
   "metadata": {
    "nbgrader": {
     "grade": false,
     "grade_id": "q3",
     "locked": true,
     "schema_version": 2,
     "solution": false
    }
   },
   "source": [
    "<br/>\n",
    "<hr style=\"border: 1px solid #fdb515;\" />\n",
    "\n",
    "## Question 3: Fitting the Model Using Analytic Methods\n",
    "\n",
    "Let's also fit our model analytically for the L2 loss function. Recall from lecture that with a linear model, we are solving the following optimization problem for least squares:\n",
    "\n",
    "$$\\min_{\\theta} \\frac{1}{n}||\\Bbb{Y} - \\Bbb{X}\\theta||^2$$\n",
    "\n",
    "We showed in lecture that the optimal $\\hat{\\theta}$ when $\\Bbb{X}^T\\Bbb{X}$ is invertible is given by the equation: $(\\Bbb{X}^T\\Bbb{X})^{-1}\\Bbb{X}^T\\Bbb{Y}$"
   ]
  },
  {
   "cell_type": "markdown",
   "metadata": {
    "deletable": false,
    "editable": false,
    "nbgrader": {
     "grade": false,
     "grade_id": "q3a",
     "locked": true,
     "schema_version": 2,
     "solution": false
    },
    "tags": []
   },
   "source": [
    "<br>\n",
    "\n",
    "---\n",
    "### Question 3a: Analytic Solution Using Explicit Inverses\n",
    "\n",
    "For this problem, implement the analytic solution above using `np.linalg.inv` to compute the inverse of $\\Bbb{X}^T\\Bbb{X}$. As in `q2a`, we provide a class `MyAnalyticallyFitOLSModel` with a `fit` method to wrap this functionality.\n",
    "\n",
    "**Hint**: To compute the transpose of a matrix, you can use `X.T` or `X.transpose()`.\n",
    "\n",
    "**Note**: We want our thetas to always be a `NumPy array` object, even if `Y` is a `Series`. If you are using the `@` `NumPy` operator, make sure you are correctly placing parentheses around expressions where needed to make this happen."
   ]
  },
  {
   "cell_type": "code",
   "execution_count": 48,
   "metadata": {
    "tags": [
     "otter_answer_cell"
    ]
   },
   "outputs": [],
   "source": [
    "class MyAnalyticallyFitOLSModel():\n",
    "    def __init__(self):\n",
    "        self._thetas = None\n",
    "        \n",
    "    def fit(self, X, Y):\n",
    "        \"\"\"\n",
    "        Sets _thetas using the analytical solution to the OLS problem.\n",
    "\n",
    "        Parameters\n",
    "        -----------\n",
    "        X: A 2D DataFrame (or NumPy array) of numeric features (one-hot encoded).\n",
    "        Y: A 1D NumPy array or Series of the dependent variable.\n",
    "        \n",
    "        Returns\n",
    "        -----------\n",
    "        None\n",
    "        \"\"\"\n",
    "        X = np.array(X)\n",
    "        Y = np.array(Y)\n",
    "        self._thetas = (\n",
    "            np.linalg.inv(X.T @ X) @ X.T @ Y\n",
    "        )\n",
    "    \n",
    "    def predict(self, X):\n",
    "        return X @ self._thetas        "
   ]
  },
  {
   "cell_type": "code",
   "execution_count": 49,
   "metadata": {
    "deletable": false,
    "editable": false
   },
   "outputs": [
    {
     "data": {
      "text/html": [
       "<p><strong><pre style='display: inline;'>q3a</pre></strong> passed! 🍀</p>"
      ],
      "text/plain": [
       "q3a results: All test cases passed!"
      ]
     },
     "execution_count": 49,
     "metadata": {},
     "output_type": "execute_result"
    }
   ],
   "source": [
    "grader.check(\"q3a\")"
   ]
  },
  {
   "cell_type": "markdown",
   "metadata": {},
   "source": [
    "Now, run the cell below to find the analytical solution for the `tips` dataset. Depending on the machine that you run your code on, **you should either see a singular matrix error or end up with some theta values that are nonsensical (magnitudes greater than $10^{15}$).** This is not good!"
   ]
  },
  {
   "cell_type": "code",
   "execution_count": 50,
   "metadata": {},
   "outputs": [
    {
     "name": "stdout",
     "output_type": "stream",
     "text": [
      "Traceback (most recent call last):\n",
      "  File \"C:\\Users\\admin\\AppData\\Local\\Temp\\ipykernel_22844\\1502873220.py\", line 6, in <module>\n",
      "    model_analytical.fit(one_hot_X, tips)\n",
      "  File \"C:\\Users\\admin\\AppData\\Local\\Temp\\ipykernel_22844\\3794229730.py\", line 21, in fit\n",
      "    np.linalg.inv(X.T @ X) @ X.T @ Y\n",
      "    ^^^^^^^^^^^^^^^^^^^^^^\n",
      "  File \"e:\\ProgramData\\anaconda3\\envs\\6.S191\\Lib\\site-packages\\numpy\\linalg\\_linalg.py\", line 615, in inv\n",
      "    ainv = _umath_linalg.inv(a, signature=signature)\n",
      "           ^^^^^^^^^^^^^^^^^^^^^^^^^^^^^^^^^^^^^^^^^\n",
      "  File \"e:\\ProgramData\\anaconda3\\envs\\6.S191\\Lib\\site-packages\\numpy\\linalg\\_linalg.py\", line 104, in _raise_linalgerror_singular\n",
      "    raise LinAlgError(\"Singular matrix\")\n",
      "numpy.linalg.LinAlgError: Singular matrix\n",
      "\n"
     ]
    }
   ],
   "source": [
    "# Run this cell to check the result, no further action needed.\n",
    "# The try-except block suppresses errors during submission\n",
    "import traceback\n",
    "try:\n",
    "    model_analytical = MyAnalyticallyFitOLSModel()\n",
    "    model_analytical.fit(one_hot_X, tips)\n",
    "    analytical_thetas = model_analytical._thetas\n",
    "    print(analytical_thetas)\n",
    "except Exception as e:\n",
    "    print(traceback.format_exc())"
   ]
  },
  {
   "cell_type": "markdown",
   "metadata": {
    "deletable": false,
    "editable": false
   },
   "source": [
    "<!-- BEGIN QUESTION -->\n",
    "\n",
    "<br>\n",
    "\n",
    "---\n",
    "\n",
    "### Question 3b"
   ]
  },
  {
   "cell_type": "markdown",
   "metadata": {
    "deletable": false,
    "editable": false
   },
   "source": [
    "In the cell below, explain why we got the error or nonsensical theta values above when trying to calculate the analytical solution for our one-hot encoded `tips` dataset.\n"
   ]
  },
  {
   "cell_type": "markdown",
   "metadata": {
    "tags": [
     "otter_answer_cell"
    ]
   },
   "source": [
    "_Type your answer here, replacing this text._"
   ]
  },
  {
   "cell_type": "markdown",
   "metadata": {
    "deletable": false,
    "editable": false
   },
   "source": [
    "<!-- END QUESTION -->\n",
    "\n",
    "<br>\n",
    "\n",
    "---\n",
    "### Question 3c: Fixing Our One-Hot Encoding\n",
    "\n",
    "Now, let's modify our one-hot encoding approach from earlier so we don't get the error we saw in the previous part. Complete the code below to one-hot-encode our dataset such that `one_hot_X_revised` has no redundant features. \n",
    "\n",
    "**Hint**: To identify redundancies in one-hot-encoded features, consider the number of boolean values that are required to uniquely express each possible option. For example, we only need one column to express whether an individual it's Lunch or Dinner time: If the value is 0 in the Lunch column, it tells us it must be Dinner time.\n",
    "\n",
    "**Note**: If you are running into a `matrices are not aligned` error, make sure to read the note in question 3a."
   ]
  },
  {
   "cell_type": "code",
   "execution_count": 51,
   "metadata": {
    "tags": [
     "otter_answer_cell"
    ]
   },
   "outputs": [
    {
     "data": {
      "text/html": [
       "<div>\n",
       "<style scoped>\n",
       "    .dataframe tbody tr th:only-of-type {\n",
       "        vertical-align: middle;\n",
       "    }\n",
       "\n",
       "    .dataframe tbody tr th {\n",
       "        vertical-align: top;\n",
       "    }\n",
       "\n",
       "    .dataframe thead th {\n",
       "        text-align: right;\n",
       "    }\n",
       "</style>\n",
       "<table border=\"1\" class=\"dataframe\">\n",
       "  <thead>\n",
       "    <tr style=\"text-align: right;\">\n",
       "      <th></th>\n",
       "      <th>bias</th>\n",
       "      <th>total_bill</th>\n",
       "      <th>size</th>\n",
       "      <th>sex_Male</th>\n",
       "      <th>smoker_Yes</th>\n",
       "      <th>day_Sat</th>\n",
       "      <th>day_Sun</th>\n",
       "      <th>day_Thur</th>\n",
       "      <th>time_Lunch</th>\n",
       "    </tr>\n",
       "  </thead>\n",
       "  <tbody>\n",
       "    <tr>\n",
       "      <th>0</th>\n",
       "      <td>1</td>\n",
       "      <td>16.99</td>\n",
       "      <td>2</td>\n",
       "      <td>0.0</td>\n",
       "      <td>0.0</td>\n",
       "      <td>0.0</td>\n",
       "      <td>1.0</td>\n",
       "      <td>0.0</td>\n",
       "      <td>0.0</td>\n",
       "    </tr>\n",
       "    <tr>\n",
       "      <th>1</th>\n",
       "      <td>1</td>\n",
       "      <td>10.34</td>\n",
       "      <td>3</td>\n",
       "      <td>1.0</td>\n",
       "      <td>0.0</td>\n",
       "      <td>0.0</td>\n",
       "      <td>1.0</td>\n",
       "      <td>0.0</td>\n",
       "      <td>0.0</td>\n",
       "    </tr>\n",
       "    <tr>\n",
       "      <th>2</th>\n",
       "      <td>1</td>\n",
       "      <td>21.01</td>\n",
       "      <td>3</td>\n",
       "      <td>1.0</td>\n",
       "      <td>0.0</td>\n",
       "      <td>0.0</td>\n",
       "      <td>1.0</td>\n",
       "      <td>0.0</td>\n",
       "      <td>0.0</td>\n",
       "    </tr>\n",
       "    <tr>\n",
       "      <th>3</th>\n",
       "      <td>1</td>\n",
       "      <td>23.68</td>\n",
       "      <td>2</td>\n",
       "      <td>1.0</td>\n",
       "      <td>0.0</td>\n",
       "      <td>0.0</td>\n",
       "      <td>1.0</td>\n",
       "      <td>0.0</td>\n",
       "      <td>0.0</td>\n",
       "    </tr>\n",
       "    <tr>\n",
       "      <th>4</th>\n",
       "      <td>1</td>\n",
       "      <td>24.59</td>\n",
       "      <td>4</td>\n",
       "      <td>0.0</td>\n",
       "      <td>0.0</td>\n",
       "      <td>0.0</td>\n",
       "      <td>1.0</td>\n",
       "      <td>0.0</td>\n",
       "      <td>0.0</td>\n",
       "    </tr>\n",
       "  </tbody>\n",
       "</table>\n",
       "</div>"
      ],
      "text/plain": [
       "   bias  total_bill  size  sex_Male  smoker_Yes  day_Sat  day_Sun  day_Thur  \\\n",
       "0     1       16.99     2       0.0         0.0      0.0      1.0       0.0   \n",
       "1     1       10.34     3       1.0         0.0      0.0      1.0       0.0   \n",
       "2     1       21.01     3       1.0         0.0      0.0      1.0       0.0   \n",
       "3     1       23.68     2       1.0         0.0      0.0      1.0       0.0   \n",
       "4     1       24.59     4       0.0         0.0      0.0      1.0       0.0   \n",
       "\n",
       "   time_Lunch  \n",
       "0         0.0  \n",
       "1         0.0  \n",
       "2         0.0  \n",
       "3         0.0  \n",
       "4         0.0  "
      ]
     },
     "metadata": {},
     "output_type": "display_data"
    },
    {
     "name": "stdout",
     "output_type": "stream",
     "text": [
      "Our scipy numerical model's loss is:  1.0103535612259968\n",
      "Our analytical model's loss is:  1.010353561225785\n"
     ]
    }
   ],
   "source": [
    "def one_hot_encode_revised(data):\n",
    "    \"\"\"\n",
    "    Return the one-hot encoded DataFrame of our input data, removing redundancies.\n",
    "    \n",
    "    Parameters\n",
    "    -----------\n",
    "    data: A DataFrame that may include non-numerical features.\n",
    "    \n",
    "    Returns\n",
    "    -----------\n",
    "    A one-hot encoded DataFrame that only contains numeric features without any redundancies.\n",
    "    \n",
    "    \"\"\"\n",
    "    for column in data.columns:\n",
    "        if pd.api.types.is_numeric_dtype(data[column]):\n",
    "            continue\n",
    "        ohe = OneHotEncoder(drop=\"first\")\n",
    "        ohe.fit(data[[column]])\n",
    "        data = (\n",
    "            data.join(\n",
    "                pd.DataFrame(\n",
    "                    ohe.transform(data[[column]]).toarray(),\n",
    "                    columns=ohe.get_feature_names_out()\n",
    "                )\n",
    "            ).drop(columns=column)\n",
    "        )\n",
    "    return data\n",
    "\n",
    "one_hot_X_revised = one_hot_encode_revised(X)\n",
    "display(one_hot_X_revised.head())\n",
    "    \n",
    "scipy_model = MyScipyLinearModel()\n",
    "scipy_model.fit(l2, one_hot_X_revised, tips)\n",
    "    \n",
    "analytical_model = MyAnalyticallyFitOLSModel()\n",
    "analytical_model.fit(one_hot_X_revised, tips)\n",
    "\n",
    "print(\"Our scipy numerical model's loss is: \", mean_squared_error(scipy_model.predict(one_hot_X_revised), tips))\n",
    "print(\"Our analytical model's loss is: \", mean_squared_error(analytical_model.predict(one_hot_X_revised), tips))"
   ]
  },
  {
   "cell_type": "code",
   "execution_count": 52,
   "metadata": {
    "deletable": false,
    "editable": false
   },
   "outputs": [
    {
     "data": {
      "text/html": [
       "<p><strong><pre style='display: inline;'>q3c</pre></strong> passed! 🚀</p>"
      ],
      "text/plain": [
       "q3c results: All test cases passed!"
      ]
     },
     "execution_count": 52,
     "metadata": {},
     "output_type": "execute_result"
    }
   ],
   "source": [
    "grader.check(\"q3c\")"
   ]
  },
  {
   "cell_type": "markdown",
   "metadata": {},
   "source": [
    "We can check the rank of the matrix using the `NumPy` function `np.linalg.matrix_rank`. We have printed the rank of the data and number of columns for you below. "
   ]
  },
  {
   "cell_type": "code",
   "execution_count": 53,
   "metadata": {},
   "outputs": [
    {
     "name": "stdout",
     "output_type": "stream",
     "text": [
      "one_hot_X: \n",
      "\t number of columns: 13\trank: 9\n",
      "one_hot_X_revised: \n",
      "\t number of columns: 9\trank: 9\n"
     ]
    }
   ],
   "source": [
    "print(\"one_hot_X: \\n\"\n",
    "      + \"\\t number of columns: \" + str(len(one_hot_X.columns)) \\\n",
    "      + \"\\trank: \" + str(np.linalg.matrix_rank(one_hot_X)))\n",
    "print(\"one_hot_X_revised: \\n\"\n",
    "      + \"\\t number of columns: \" + str(len(one_hot_X_revised.columns)) \\\n",
    "      + \"\\trank: \" + str(np.linalg.matrix_rank(one_hot_X_revised)))"
   ]
  },
  {
   "cell_type": "markdown",
   "metadata": {
    "deletable": false,
    "editable": false
   },
   "source": [
    "<!-- BEGIN QUESTION -->\n",
    "\n",
    "<br>\n",
    "\n",
    "---\n",
    "### Question 3d: Analyzing our new One-Hot Encoding\n",
    "\n",
    "Why did removing redundancies in our one-hot encoding fix the problem we had in 3a?"
   ]
  },
  {
   "cell_type": "markdown",
   "metadata": {
    "tags": [
     "otter_answer_cell"
    ]
   },
   "source": [
    "_Type your answer here, replacing this text._"
   ]
  },
  {
   "cell_type": "markdown",
   "metadata": {
    "deletable": false,
    "editable": false
   },
   "source": [
    "<!-- END QUESTION -->\n",
    "\n",
    "\n",
    "Having linearly dependent columns means our system of linear equations is underdetermined, i.e. there are multiple solutions. There is no unique solution, hence there is no inverse. An alternate approach is to use `np.linalg.pinv` or `np.linalg.solve` instead of `np.linalg.inv`. They return **a** solution among the many possible solutions. Even with the redundant features, `np.linalg.solve` `np.linalg.pinv`  will work for the example above as a result. However, in general, it's best to drop redundant features for inference purposes and we will explore this further in Homework 7. "
   ]
  },
  {
   "cell_type": "markdown",
   "metadata": {},
   "source": [
    "<br/>\n",
    "<hr style=\"border: 5px solid #003262;\" />\n",
    "<hr style=\"border: 1px solid #fdb515;\" />\n",
    "\n",
    "\n",
    "# Gradient Descent\n",
    "\n",
    "You may be wondering why `scipy.optimize.minimize` or `sklearn.LinearRegression` works as well with redundant features when an analytical solution fails above. This is because `scipy.optimize.minimize` and `sklearn.LinearRegression` use numerical optimization techniques to find **a** solution---it does not require a unique solution through matrix inverses. \n",
    "\n",
    "Consider the models we crafted in `q2b` and `q2c`: even though we fit exactly the same model (Calling `.fit` with `fit_intercept=False` on data with a bias column is equivalent to calling `.fit` with `fit_intercept=True`) and achieved the same minimum MSE, the models arrived at very different coefficients. Below, we explore a numerical optimization method called **gradient descent**. It is a simpler version of the default solver used by `scipy.optimize.minimize` and `sklearn.LinearRegression`. "
   ]
  },
  {
   "cell_type": "markdown",
   "metadata": {},
   "source": [
    "<br/>\n",
    "<hr style=\"border: 1px solid #fdb515;\" />\n",
    "\n",
    "## Question 4: Sinusoidal Data\n"
   ]
  },
  {
   "cell_type": "code",
   "execution_count": 54,
   "metadata": {},
   "outputs": [
    {
     "data": {
      "text/html": [
       "<div>\n",
       "<style scoped>\n",
       "    .dataframe tbody tr th:only-of-type {\n",
       "        vertical-align: middle;\n",
       "    }\n",
       "\n",
       "    .dataframe tbody tr th {\n",
       "        vertical-align: top;\n",
       "    }\n",
       "\n",
       "    .dataframe thead th {\n",
       "        text-align: right;\n",
       "    }\n",
       "</style>\n",
       "<table border=\"1\" class=\"dataframe\">\n",
       "  <thead>\n",
       "    <tr style=\"text-align: right;\">\n",
       "      <th></th>\n",
       "      <th>x</th>\n",
       "      <th>y</th>\n",
       "    </tr>\n",
       "  </thead>\n",
       "  <tbody>\n",
       "    <tr>\n",
       "      <th>0</th>\n",
       "      <td>-5.000000</td>\n",
       "      <td>-7.672309</td>\n",
       "    </tr>\n",
       "    <tr>\n",
       "      <th>1</th>\n",
       "      <td>-4.966555</td>\n",
       "      <td>-7.779735</td>\n",
       "    </tr>\n",
       "    <tr>\n",
       "      <th>2</th>\n",
       "      <td>-4.933110</td>\n",
       "      <td>-7.995938</td>\n",
       "    </tr>\n",
       "    <tr>\n",
       "      <th>3</th>\n",
       "      <td>-4.899666</td>\n",
       "      <td>-8.197059</td>\n",
       "    </tr>\n",
       "    <tr>\n",
       "      <th>4</th>\n",
       "      <td>-4.866221</td>\n",
       "      <td>-8.183883</td>\n",
       "    </tr>\n",
       "  </tbody>\n",
       "</table>\n",
       "</div>"
      ],
      "text/plain": [
       "          x         y\n",
       "0 -5.000000 -7.672309\n",
       "1 -4.966555 -7.779735\n",
       "2 -4.933110 -7.995938\n",
       "3 -4.899666 -8.197059\n",
       "4 -4.866221 -8.183883"
      ]
     },
     "execution_count": 54,
     "metadata": {},
     "output_type": "execute_result"
    }
   ],
   "source": [
    "# Run this cell to load the data for this problem; no further action is needed.\n",
    "df = pd.read_csv(\"data/lab7_data.csv\", index_col=0)\n",
    "df.head()"
   ]
  },
  {
   "cell_type": "markdown",
   "metadata": {},
   "source": [
    "If we plot this data, we see that there is a clear sinusoidal relationship between `x` and `y`. Here we use `plotly` to plot a scatterplot showing the relationship between `x` and `y`. If you hover over points, you will be able to see the details of the data that's attributed to a data point."
   ]
  },
  {
   "cell_type": "code",
   "execution_count": 56,
   "metadata": {},
   "outputs": [
    {
     "data": {
      "application/vnd.plotly.v1+json": {
       "config": {
        "plotlyServerURL": "https://plot.ly"
       },
       "data": [
        {
         "hovertemplate": "x=%{x}<br>y=%{y}<extra></extra>",
         "legendgroup": "",
         "marker": {
          "color": "#636efa",
          "symbol": "circle"
         },
         "mode": "markers",
         "name": "",
         "orientation": "v",
         "showlegend": false,
         "type": "scatter",
         "x": {
          "bdata": "AAAAAAAAFMBWUWOkwN0TwK2ixkiBuxPAA/Qp7UGZE8BaRY2RAncTwLCW8DXDVBPAB+hT2oMyE8BdObd+RBATwLSKGiMF7hLACtx9x8XLEsBhLeFrhqkSwLd+RBBHhxLADtCntAdlEsBkIQtZyEISwLtybv2IIBLAEcTRoUn+EcBoFTVGCtwRwL5mmOrKuRHAFbj7jouXEcBrCV8zTHURwMJawtcMUxHAGKwlfM0wEcBu/Yggjg4RwMVO7MRO7BDAHKBPaQ/KEMBz8bIN0KcQwMhCFrKQhRDAH5R5VlFjEMB15dz6EUEQwMw2QJ/SHhDARBBHhyb5D8Dzsg3Qp7QPwJ1V1BgpcA/ATPiaYaorD8D4mmGqK+cOwKU9KPOsog7AUuDuOy5eDsAAg7WErxkOwKwlfM0w1Q3AWshCFrKQDcAHawlfM0wNwLMN0Ke0Bw3AYLCW8DXDDMANU105t34MwLr1I4I4OgzAZ5jqyrn1C8AUO7ETO7ELwMHdd1y8bAvAboA+pT0oC8AaIwXuvuMKwMjFyzZAnwrAdGiSf8FaCsAjC1nIQhYKwM6tHxHE0QnAfFDmWUWNCcAo86yixkgJwNaVc+tHBAnAgjg6NMm/CMAv2wB9SnsIwNx9x8XLNgjAiSCODk3yB8A2w1RXzq0HwONlG6BPaQfAkAji6NAkB8A9q6gxUuAGwOpNb3rTmwbAmPA1w1RXBsBEk/wL1hIGwPE1w1RXzgXAntiJndiJBcBLe1DmWUUFwPgdFy/bAAXApMDdd1y8BMBSY6TA3XcEwP8FawlfMwTAq6gxUuDuA8BYS/iaYaoDwAXuvuPiZQPAspCFLGQhA8BfM0x15dwCwA3WEr5mmALAuXjZBuhTAsBmG6BPaQ8CwBO+ZpjqygHAwGAt4WuGAcBtA/Qp7UEBwBmmunJu/QDAx0iBu++4AMB060cEcXQAwCGODk3yLwDAnGGqK+fW/7/2pje96U3/v1HsxE7sxP6/rDFS4O47/r8Ed99x8bL9v168bAP0Kf2/uAH6lPag/L8QR4cm+Rf8v2qMFLj7jvu/xNGhSf4F+78eFy/bAH36v3hcvGwD9Pm/0qFJ/gVr+b8s59aPCOL4v4YsZCELWfi/4HHxsg3Q9785t35EEEf3v5T8C9YSvva/7kGZZxU19r9Jhyb5F6z1v6LMs4oaI/W//BFBHB2a9L9WV86tHxH0v7CcWz8iiPO/C+Lo0CT/8r9kJ3ZiJ3byv75sA/Qp7fG/GLKQhSxk8b9w9x0XL9vwv8o8q6gxUvC/RwRxdGiS77//jouXbYDuv7AZprpybu2/aKTA3Xdc7L8YL9sAfUrrv9C59SOCOOq/gEQQR4cm6b84zypqjBTov+hZRY2RAue/mORfsJbw5b9Qb3rTm97kvwD6lPagzOO/uISvGaa64r9oD8o8q6jhvyCa5F+wluC/n0n+BWsJ378QXzNMdeXcv290aJJ/wdq/4Imd2Imd2L9An9IelHnWv6+0B2WeVdS/D8o8q6gx0r+A33Hxsg3Qv77pTW9608u/nxS4+46Lx79gPyKIo0PDv3zUGClw972//intQZlntb9z/4K1hK+pv+5UV86tH5G/7lRXzq0fkT8A/4K1hK+pP/4p7UGZZ7U/O9QYKXD3vT9gPyKIo0PDP38UuPuOi8c/vulNb3rTyz9w33Hxsg3QPw/KPKuoMdI/n7QHZZ5V1D9An9IelHnWP8+JndiJndg/b3Rokn/B2j8AXzNMdeXcP59J/gVrCd8/GJrkX7CW4D9oD8o8q6jhP7CErxmmuuI/APqU9qDM4z9Ib3rTm97kP5jkX7CW8OU/6FlFjZEC5z8wzypqjBToP4BEEEeHJuk/yLn1I4I46j8YL9sAfUrrP2CkwN13XOw/sBmmunJu7T/4jouXbYDuP0cEcXRoku8/yDyrqDFS8D9w9x0XL9vwPxSykIUsZPE/vGwD9Cnt8T9gJ3ZiJ3byPwji6NAk//I/rZxbPyKI8z9UV86tHxH0P/gRQRwdmvQ/oMyzihoj9T9Ehyb5F6z1P+xBmWcVNfY/kPwL1hK+9j84t35EEEf3P+Bx8bIN0Pc/hSxkIQtZ+D8s59aPCOL4P9ChSf4Fa/k/eFy8bAP0+T8cFy/bAH36P8TRoUn+Bfs/aIwUuPuO+z8QR4cm+Rf8P7MB+pT2oPw/XbxsA/Qp/T8Ad99x8bL9P6gxUuDuO/4/TOzETuzE/j/zpje96U3/P5dhqivn1v8/II4OTfIvAEBy60cEcXQAQMZIgbvvuABAGaa6cm79AEBsA/Qp7UEBQMBgLeFrhgFAEr5mmOrKAUBmG6BPaQ8CQLh42QboUwJADdYSvmaYAkBeM0x15dwCQLKQhSxkIQNABO6+4+JlA0BYS/iaYaoDQKmoMVLg7gNA/gVrCV8zBEBQY6TA3XcEQKTA3XdcvARA9h0XL9sABUBKe1DmWUUFQJ3YiZ3YiQVA8TXDVFfOBUBCk/wL1hIGQJbwNcNUVwZA6E1vetObBkA8q6gxUuAGQJAI4ujQJAdA4mUboE9pB0A2w1RXzq0HQIggjg5N8gdA3H3Hxcs2CEAv2wB9SnsIQIA4OjTJvwhA1JVz60cECUAo86yixkgJQHxQ5llFjQlAzK0fEcTRCUAgC1nIQhYKQHRokn/BWgpAyMXLNkCfCkAYIwXuvuMKQGyAPqU9KAtAv913XLxsC0AUO7ETO7ELQGSY6sq59QtAuPUjgjg6DEAMU105t34MQGCwlvA1wwxAtQ3Qp7QHDUAEawlfM0wNQFjIQhaykA1ArCV8zTDVDUAAg7WErxkOQFDg7jsuXg5ApD0o86yiDkD4mmGqK+cOQEz4mmGqKw9Am1XUGClwD0Dxsg3Qp7QPQEQQR4cm+Q9AzDZAn9IeEEB05dz6EUEQQB6UeVZRYxBAyEIWspCFEEBz8bIN0KcQQBqgT2kPyhBAxE7sxE7sEEBu/Yggjg4RQBisJXzNMBFAwlrC1wxTEUBqCV8zTHURQBS4+46LlxFAvmaY6sq5EUBoFTVGCtwRQBDE0aFJ/hFAu3Ju/YggEkBkIQtZyEISQA7Qp7QHZRJAtn5EEEeHEkBgLeFrhqkSQArcfcfFyxJAtIoaIwXuEkBcObd+RBATQAboU9qDMhNAsJbwNcNUE0BaRY2RAncTQAL0Ke1BmRNArKLGSIG7E0BWUWOkwN0TQAAAAAAAABRA",
          "dtype": "f8"
         },
         "xaxis": "x",
         "y": {
          "bdata": "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",
          "dtype": "f8"
         },
         "yaxis": "y"
        }
       ],
       "layout": {
        "height": 600,
        "legend": {
         "tracegroupgap": 0
        },
        "margin": {
         "t": 60
        },
        "template": {
         "data": {
          "bar": [
           {
            "error_x": {
             "color": "#2a3f5f"
            },
            "error_y": {
             "color": "#2a3f5f"
            },
            "marker": {
             "line": {
              "color": "#E5ECF6",
              "width": 0.5
             },
             "pattern": {
              "fillmode": "overlay",
              "size": 10,
              "solidity": 0.2
             }
            },
            "type": "bar"
           }
          ],
          "barpolar": [
           {
            "marker": {
             "line": {
              "color": "#E5ECF6",
              "width": 0.5
             },
             "pattern": {
              "fillmode": "overlay",
              "size": 10,
              "solidity": 0.2
             }
            },
            "type": "barpolar"
           }
          ],
          "carpet": [
           {
            "aaxis": {
             "endlinecolor": "#2a3f5f",
             "gridcolor": "white",
             "linecolor": "white",
             "minorgridcolor": "white",
             "startlinecolor": "#2a3f5f"
            },
            "baxis": {
             "endlinecolor": "#2a3f5f",
             "gridcolor": "white",
             "linecolor": "white",
             "minorgridcolor": "white",
             "startlinecolor": "#2a3f5f"
            },
            "type": "carpet"
           }
          ],
          "choropleth": [
           {
            "colorbar": {
             "outlinewidth": 0,
             "ticks": ""
            },
            "type": "choropleth"
           }
          ],
          "contour": [
           {
            "colorbar": {
             "outlinewidth": 0,
             "ticks": ""
            },
            "colorscale": [
             [
              0,
              "#0d0887"
             ],
             [
              0.1111111111111111,
              "#46039f"
             ],
             [
              0.2222222222222222,
              "#7201a8"
             ],
             [
              0.3333333333333333,
              "#9c179e"
             ],
             [
              0.4444444444444444,
              "#bd3786"
             ],
             [
              0.5555555555555556,
              "#d8576b"
             ],
             [
              0.6666666666666666,
              "#ed7953"
             ],
             [
              0.7777777777777778,
              "#fb9f3a"
             ],
             [
              0.8888888888888888,
              "#fdca26"
             ],
             [
              1,
              "#f0f921"
             ]
            ],
            "type": "contour"
           }
          ],
          "contourcarpet": [
           {
            "colorbar": {
             "outlinewidth": 0,
             "ticks": ""
            },
            "type": "contourcarpet"
           }
          ],
          "heatmap": [
           {
            "colorbar": {
             "outlinewidth": 0,
             "ticks": ""
            },
            "colorscale": [
             [
              0,
              "#0d0887"
             ],
             [
              0.1111111111111111,
              "#46039f"
             ],
             [
              0.2222222222222222,
              "#7201a8"
             ],
             [
              0.3333333333333333,
              "#9c179e"
             ],
             [
              0.4444444444444444,
              "#bd3786"
             ],
             [
              0.5555555555555556,
              "#d8576b"
             ],
             [
              0.6666666666666666,
              "#ed7953"
             ],
             [
              0.7777777777777778,
              "#fb9f3a"
             ],
             [
              0.8888888888888888,
              "#fdca26"
             ],
             [
              1,
              "#f0f921"
             ]
            ],
            "type": "heatmap"
           }
          ],
          "histogram": [
           {
            "marker": {
             "pattern": {
              "fillmode": "overlay",
              "size": 10,
              "solidity": 0.2
             }
            },
            "type": "histogram"
           }
          ],
          "histogram2d": [
           {
            "colorbar": {
             "outlinewidth": 0,
             "ticks": ""
            },
            "colorscale": [
             [
              0,
              "#0d0887"
             ],
             [
              0.1111111111111111,
              "#46039f"
             ],
             [
              0.2222222222222222,
              "#7201a8"
             ],
             [
              0.3333333333333333,
              "#9c179e"
             ],
             [
              0.4444444444444444,
              "#bd3786"
             ],
             [
              0.5555555555555556,
              "#d8576b"
             ],
             [
              0.6666666666666666,
              "#ed7953"
             ],
             [
              0.7777777777777778,
              "#fb9f3a"
             ],
             [
              0.8888888888888888,
              "#fdca26"
             ],
             [
              1,
              "#f0f921"
             ]
            ],
            "type": "histogram2d"
           }
          ],
          "histogram2dcontour": [
           {
            "colorbar": {
             "outlinewidth": 0,
             "ticks": ""
            },
            "colorscale": [
             [
              0,
              "#0d0887"
             ],
             [
              0.1111111111111111,
              "#46039f"
             ],
             [
              0.2222222222222222,
              "#7201a8"
             ],
             [
              0.3333333333333333,
              "#9c179e"
             ],
             [
              0.4444444444444444,
              "#bd3786"
             ],
             [
              0.5555555555555556,
              "#d8576b"
             ],
             [
              0.6666666666666666,
              "#ed7953"
             ],
             [
              0.7777777777777778,
              "#fb9f3a"
             ],
             [
              0.8888888888888888,
              "#fdca26"
             ],
             [
              1,
              "#f0f921"
             ]
            ],
            "type": "histogram2dcontour"
           }
          ],
          "mesh3d": [
           {
            "colorbar": {
             "outlinewidth": 0,
             "ticks": ""
            },
            "type": "mesh3d"
           }
          ],
          "parcoords": [
           {
            "line": {
             "colorbar": {
              "outlinewidth": 0,
              "ticks": ""
             }
            },
            "type": "parcoords"
           }
          ],
          "pie": [
           {
            "automargin": true,
            "type": "pie"
           }
          ],
          "scatter": [
           {
            "fillpattern": {
             "fillmode": "overlay",
             "size": 10,
             "solidity": 0.2
            },
            "type": "scatter"
           }
          ],
          "scatter3d": [
           {
            "line": {
             "colorbar": {
              "outlinewidth": 0,
              "ticks": ""
             }
            },
            "marker": {
             "colorbar": {
              "outlinewidth": 0,
              "ticks": ""
             }
            },
            "type": "scatter3d"
           }
          ],
          "scattercarpet": [
           {
            "marker": {
             "colorbar": {
              "outlinewidth": 0,
              "ticks": ""
             }
            },
            "type": "scattercarpet"
           }
          ],
          "scattergeo": [
           {
            "marker": {
             "colorbar": {
              "outlinewidth": 0,
              "ticks": ""
             }
            },
            "type": "scattergeo"
           }
          ],
          "scattergl": [
           {
            "marker": {
             "colorbar": {
              "outlinewidth": 0,
              "ticks": ""
             }
            },
            "type": "scattergl"
           }
          ],
          "scattermap": [
           {
            "marker": {
             "colorbar": {
              "outlinewidth": 0,
              "ticks": ""
             }
            },
            "type": "scattermap"
           }
          ],
          "scattermapbox": [
           {
            "marker": {
             "colorbar": {
              "outlinewidth": 0,
              "ticks": ""
             }
            },
            "type": "scattermapbox"
           }
          ],
          "scatterpolar": [
           {
            "marker": {
             "colorbar": {
              "outlinewidth": 0,
              "ticks": ""
             }
            },
            "type": "scatterpolar"
           }
          ],
          "scatterpolargl": [
           {
            "marker": {
             "colorbar": {
              "outlinewidth": 0,
              "ticks": ""
             }
            },
            "type": "scatterpolargl"
           }
          ],
          "scatterternary": [
           {
            "marker": {
             "colorbar": {
              "outlinewidth": 0,
              "ticks": ""
             }
            },
            "type": "scatterternary"
           }
          ],
          "surface": [
           {
            "colorbar": {
             "outlinewidth": 0,
             "ticks": ""
            },
            "colorscale": [
             [
              0,
              "#0d0887"
             ],
             [
              0.1111111111111111,
              "#46039f"
             ],
             [
              0.2222222222222222,
              "#7201a8"
             ],
             [
              0.3333333333333333,
              "#9c179e"
             ],
             [
              0.4444444444444444,
              "#bd3786"
             ],
             [
              0.5555555555555556,
              "#d8576b"
             ],
             [
              0.6666666666666666,
              "#ed7953"
             ],
             [
              0.7777777777777778,
              "#fb9f3a"
             ],
             [
              0.8888888888888888,
              "#fdca26"
             ],
             [
              1,
              "#f0f921"
             ]
            ],
            "type": "surface"
           }
          ],
          "table": [
           {
            "cells": {
             "fill": {
              "color": "#EBF0F8"
             },
             "line": {
              "color": "white"
             }
            },
            "header": {
             "fill": {
              "color": "#C8D4E3"
             },
             "line": {
              "color": "white"
             }
            },
            "type": "table"
           }
          ]
         },
         "layout": {
          "annotationdefaults": {
           "arrowcolor": "#2a3f5f",
           "arrowhead": 0,
           "arrowwidth": 1
          },
          "autotypenumbers": "strict",
          "coloraxis": {
           "colorbar": {
            "outlinewidth": 0,
            "ticks": ""
           }
          },
          "colorscale": {
           "diverging": [
            [
             0,
             "#8e0152"
            ],
            [
             0.1,
             "#c51b7d"
            ],
            [
             0.2,
             "#de77ae"
            ],
            [
             0.3,
             "#f1b6da"
            ],
            [
             0.4,
             "#fde0ef"
            ],
            [
             0.5,
             "#f7f7f7"
            ],
            [
             0.6,
             "#e6f5d0"
            ],
            [
             0.7,
             "#b8e186"
            ],
            [
             0.8,
             "#7fbc41"
            ],
            [
             0.9,
             "#4d9221"
            ],
            [
             1,
             "#276419"
            ]
           ],
           "sequential": [
            [
             0,
             "#0d0887"
            ],
            [
             0.1111111111111111,
             "#46039f"
            ],
            [
             0.2222222222222222,
             "#7201a8"
            ],
            [
             0.3333333333333333,
             "#9c179e"
            ],
            [
             0.4444444444444444,
             "#bd3786"
            ],
            [
             0.5555555555555556,
             "#d8576b"
            ],
            [
             0.6666666666666666,
             "#ed7953"
            ],
            [
             0.7777777777777778,
             "#fb9f3a"
            ],
            [
             0.8888888888888888,
             "#fdca26"
            ],
            [
             1,
             "#f0f921"
            ]
           ],
           "sequentialminus": [
            [
             0,
             "#0d0887"
            ],
            [
             0.1111111111111111,
             "#46039f"
            ],
            [
             0.2222222222222222,
             "#7201a8"
            ],
            [
             0.3333333333333333,
             "#9c179e"
            ],
            [
             0.4444444444444444,
             "#bd3786"
            ],
            [
             0.5555555555555556,
             "#d8576b"
            ],
            [
             0.6666666666666666,
             "#ed7953"
            ],
            [
             0.7777777777777778,
             "#fb9f3a"
            ],
            [
             0.8888888888888888,
             "#fdca26"
            ],
            [
             1,
             "#f0f921"
            ]
           ]
          },
          "colorway": [
           "#636efa",
           "#EF553B",
           "#00cc96",
           "#ab63fa",
           "#FFA15A",
           "#19d3f3",
           "#FF6692",
           "#B6E880",
           "#FF97FF",
           "#FECB52"
          ],
          "font": {
           "color": "#2a3f5f"
          },
          "geo": {
           "bgcolor": "white",
           "lakecolor": "white",
           "landcolor": "#E5ECF6",
           "showlakes": true,
           "showland": true,
           "subunitcolor": "white"
          },
          "hoverlabel": {
           "align": "left"
          },
          "hovermode": "closest",
          "mapbox": {
           "style": "light"
          },
          "paper_bgcolor": "white",
          "plot_bgcolor": "#E5ECF6",
          "polar": {
           "angularaxis": {
            "gridcolor": "white",
            "linecolor": "white",
            "ticks": ""
           },
           "bgcolor": "#E5ECF6",
           "radialaxis": {
            "gridcolor": "white",
            "linecolor": "white",
            "ticks": ""
           }
          },
          "scene": {
           "xaxis": {
            "backgroundcolor": "#E5ECF6",
            "gridcolor": "white",
            "gridwidth": 2,
            "linecolor": "white",
            "showbackground": true,
            "ticks": "",
            "zerolinecolor": "white"
           },
           "yaxis": {
            "backgroundcolor": "#E5ECF6",
            "gridcolor": "white",
            "gridwidth": 2,
            "linecolor": "white",
            "showbackground": true,
            "ticks": "",
            "zerolinecolor": "white"
           },
           "zaxis": {
            "backgroundcolor": "#E5ECF6",
            "gridcolor": "white",
            "gridwidth": 2,
            "linecolor": "white",
            "showbackground": true,
            "ticks": "",
            "zerolinecolor": "white"
           }
          },
          "shapedefaults": {
           "line": {
            "color": "#2a3f5f"
           }
          },
          "ternary": {
           "aaxis": {
            "gridcolor": "white",
            "linecolor": "white",
            "ticks": ""
           },
           "baxis": {
            "gridcolor": "white",
            "linecolor": "white",
            "ticks": ""
           },
           "bgcolor": "#E5ECF6",
           "caxis": {
            "gridcolor": "white",
            "linecolor": "white",
            "ticks": ""
           }
          },
          "title": {
           "x": 0.05
          },
          "xaxis": {
           "automargin": true,
           "gridcolor": "white",
           "linecolor": "white",
           "ticks": "",
           "title": {
            "standoff": 15
           },
           "zerolinecolor": "white",
           "zerolinewidth": 2
          },
          "yaxis": {
           "automargin": true,
           "gridcolor": "white",
           "linecolor": "white",
           "ticks": "",
           "title": {
            "standoff": 15
           },
           "zerolinecolor": "white",
           "zerolinewidth": 2
          }
         }
        },
        "width": 800,
        "xaxis": {
         "anchor": "y",
         "domain": [
          0,
          1
         ],
         "title": {
          "text": "x"
         }
        },
        "yaxis": {
         "anchor": "x",
         "domain": [
          0,
          1
         ],
         "title": {
          "text": "y"
         }
        }
       }
      }
     },
     "metadata": {},
     "output_type": "display_data"
    }
   ],
   "source": [
    "# Run this cell to plot the data; no further action is needed.\n",
    "import plotly.express as px\n",
    "px.scatter(df, x=\"x\", y=\"y\", width=800, height=600)"
   ]
  },
  {
   "cell_type": "markdown",
   "metadata": {},
   "source": [
    "In this exercise, we'll show gradient descent is so powerful it can even optimize a non-linear model (when the analytical solution is hard to derive). Specifically, we're going to model the relationship of our data by:\n",
    "\n",
    "$$\\Large{\n",
    "\\hat{y}_\\theta(x) = \\theta_1x + \\sin(\\theta_2x)\n",
    "}$$"
   ]
  },
  {
   "cell_type": "markdown",
   "metadata": {},
   "source": [
    "Our model is parameterized by $\\theta = \\begin{bmatrix} \\theta_1 \\\\ \\theta_2 \\end{bmatrix}$.\n",
    "\n",
    "Note that a general `sin` function $a\\sin(bx+c)$ has three parameters: amplitude scaling parameter $a$, frequency parameter $b$, and phase shifting parameter $c$. \n",
    "Here, we're assuming the amplitude $a$ is around 1, and the phase shifting parameter $c$ is around zero. We do not attempt to justify this assumption and you're welcome to see what happens if you ignore this assumption at the end of this lab."
   ]
  },
  {
   "cell_type": "markdown",
   "metadata": {
    "nbgrader": {
     "grade": false,
     "grade_id": "q3a",
     "locked": true,
     "schema_version": 2,
     "solution": false
    }
   },
   "source": [
    "We define the `sin_model` function below that outputs predictions $\\hat{\\mathbb{Y}}$ for the $y$-values $\\mathbb{Y}$ using $\\mathbb{X}$ (the $x$-values) based on our new equation."
   ]
  },
  {
   "cell_type": "code",
   "execution_count": 57,
   "metadata": {
    "nbgrader": {
     "grade": false,
     "grade_id": "q3a-answer",
     "locked": false,
     "schema_version": 2,
     "solution": true
    }
   },
   "outputs": [],
   "source": [
    "# Run this cell to define the model; no further action is needed.\n",
    "def sin_model(X, theta):\n",
    "    \"\"\"\n",
    "    Outputs predictions (Y-hat) given X, theta_1, theta_2.\n",
    "\n",
    "    Keyword arguments:\n",
    "    x -- The vector of values x.\n",
    "    theta -- A vector of length 2, where theta[0] = theta_1 and theta[1] = theta_2.\n",
    "    \"\"\"\n",
    "    theta_1 = theta[0]\n",
    "    theta_2 = theta[1]\n",
    "    return theta_1 * X + np.sin(theta_2 * X)"
   ]
  },
  {
   "cell_type": "markdown",
   "metadata": {},
   "source": [
    "You might ask - Why we don't just represent this as a linear model with a sinusoidal feature, just like we did earlier? The issue is that the theta is INSIDE the `sin` function, and hence this formulation is **not linear in theta**. In other words, linear models use their parameters to adjust the scale of each feature, but $\\theta_2$ in this model adjusts the frequency of the feature. There are tricks we could play to use our linear model framework here, but we won't attempt this in our lab."
   ]
  },
  {
   "cell_type": "markdown",
   "metadata": {},
   "source": [
    "### Terminology: Loss\n",
    "\n",
    "We use the word \"loss\" in two different (but very related) contexts in this course.\n",
    "* In general, the loss is the cost function that measures how far off a model's prediction(s) is(are) from the actual value(s).\n",
    "    * **Per-datapoint loss** is a cost function that measures the cost of $y$ vs $\\hat{y}$ for a particular datapoint. For example, $L(y, \\hat{y}) = (y - \\hat{y})^2$ is the L2 loss of the observed and predicted pair ($y$, $\\hat{y}$).\n",
    "    * **Loss** (without any adjectives) is generally a cost function measured across all data points. We often use this term interchangeably with **empirical risk** to denote the average per-datapoint loss. For example, MSE can be denoted as $MSE(\\theta) = L(\\theta) = R(\\theta) = \\frac{1}{n}\\sum_{i=1}^{n} (y_i - \\hat{y_i})^2$\n",
    "* If we're being particular about notation, we usually prioritize using the latter definition, because we don't particularly look at a given data point's loss when optimizing a model. In other words, the dataset-level loss is the **objective function** that we'd like to minimize.\n",
    "    * Example: \"gradient of L2 loss\" means gradient of Mean Squared Error, not per-datapoint L2 loss.\n",
    "* In this particular lab, however, we'll stick to using $L(\\theta)$ for consistency with the lecture. In future work, we will be clearer about the distinction."
   ]
  },
  {
   "cell_type": "markdown",
   "metadata": {
    "deletable": false,
    "editable": false
   },
   "source": [
    "<br>\n",
    "\n",
    "---\n",
    "### Question 4a: Computing the Gradient of the MSE With Respect to Theta on the Sine Model"
   ]
  },
  {
   "cell_type": "markdown",
   "metadata": {
    "deletable": false,
    "editable": false
   },
   "source": [
    "Recall $\\hat{\\theta}$ is the value of $\\theta$ that minimizes our loss function. One way to solve for $\\hat{\\theta}$ is by computing the gradient of our loss function with respect to $\\theta$, like we did in Lecture 13. Recall that the gradient is a column vector of partial derivatives (one partial derivative per parameter).\n",
    "\n",
    "**Task**: Write/derive the expressions for the following values and use them to fill in the functions below. Working out the partial derivatives on paper is a great starting point for implementing `sin_MSE_dt1` and `sin_MSE_dt2`!\n",
    "\n",
    "* $L(\\theta)$ as `sin_mse`: Our cost function, mean squared error, where `theta` represents $\\theta = \\begin{bmatrix} \\theta_1 \\\\ \\theta_2 \\end{bmatrix}$. \n",
    "Recall that $$L(\\vec{\\theta}, \\mathbb{X}, \\mathbb{Y}) = \\frac{1}{n} \\sum_{i=1}^{n} (y_i - \\hat{y}_i)^2.$$\n",
    "* $\\frac{\\partial L }{\\partial \\theta_1}$ as `sin_MSE_dt1`: The partial derivative of $L$ with respect to $\\theta_1$.\n",
    "* $\\frac{\\partial L }{\\partial \\theta_2}$ as `sin_MSE_dt2`: The partial derivative of $L$ with respect to $\\theta_2$.\n",
    "* We have completed for you `sin_MSE_gradient`, which computes $\\nabla_{\\vec{\\theta}} L(\\vec{\\theta}, \\mathbb{X}, \\mathbb{Y})$  by calling `dt1` and `dt2` and returns the gradient `dt`.\n",
    "\n",
    "**Notes:**\n",
    "* We are still working with the `DataFrame` `df`.\n",
    "* To keep our code more concise, use `np.mean` instead of taking `np.sum` and then dividing by the length of the `NumPy` array.\n",
    "* Another way to keep your code more concise is to use the function `sin_model` we defined which computes the output of the model.\n",
    "* Review the \"Terminology: Loss\" section above."
   ]
  },
  {
   "cell_type": "code",
   "execution_count": 64,
   "metadata": {
    "tags": [
     "otter_answer_cell"
    ]
   },
   "outputs": [],
   "source": [
    "def sin_MSE(theta, X, Y):\n",
    "    \"\"\"\n",
    "    Returns the numerical value of the l2 loss of our sinusoidal model given theta.\n",
    "\n",
    "    Keyword arguments:\n",
    "    theta -- The vector of values theta.\n",
    "    X     -- The vector of x values - note that sin_model only needs a vector of X values and handles the transformations.\n",
    "    Y     -- The vector of y values.\n",
    "    \"\"\"\n",
    "    return np.sum((Y - sin_model(X, theta)) ** 2) / Y.shape[0]\n",
    "\n",
    "def sin_MSE_dt1(theta, X, Y):\n",
    "    \"\"\"\n",
    "    Returns the numerical value of the partial derivative of l2 loss with respect to theta_1.\n",
    "\n",
    "    Keyword arguments:\n",
    "    theta -- The vector of values theta.\n",
    "    X     -- The vector of x values.\n",
    "    Y     -- The vector of y values.\n",
    "    \"\"\"\n",
    "    theta_1 = theta[0]\n",
    "    return -2 * np.sum((Y - sin_model(X, theta)) * X) / Y.shape[0]\n",
    "    \n",
    "def sin_MSE_dt2(theta, X, Y):\n",
    "    \"\"\"\n",
    "    Returns the numerical value of the partial of l2 loss with respect to theta_2.\n",
    "\n",
    "    Keyword arguments:\n",
    "    theta -- The vector of values theta.\n",
    "    X     -- The vector of x values.\n",
    "    Y     -- The vector of y values.\n",
    "    \"\"\"\n",
    "    theta_2 = theta[1]\n",
    "    return -2 * np.sum((Y - sin_model(X, theta)) * np.cos(theta_2 * X) * X) / Y.shape[0]\n",
    "    \n",
    "# This function calls dt1 and dt2 and returns the gradient dt.\n",
    "# It is already implemented for you.\n",
    "def sin_MSE_gradient(theta, X, Y):\n",
    "    \"\"\"\n",
    "    Returns the gradient of l2 loss with respect to vector theta.\n",
    "\n",
    "    Keyword arguments:\n",
    "    theta -- The vector of values theta.\n",
    "    X     -- The vector of x values.\n",
    "    Y     -- The vector of y values.\n",
    "    \"\"\"\n",
    "    return np.array([sin_MSE_dt1(theta, X, Y), sin_MSE_dt2(theta, X, Y)])"
   ]
  },
  {
   "cell_type": "code",
   "execution_count": 65,
   "metadata": {
    "deletable": false,
    "editable": false
   },
   "outputs": [
    {
     "data": {
      "text/html": [
       "<p><strong><pre style='display: inline;'>q4a</pre></strong> passed! 💯</p>"
      ],
      "text/plain": [
       "q4a results: All test cases passed!"
      ]
     },
     "execution_count": 65,
     "metadata": {},
     "output_type": "execute_result"
    }
   ],
   "source": [
    "grader.check(\"q4a\")"
   ]
  },
  {
   "cell_type": "markdown",
   "metadata": {
    "deletable": false,
    "editable": false
   },
   "source": [
    "<br>\n",
    "\n",
    "---\n",
    "### Question 4b: Implementing Gradient Descent and Using It to Optimize the Sine Model"
   ]
  },
  {
   "cell_type": "markdown",
   "metadata": {
    "deletable": false,
    "editable": false
   },
   "source": [
    "Let's now implement gradient descent. \n",
    "\n",
    "Recall that the gradient descent update function follows the form:\n",
    "\n",
    "$$\\large\n",
    "\\vec{\\theta}^{(t+1)} \\leftarrow \\vec{\\theta}^{(t)} - \\alpha \\left (\\nabla_{\\vec{\\theta}} L(\\vec{\\theta}, \\mathbb{X}, \\mathbb{Y}) \\right )\n",
    "$$\n",
    "where \n",
    "\n",
    "- $\\vec{\\theta}^{(t+1)}$: Our new coefficients after making an update.\n",
    "- $\\vec{\\theta}^{(t)}$: Our current coefficients.\n",
    "- $\\alpha$: Our step size or learning rate.\n",
    "- $\\nabla_{\\vec{\\theta}} L(\\vec{\\theta}, \\mathbb{X}, \\mathbb{Y})$: The gradient of our loss.\n",
    "\n",
    "At each time step, use the gradient and `alpha` to update your current `theta`. Save the current `theta` in `theta_history`, along with the average squared loss (computed with the current `theta`) in `loss_history`.\n",
    "\n",
    "After completing the function, the cell will output the trajectory from running gradient descent over time.\n",
    "\n",
    "\n",
    "Note that the function you're implementing here is somewhat different than the gradient descent function we created in the lecture. The version in the lecture was `gradient_descent(df, initial_guess, alpha, n)`, where `df` was the gradient of the function we are minimizing and `initial_guess` are the starting parameters for that function. Here our signature is a bit different (described below in docstring) than the `gradient_descent` implementation from the lecture.\n",
    "\n",
    "**Hints:**\n",
    "- Write out the gradient update equation (1 step). What variables will you need for each gradient update? Of these variables, which ones do you already have, and which ones will you need to recompute at each time step?\n",
    "- You may need a loop here to update `theta` several times. Take a look at `num_iter`.\n",
    "- Be sure to include the initial theta and loss into the trajectory because the test checks for this.\n",
    "- Don't forget that `sin_MSE` and `sin_MSE_gradient` require the $x$ and $y$ values to be supplied."
   ]
  },
  {
   "cell_type": "code",
   "execution_count": 71,
   "metadata": {
    "tags": [
     "otter_answer_cell"
    ]
   },
   "outputs": [
    {
     "name": "stdout",
     "output_type": "stream",
     "text": [
      "theta: [0 0], Loss: 20.859191416422235\n",
      "theta: [2.60105745 2.60105745], Loss: 9.285008173048666\n",
      "theta: [0.90342728 2.59100602], Loss: 4.680169273815357\n",
      "theta: [2.05633644 2.9631291 ], Loss: 2.6242517936325833\n",
      "theta: [1.15892347 2.86687431], Loss: 1.4765157174727774\n",
      "theta: [1.79388042 3.07275573], Loss: 0.9073271435862448\n",
      "theta: [1.32157494 3.00146569], Loss: 0.541531643291128\n",
      "theta: [1.64954491 3.02910866], Loss: 0.3775841142469479\n",
      "theta: [1.42325294 2.98820303], Loss: 0.2969750688130759\n",
      "theta: [1.58295041 3.01033846], Loss: 0.2590425421375732\n",
      "theta: [1.47097255 2.98926519], Loss: 0.23973439443291833\n",
      "theta: [1.55040965 3.0017442 ], Loss: 0.23034782416254634\n",
      "theta: [1.49439132 2.99135194], Loss: 0.2255775832667724\n",
      "theta: [1.5341564  2.99797824], Loss: 0.22321772191904068\n",
      "theta: [1.50603995 2.99286671], Loss: 0.22202363967204045\n",
      "theta: [1.52598919 2.99628665], Loss: 0.22142811500262397\n",
      "theta: [1.51186655 2.99375531], Loss: 0.22112776381775168\n",
      "theta: [1.52188208 2.99549617], Loss: 0.22097741373654575\n",
      "theta: [1.51478773 2.99423497], Loss: 0.22090173185683032\n",
      "theta: [1.51981739 2.99511516], Loss: 0.2208637810584589\n",
      "theta: [1.51625373 2.99448441], Loss: 0.2208446977760149\n"
     ]
    }
   ],
   "source": [
    "def init_theta():\n",
    "    \"\"\"Creates an initial theta [0, 0] of shape (2,) as a starting point for gradient descent.\"\"\"\n",
    "    return np.array([0, 0])\n",
    "\n",
    "def grad_desc(loss_f, gradient_loss_f, theta, data, num_iter=20, alpha=0.1):\n",
    "    \"\"\"\n",
    "    Run gradient descent update for a finite number of iterations and static learning rate.\n",
    "\n",
    "    Keyword arguments:\n",
    "    loss_f -- The loss function to be minimized (used for computing loss_history).\n",
    "    gradient_loss_f -- The gradient of the loss function to be minimized.\n",
    "    theta -- The vector of values theta to use at the first iteration.\n",
    "    data -- The data used in the model. \n",
    "    num_iter -- The max number of iterations.\n",
    "    alpha -- The learning rate (also called the step size).\n",
    "    \n",
    "    Return:\n",
    "    theta -- The optimal value of theta after num_iter of gradient descent.\n",
    "    theta_history -- The list of theta values over each iteration of gradient descent.\n",
    "    loss_history -- The list of loss values over each iteration of gradient descent.\n",
    "    \"\"\"\n",
    "    theta_history = []\n",
    "    loss_history = []\n",
    "\n",
    "    for i in range(num_iter + 1):\n",
    "        if i > 0:\n",
    "            theta = theta - alpha * gradient_loss_f(theta, data['x'], data['y'])\n",
    "        theta_history.append(theta)\n",
    "        loss_history.append(loss_f(theta, data['x'], data['y']))\n",
    "    return theta, theta_history, loss_history\n",
    "\n",
    "theta_start = init_theta()\n",
    "theta_hat, thetas_used, losses_calculated = grad_desc(\n",
    "    sin_MSE, sin_MSE_gradient, theta_start, df, num_iter=20, alpha=0.1\n",
    ")\n",
    "for b, l in zip(thetas_used, losses_calculated):\n",
    "    print(f\"theta: {b}, Loss: {l}\")"
   ]
  },
  {
   "cell_type": "code",
   "execution_count": 72,
   "metadata": {
    "deletable": false,
    "editable": false
   },
   "outputs": [
    {
     "data": {
      "text/html": [
       "<p><strong><pre style='display: inline;'>q4b</pre></strong> passed! ✨</p>"
      ],
      "text/plain": [
       "q4b results: All test cases passed!"
      ]
     },
     "execution_count": 72,
     "metadata": {},
     "output_type": "execute_result"
    }
   ],
   "source": [
    "grader.check(\"q4b\")"
   ]
  },
  {
   "cell_type": "markdown",
   "metadata": {},
   "source": [
    "Let's visually inspect our results of running gradient descent to optimize $\\vec{\\theta}$. The code below plots our $x$-values with our model's predicted $\\hat{y}$-values over the original scatter plot. You should notice that gradient descent successfully optimized $\\vec{\\theta}$."
   ]
  },
  {
   "cell_type": "code",
   "execution_count": 73,
   "metadata": {},
   "outputs": [],
   "source": [
    "theta_init = init_theta()\n",
    "theta_est, thetas, loss = grad_desc(sin_MSE, sin_MSE_gradient, theta_init, df)"
   ]
  },
  {
   "cell_type": "markdown",
   "metadata": {},
   "source": [
    "Plotting our model output over our observations shows that gradient descent did  a great job finding both the overall increase (slope) of the data, as well as the oscillation frequency."
   ]
  },
  {
   "cell_type": "code",
   "execution_count": 74,
   "metadata": {},
   "outputs": [
    {
     "data": {
      "image/png": "[encoded data removed]",
      "text/plain": [
       "<Figure size 640x480 with 1 Axes>"
      ]
     },
     "metadata": {},
     "output_type": "display_data"
    }
   ],
   "source": [
    "X, Y = df['x'], df['y']\n",
    "Y_pred = sin_model(X, theta_est)\n",
    "\n",
    "plt.plot(X, Y_pred, label='Model ($\\hat{y}$)')\n",
    "plt.scatter(X, Y, alpha=0.5, label='Observation ($y$)', color='gold')\n",
    "plt.legend()\n",
    "plt.show();"
   ]
  },
  {
   "cell_type": "markdown",
   "metadata": {},
   "source": [
    "## Visualizing Loss\n",
    "\n",
    "Let's visualize our loss functions and gain some insight as to how gradient descent optimizes our model parameters.\n",
    "\n",
    "In the previous plot, we saw the loss decrease with each iteration. In this part, we'll see the trajectory of the algorithm as it travels the loss surface. Run the following cells to see a visualization of this trajectory. "
   ]
  },
  {
   "cell_type": "code",
   "execution_count": 75,
   "metadata": {},
   "outputs": [
    {
     "data": {
      "text/plain": [
       "array([[0.        , 0.        ],\n",
       "       [2.60105745, 2.60105745],\n",
       "       [0.90342728, 2.59100602],\n",
       "       [2.05633644, 2.9631291 ],\n",
       "       [1.15892347, 2.86687431],\n",
       "       [1.79388042, 3.07275573],\n",
       "       [1.32157494, 3.00146569],\n",
       "       [1.64954491, 3.02910866],\n",
       "       [1.42325294, 2.98820303],\n",
       "       [1.58295041, 3.01033846],\n",
       "       [1.47097255, 2.98926519],\n",
       "       [1.55040965, 3.0017442 ],\n",
       "       [1.49439132, 2.99135194],\n",
       "       [1.5341564 , 2.99797824],\n",
       "       [1.50603995, 2.99286671],\n",
       "       [1.52598919, 2.99628665],\n",
       "       [1.51186655, 2.99375531],\n",
       "       [1.52188208, 2.99549617],\n",
       "       [1.51478773, 2.99423497],\n",
       "       [1.51981739, 2.99511516],\n",
       "       [1.51625373, 2.99448441]])"
      ]
     },
     "execution_count": 75,
     "metadata": {},
     "output_type": "execute_result"
    }
   ],
   "source": [
    "thetas = np.array(thetas).squeeze()\n",
    "loss = np.array(loss)\n",
    "thetas"
   ]
  },
  {
   "cell_type": "code",
   "execution_count": 76,
   "metadata": {},
   "outputs": [
    {
     "data": {
      "text/html": [
       "        <script type=\"text/javascript\">\n",
       "        window.PlotlyConfig = {MathJaxConfig: 'local'};\n",
       "        if (window.MathJax && window.MathJax.Hub && window.MathJax.Hub.Config) {window.MathJax.Hub.Config({SVG: {font: \"STIX-Web\"}});}\n",
       "        </script>\n",
       "        <script type=\"module\">import \"https://cdn.plot.ly/plotly-3.0.1.min\"</script>\n",
       "        "
      ]
     },
     "metadata": {},
     "output_type": "display_data"
    },
    {
     "data": {
      "application/vnd.plotly.v1+json": {
       "config": {
        "linkText": "Export to plot.ly",
        "plotlyServerURL": "https://plot.ly",
        "showLink": false
       },
       "data": [
        {
         "line": {
          "color": "rgb(50,170, 140)",
          "width": 3
         },
         "marker": {
          "color": {
           "bdata": "lIn69/PbNMBorFyX7JEiwMYfS0t+uBLAZfhwuXf+BMB5Nenxzp/3v4k7D+/SCO2/sec1KzpU4b9VgYuPVirYv4DjEbijAdO/ozqwKyeU0L90aujbna/Ov4LPvZkJfM2/arZr67nfzL/V08P3ZZLMv1VHqkdFa8y/BfQsqMFXzL+M3Oog6k3Mv5uZk+b8SMy/cjj6CIJGzL+TLEKuQ0XMv9SzOJmjRMy/",
           "dtype": "f8"
          },
          "colorscale": [
           [
            0,
            "#440154"
           ],
           [
            0.1111111111111111,
            "#482878"
           ],
           [
            0.2222222222222222,
            "#3e4989"
           ],
           [
            0.3333333333333333,
            "#31688e"
           ],
           [
            0.4444444444444444,
            "#26828e"
           ],
           [
            0.5555555555555556,
            "#1f9e89"
           ],
           [
            0.6666666666666666,
            "#35b779"
           ],
           [
            0.7777777777777778,
            "#6ece58"
           ],
           [
            0.8888888888888888,
            "#b5de2b"
           ],
           [
            1,
            "#fde725"
           ]
          ],
          "size": 4
         },
         "type": "scatter3d",
         "x": {
          "bdata": "AAAAAAAAAAAQXfo1984EQFJCAFLg6Ow/YkkyhWBzAEDOOwhW84ryP+a7Z/S7s/w//uG3xCsl9T+pTks0iWT6P6sI1eCkxfY/wnpjzsNT+T/b7NODGon3P9CiKFp6zvg/NWgH3wbp9z912qyV54v4Pz1nDFq9GPg/VdKSo3Nq+D+T2Kz7mjD4P8yH7QWhWfg/64iQD5I8+D9AzlEKLFH4P7JYW0STQvg/",
          "dtype": "f8"
         },
         "y": {
          "bdata": "AAAAAAAAAAAQXfo1984EQLPMp11hugRAQlSSB320B0C4KS/MW+8GQIYPefQAlQhAancLcgADCEBIHiBSnTsIQES62/zW5wdA+YzdVCwVCEBY0IzdA+oHQKdxIHeSAwhAiPip7EnuB0CCX2wD3PsHQBCP8Blk8QdA5+pRImX4B0BJWkz8NfMHQMs+wrHG9gdAIzNadzH0B0B3kO/v/vUHQNA0cz609AdA",
          "dtype": "f8"
         },
         "z": {
          "bdata": "lIn69/PbNEBorFyX7JEiQMYfS0t+uBJAZfhwuXf+BEB5Nenxzp/3P4k7D+/SCO0/sec1KzpU4T9VgYuPVirYP4DjEbijAdM/ozqwKyeU0D90aujbna/OP4LPvZkJfM0/arZr67nfzD/V08P3ZZLMP1VHqkdFa8w/BfQsqMFXzD+M3Oog6k3MP5uZk+b8SMw/cjj6CIJGzD+TLEKuQ0XMP9SzOJmjRMw/",
          "dtype": "f8"
         }
        },
        {
         "type": "surface",
         "x": {
          "bdata": "mpmZmZmZub8crQ71iu6lv/BjVyR1WI0/ii+dw2JNsj9LuVdx23fAP9Ha4IAFycc/V/xpkC8azz/ujvnPrDXTP7IfvtdB3tY/drCC39aG2j84QUfnay/eP/3ohXcA7OA/XzFo+0rA4j/BeUp/lZTkPyLCLAPgaOY/gwoPhyo96D/lUvEKdRHqP0eb046/5es/qeO1Egq67T8JLJiWVI7vPzU6PY1PsfA/Zl4uz3Sb8T+Wgh8RmoXyP8emEFO/b/M/+MoBleRZ9D8p7/LWCUT1P1oT5BgvLvY/ijfVWlQY9z+7W8aceQL4P+x/t96e7Pg/HKSoIMTW+T9NyJli6cD6P37siqQOq/s/rxB85jOV/D/gNG0oWX/9PxBZXmp+af4/Qn1PrKNT/z+5UCB35B4AQNHiGBj3kwBA6nQRuQkJAUACBwpaHH4BQBqZAvsu8wFAMyv7m0FoAkBLvfM8VN0CQGNP7N1mUgNAfOHkfnnHA0CUc90fjDwEQK0F1sCesQRAxZfOYbEmBUDdKccCxJsFQA==",
          "dtype": "f8"
         },
         "y": {
          "bdata": "mpmZmZmZub8UUYNfxwChvwyRLHSkMaE/ljnuIwiyuT9TFeMGn2XFP9sNz/s58s0/MoNdeGo/0z92f9Pyt4XXP7p7SW0FzNs//7vfcykJ4D8huhoxUCziP0O4Ve52T+Q/ZbaQq51y5j+HtMtoxJXoP6myBibruOo/y7BB4xHc7D/trnygOP/uP4fW264vkfA/mFV5DcOi8T+p1BZsVrTyP7pTtMrpxfM/y9JRKX3X9D/cUe+HEOn1P+3QjOaj+vY//k8qRTcM+D8Pz8ejyh35PyBOZQJeL/o/Mc0CYfFA+z9CTKC/hFL8P1PLPR4YZP0/ZErbfKt1/j92yXjbPof/P0MkCx1pTABAy+NZzDLVAEBUo6h7/F0BQN1i9yrG5gFAZSJG2o9vAkDt4ZSJWfgCQHah4zgjgQNA/2Ay6OwJBECHIIGXtpIEQA/gz0aAGwVAmJ8e9kmkBUAhX22lEy0GQKkevFTdtQZAMd4KBKc+B0C6nVmzcMcHQENdqGI6UAhAyxz3EQTZCEBT3EXBzWEJQA==",
          "dtype": "f8"
         },
         "z": {
          "bdata": "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",
          "dtype": "f8",
          "shape": "50, 50"
         }
        }
       ],
       "layout": {
        "autosize": true,
        "height": 700,
        "scene": {
         "aspectmode": "manual",
         "aspectratio": {
          "x": 1,
          "y": 1,
          "z": 0.7
         },
         "camera": {
          "eye": {
           "x": -1.7428,
           "y": 1.0707,
           "z": 0.71
          },
          "up": {
           "x": 0,
           "y": 0,
           "z": 1
          }
         },
         "xaxis": {
          "gridcolor": "rgb(255, 255, 255)",
          "showbackground": true,
          "zerolinecolor": "rgb(255, 255, 255)"
         },
         "yaxis": {
          "gridcolor": "rgb(255, 255, 255)",
          "showbackground": true,
          "zerolinecolor": "rgb(255, 255, 255)"
         },
         "zaxis": {
          "gridcolor": "rgb(255, 255, 255)",
          "showbackground": true,
          "zerolinecolor": "rgb(255, 255, 255)"
         }
        },
        "template": {
         "data": {
          "bar": [
           {
            "error_x": {
             "color": "#2a3f5f"
            },
            "error_y": {
             "color": "#2a3f5f"
            },
            "marker": {
             "line": {
              "color": "#E5ECF6",
              "width": 0.5
             },
             "pattern": {
              "fillmode": "overlay",
              "size": 10,
              "solidity": 0.2
             }
            },
            "type": "bar"
           }
          ],
          "barpolar": [
           {
            "marker": {
             "line": {
              "color": "#E5ECF6",
              "width": 0.5
             },
             "pattern": {
              "fillmode": "overlay",
              "size": 10,
              "solidity": 0.2
             }
            },
            "type": "barpolar"
           }
          ],
          "carpet": [
           {
            "aaxis": {
             "endlinecolor": "#2a3f5f",
             "gridcolor": "white",
             "linecolor": "white",
             "minorgridcolor": "white",
             "startlinecolor": "#2a3f5f"
            },
            "baxis": {
             "endlinecolor": "#2a3f5f",
             "gridcolor": "white",
             "linecolor": "white",
             "minorgridcolor": "white",
             "startlinecolor": "#2a3f5f"
            },
            "type": "carpet"
           }
          ],
          "choropleth": [
           {
            "colorbar": {
             "outlinewidth": 0,
             "ticks": ""
            },
            "type": "choropleth"
           }
          ],
          "contour": [
           {
            "colorbar": {
             "outlinewidth": 0,
             "ticks": ""
            },
            "colorscale": [
             [
              0,
              "#0d0887"
             ],
             [
              0.1111111111111111,
              "#46039f"
             ],
             [
              0.2222222222222222,
              "#7201a8"
             ],
             [
              0.3333333333333333,
              "#9c179e"
             ],
             [
              0.4444444444444444,
              "#bd3786"
             ],
             [
              0.5555555555555556,
              "#d8576b"
             ],
             [
              0.6666666666666666,
              "#ed7953"
             ],
             [
              0.7777777777777778,
              "#fb9f3a"
             ],
             [
              0.8888888888888888,
              "#fdca26"
             ],
             [
              1,
              "#f0f921"
             ]
            ],
            "type": "contour"
           }
          ],
          "contourcarpet": [
           {
            "colorbar": {
             "outlinewidth": 0,
             "ticks": ""
            },
            "type": "contourcarpet"
           }
          ],
          "heatmap": [
           {
            "colorbar": {
             "outlinewidth": 0,
             "ticks": ""
            },
            "colorscale": [
             [
              0,
              "#0d0887"
             ],
             [
              0.1111111111111111,
              "#46039f"
             ],
             [
              0.2222222222222222,
              "#7201a8"
             ],
             [
              0.3333333333333333,
              "#9c179e"
             ],
             [
              0.4444444444444444,
              "#bd3786"
             ],
             [
              0.5555555555555556,
              "#d8576b"
             ],
             [
              0.6666666666666666,
              "#ed7953"
             ],
             [
              0.7777777777777778,
              "#fb9f3a"
             ],
             [
              0.8888888888888888,
              "#fdca26"
             ],
             [
              1,
              "#f0f921"
             ]
            ],
            "type": "heatmap"
           }
          ],
          "histogram": [
           {
            "marker": {
             "pattern": {
              "fillmode": "overlay",
              "size": 10,
              "solidity": 0.2
             }
            },
            "type": "histogram"
           }
          ],
          "histogram2d": [
           {
            "colorbar": {
             "outlinewidth": 0,
             "ticks": ""
            },
            "colorscale": [
             [
              0,
              "#0d0887"
             ],
             [
              0.1111111111111111,
              "#46039f"
             ],
             [
              0.2222222222222222,
              "#7201a8"
             ],
             [
              0.3333333333333333,
              "#9c179e"
             ],
             [
              0.4444444444444444,
              "#bd3786"
             ],
             [
              0.5555555555555556,
              "#d8576b"
             ],
             [
              0.6666666666666666,
              "#ed7953"
             ],
             [
              0.7777777777777778,
              "#fb9f3a"
             ],
             [
              0.8888888888888888,
              "#fdca26"
             ],
             [
              1,
              "#f0f921"
             ]
            ],
            "type": "histogram2d"
           }
          ],
          "histogram2dcontour": [
           {
            "colorbar": {
             "outlinewidth": 0,
             "ticks": ""
            },
            "colorscale": [
             [
              0,
              "#0d0887"
             ],
             [
              0.1111111111111111,
              "#46039f"
             ],
             [
              0.2222222222222222,
              "#7201a8"
             ],
             [
              0.3333333333333333,
              "#9c179e"
             ],
             [
              0.4444444444444444,
              "#bd3786"
             ],
             [
              0.5555555555555556,
              "#d8576b"
             ],
             [
              0.6666666666666666,
              "#ed7953"
             ],
             [
              0.7777777777777778,
              "#fb9f3a"
             ],
             [
              0.8888888888888888,
              "#fdca26"
             ],
             [
              1,
              "#f0f921"
             ]
            ],
            "type": "histogram2dcontour"
           }
          ],
          "mesh3d": [
           {
            "colorbar": {
             "outlinewidth": 0,
             "ticks": ""
            },
            "type": "mesh3d"
           }
          ],
          "parcoords": [
           {
            "line": {
             "colorbar": {
              "outlinewidth": 0,
              "ticks": ""
             }
            },
            "type": "parcoords"
           }
          ],
          "pie": [
           {
            "automargin": true,
            "type": "pie"
           }
          ],
          "scatter": [
           {
            "fillpattern": {
             "fillmode": "overlay",
             "size": 10,
             "solidity": 0.2
            },
            "type": "scatter"
           }
          ],
          "scatter3d": [
           {
            "line": {
             "colorbar": {
              "outlinewidth": 0,
              "ticks": ""
             }
            },
            "marker": {
             "colorbar": {
              "outlinewidth": 0,
              "ticks": ""
             }
            },
            "type": "scatter3d"
           }
          ],
          "scattercarpet": [
           {
            "marker": {
             "colorbar": {
              "outlinewidth": 0,
              "ticks": ""
             }
            },
            "type": "scattercarpet"
           }
          ],
          "scattergeo": [
           {
            "marker": {
             "colorbar": {
              "outlinewidth": 0,
              "ticks": ""
             }
            },
            "type": "scattergeo"
           }
          ],
          "scattergl": [
           {
            "marker": {
             "colorbar": {
              "outlinewidth": 0,
              "ticks": ""
             }
            },
            "type": "scattergl"
           }
          ],
          "scattermap": [
           {
            "marker": {
             "colorbar": {
              "outlinewidth": 0,
              "ticks": ""
             }
            },
            "type": "scattermap"
           }
          ],
          "scattermapbox": [
           {
            "marker": {
             "colorbar": {
              "outlinewidth": 0,
              "ticks": ""
             }
            },
            "type": "scattermapbox"
           }
          ],
          "scatterpolar": [
           {
            "marker": {
             "colorbar": {
              "outlinewidth": 0,
              "ticks": ""
             }
            },
            "type": "scatterpolar"
           }
          ],
          "scatterpolargl": [
           {
            "marker": {
             "colorbar": {
              "outlinewidth": 0,
              "ticks": ""
             }
            },
            "type": "scatterpolargl"
           }
          ],
          "scatterternary": [
           {
            "marker": {
             "colorbar": {
              "outlinewidth": 0,
              "ticks": ""
             }
            },
            "type": "scatterternary"
           }
          ],
          "surface": [
           {
            "colorbar": {
             "outlinewidth": 0,
             "ticks": ""
            },
            "colorscale": [
             [
              0,
              "#0d0887"
             ],
             [
              0.1111111111111111,
              "#46039f"
             ],
             [
              0.2222222222222222,
              "#7201a8"
             ],
             [
              0.3333333333333333,
              "#9c179e"
             ],
             [
              0.4444444444444444,
              "#bd3786"
             ],
             [
              0.5555555555555556,
              "#d8576b"
             ],
             [
              0.6666666666666666,
              "#ed7953"
             ],
             [
              0.7777777777777778,
              "#fb9f3a"
             ],
             [
              0.8888888888888888,
              "#fdca26"
             ],
             [
              1,
              "#f0f921"
             ]
            ],
            "type": "surface"
           }
          ],
          "table": [
           {
            "cells": {
             "fill": {
              "color": "#EBF0F8"
             },
             "line": {
              "color": "white"
             }
            },
            "header": {
             "fill": {
              "color": "#C8D4E3"
             },
             "line": {
              "color": "white"
             }
            },
            "type": "table"
           }
          ]
         },
         "layout": {
          "annotationdefaults": {
           "arrowcolor": "#2a3f5f",
           "arrowhead": 0,
           "arrowwidth": 1
          },
          "autotypenumbers": "strict",
          "coloraxis": {
           "colorbar": {
            "outlinewidth": 0,
            "ticks": ""
           }
          },
          "colorscale": {
           "diverging": [
            [
             0,
             "#8e0152"
            ],
            [
             0.1,
             "#c51b7d"
            ],
            [
             0.2,
             "#de77ae"
            ],
            [
             0.3,
             "#f1b6da"
            ],
            [
             0.4,
             "#fde0ef"
            ],
            [
             0.5,
             "#f7f7f7"
            ],
            [
             0.6,
             "#e6f5d0"
            ],
            [
             0.7,
             "#b8e186"
            ],
            [
             0.8,
             "#7fbc41"
            ],
            [
             0.9,
             "#4d9221"
            ],
            [
             1,
             "#276419"
            ]
           ],
           "sequential": [
            [
             0,
             "#0d0887"
            ],
            [
             0.1111111111111111,
             "#46039f"
            ],
            [
             0.2222222222222222,
             "#7201a8"
            ],
            [
             0.3333333333333333,
             "#9c179e"
            ],
            [
             0.4444444444444444,
             "#bd3786"
            ],
            [
             0.5555555555555556,
             "#d8576b"
            ],
            [
             0.6666666666666666,
             "#ed7953"
            ],
            [
             0.7777777777777778,
             "#fb9f3a"
            ],
            [
             0.8888888888888888,
             "#fdca26"
            ],
            [
             1,
             "#f0f921"
            ]
           ],
           "sequentialminus": [
            [
             0,
             "#0d0887"
            ],
            [
             0.1111111111111111,
             "#46039f"
            ],
            [
             0.2222222222222222,
             "#7201a8"
            ],
            [
             0.3333333333333333,
             "#9c179e"
            ],
            [
             0.4444444444444444,
             "#bd3786"
            ],
            [
             0.5555555555555556,
             "#d8576b"
            ],
            [
             0.6666666666666666,
             "#ed7953"
            ],
            [
             0.7777777777777778,
             "#fb9f3a"
            ],
            [
             0.8888888888888888,
             "#fdca26"
            ],
            [
             1,
             "#f0f921"
            ]
           ]
          },
          "colorway": [
           "#636efa",
           "#EF553B",
           "#00cc96",
           "#ab63fa",
           "#FFA15A",
           "#19d3f3",
           "#FF6692",
           "#B6E880",
           "#FF97FF",
           "#FECB52"
          ],
          "font": {
           "color": "#2a3f5f"
          },
          "geo": {
           "bgcolor": "white",
           "lakecolor": "white",
           "landcolor": "#E5ECF6",
           "showlakes": true,
           "showland": true,
           "subunitcolor": "white"
          },
          "hoverlabel": {
           "align": "left"
          },
          "hovermode": "closest",
          "mapbox": {
           "style": "light"
          },
          "paper_bgcolor": "white",
          "plot_bgcolor": "#E5ECF6",
          "polar": {
           "angularaxis": {
            "gridcolor": "white",
            "linecolor": "white",
            "ticks": ""
           },
           "bgcolor": "#E5ECF6",
           "radialaxis": {
            "gridcolor": "white",
            "linecolor": "white",
            "ticks": ""
           }
          },
          "scene": {
           "xaxis": {
            "backgroundcolor": "#E5ECF6",
            "gridcolor": "white",
            "gridwidth": 2,
            "linecolor": "white",
            "showbackground": true,
            "ticks": "",
            "zerolinecolor": "white"
           },
           "yaxis": {
            "backgroundcolor": "#E5ECF6",
            "gridcolor": "white",
            "gridwidth": 2,
            "linecolor": "white",
            "showbackground": true,
            "ticks": "",
            "zerolinecolor": "white"
           },
           "zaxis": {
            "backgroundcolor": "#E5ECF6",
            "gridcolor": "white",
            "gridwidth": 2,
            "linecolor": "white",
            "showbackground": true,
            "ticks": "",
            "zerolinecolor": "white"
           }
          },
          "shapedefaults": {
           "line": {
            "color": "#2a3f5f"
           }
          },
          "ternary": {
           "aaxis": {
            "gridcolor": "white",
            "linecolor": "white",
            "ticks": ""
           },
           "baxis": {
            "gridcolor": "white",
            "linecolor": "white",
            "ticks": ""
           },
           "bgcolor": "#E5ECF6",
           "caxis": {
            "gridcolor": "white",
            "linecolor": "white",
            "ticks": ""
           }
          },
          "title": {
           "x": 0.05
          },
          "xaxis": {
           "automargin": true,
           "gridcolor": "white",
           "linecolor": "white",
           "ticks": "",
           "title": {
            "standoff": 15
           },
           "zerolinecolor": "white",
           "zerolinewidth": 2
          },
          "yaxis": {
           "automargin": true,
           "gridcolor": "white",
           "linecolor": "white",
           "ticks": "",
           "title": {
            "standoff": 15
           },
           "zerolinecolor": "white",
           "zerolinewidth": 2
          }
         }
        },
        "title": {
         "text": "Gradient Descent"
        },
        "width": 800
       }
      },
      "text/html": [
       "<div>            <script src=\"https://cdnjs.cloudflare.com/ajax/libs/mathjax/2.7.5/MathJax.js?config=TeX-AMS-MML_SVG\"></script><script type=\"text/javascript\">if (window.MathJax && window.MathJax.Hub && window.MathJax.Hub.Config) {window.MathJax.Hub.Config({SVG: {font: \"STIX-Web\"}});}</script>                <script type=\"text/javascript\">window.PlotlyConfig = {MathJaxConfig: 'local'};</script>\n",
       "        <script charset=\"utf-8\" src=\"https://cdn.plot.ly/plotly-3.0.1.min.js\" integrity=\"sha256-oy6Be7Eh6eiQFs5M7oXuPxxm9qbJXEtTpfSI93dW16Q=\" crossorigin=\"anonymous\"></script>                <div id=\"b0836f52-eafc-4cba-b66a-5b371461fb40\" class=\"plotly-graph-div\" style=\"height:700px; width:800px;\"></div>            <script type=\"text/javascript\">                window.PLOTLYENV=window.PLOTLYENV || {};                                if (document.getElementById(\"b0836f52-eafc-4cba-b66a-5b371461fb40\")) {                    Plotly.newPlot(                        \"b0836f52-eafc-4cba-b66a-5b371461fb40\",                        [{\"line\":{\"color\":\"rgb(50,170, 140)\",\"width\":3},\"marker\":{\"color\":{\"dtype\":\"f8\",\"bdata\":\"lIn69\\u002fPbNMBorFyX7JEiwMYfS0t+uBLAZfhwuXf+BMB5Nenxzp\\u002f3v4k7D+\\u002fSCO2\\u002fsec1KzpU4b9VgYuPVirYv4DjEbijAdO\\u002fozqwKyeU0L90aujbna\\u002fOv4LPvZkJfM2\\u002farZr67nfzL\\u002fV08P3ZZLMv1VHqkdFa8y\\u002fBfQsqMFXzL+M3Oog6k3Mv5uZk+b8SMy\\u002fcjj6CIJGzL+TLEKuQ0XMv9SzOJmjRMy\\u002f\"},\"colorscale\":[[0.0,\"#440154\"],[0.1111111111111111,\"#482878\"],[0.2222222222222222,\"#3e4989\"],[0.3333333333333333,\"#31688e\"],[0.4444444444444444,\"#26828e\"],[0.5555555555555556,\"#1f9e89\"],[0.6666666666666666,\"#35b779\"],[0.7777777777777778,\"#6ece58\"],[0.8888888888888888,\"#b5de2b\"],[1.0,\"#fde725\"]],\"size\":4},\"x\":{\"dtype\":\"f8\",\"bdata\":\"AAAAAAAAAAAQXfo1984EQFJCAFLg6Ow\\u002fYkkyhWBzAEDOOwhW84ryP+a7Z\\u002fS7s\\u002fw\\u002f\\u002fuG3xCsl9T+pTks0iWT6P6sI1eCkxfY\\u002fwnpjzsNT+T\\u002fb7NODGon3P9CiKFp6zvg\\u002fNWgH3wbp9z912qyV54v4Pz1nDFq9GPg\\u002fVdKSo3Nq+D+T2Kz7mjD4P8yH7QWhWfg\\u002f64iQD5I8+D9AzlEKLFH4P7JYW0STQvg\\u002f\"},\"y\":{\"dtype\":\"f8\",\"bdata\":\"AAAAAAAAAAAQXfo1984EQLPMp11hugRAQlSSB320B0C4KS\\u002fMW+8GQIYPefQAlQhAancLcgADCEBIHiBSnTsIQES62\\u002fzW5wdA+YzdVCwVCEBY0IzdA+oHQKdxIHeSAwhAiPip7EnuB0CCX2wD3PsHQBCP8Blk8QdA5+pRImX4B0BJWkz8NfMHQMs+wrHG9gdAIzNadzH0B0B3kO\\u002fv\\u002fvUHQNA0cz609AdA\"},\"z\":{\"dtype\":\"f8\",\"bdata\":\"lIn69\\u002fPbNEBorFyX7JEiQMYfS0t+uBJAZfhwuXf+BEB5Nenxzp\\u002f3P4k7D+\\u002fSCO0\\u002fsec1KzpU4T9VgYuPVirYP4DjEbijAdM\\u002fozqwKyeU0D90aujbna\\u002fOP4LPvZkJfM0\\u002farZr67nfzD\\u002fV08P3ZZLMP1VHqkdFa8w\\u002fBfQsqMFXzD+M3Oog6k3MP5uZk+b8SMw\\u002fcjj6CIJGzD+TLEKuQ0XMP9SzOJmjRMw\\u002f\"},\"type\":\"scatter3d\"},{\"x\":{\"dtype\":\"f8\",\"bdata\":\"mpmZmZmZub8crQ71iu6lv\\u002fBjVyR1WI0\\u002fii+dw2JNsj9LuVdx23fAP9Ha4IAFycc\\u002fV\\u002fxpkC8azz\\u002fujvnPrDXTP7IfvtdB3tY\\u002fdrCC39aG2j84QUfnay\\u002feP\\u002f3ohXcA7OA\\u002fXzFo+0rA4j\\u002fBeUp\\u002flZTkPyLCLAPgaOY\\u002fgwoPhyo96D\\u002flUvEKdRHqP0eb046\\u002f5es\\u002fqeO1Egq67T8JLJiWVI7vPzU6PY1PsfA\\u002fZl4uz3Sb8T+Wgh8RmoXyP8emEFO\\u002fb\\u002fM\\u002f+MoBleRZ9D8p7\\u002fLWCUT1P1oT5BgvLvY\\u002fijfVWlQY9z+7W8aceQL4P+x\\u002ft96e7Pg\\u002fHKSoIMTW+T9NyJli6cD6P37siqQOq\\u002fs\\u002frxB85jOV\\u002fD\\u002fgNG0oWX\\u002f9PxBZXmp+af4\\u002fQn1PrKNT\\u002fz+5UCB35B4AQNHiGBj3kwBA6nQRuQkJAUACBwpaHH4BQBqZAvsu8wFAMyv7m0FoAkBLvfM8VN0CQGNP7N1mUgNAfOHkfnnHA0CUc90fjDwEQK0F1sCesQRAxZfOYbEmBUDdKccCxJsFQA==\"},\"y\":{\"dtype\":\"f8\",\"bdata\":\"mpmZmZmZub8UUYNfxwChvwyRLHSkMaE\\u002fljnuIwiyuT9TFeMGn2XFP9sNz\\u002fs58s0\\u002fMoNdeGo\\u002f0z92f9Pyt4XXP7p7SW0FzNs\\u002f\\u002f7vfcykJ4D8huhoxUCziP0O4Ve52T+Q\\u002fZbaQq51y5j+HtMtoxJXoP6myBibruOo\\u002fy7BB4xHc7D\\u002ftrnygOP\\u002fuP4fW264vkfA\\u002fmFV5DcOi8T+p1BZsVrTyP7pTtMrpxfM\\u002fy9JRKX3X9D\\u002fcUe+HEOn1P+3QjOaj+vY\\u002f\\u002fk8qRTcM+D8Pz8ejyh35PyBOZQJeL\\u002fo\\u002fMc0CYfFA+z9CTKC\\u002fhFL8P1PLPR4YZP0\\u002fZErbfKt1\\u002fj92yXjbPof\\u002fP0MkCx1pTABAy+NZzDLVAEBUo6h7\\u002fF0BQN1i9yrG5gFAZSJG2o9vAkDt4ZSJWfgCQHah4zgjgQNA\\u002f2Ay6OwJBECHIIGXtpIEQA\\u002fgz0aAGwVAmJ8e9kmkBUAhX22lEy0GQKkevFTdtQZAMd4KBKc+B0C6nVmzcMcHQENdqGI6UAhAyxz3EQTZCEBT3EXBzWEJQA==\"},\"z\":{\"dtype\":\"f8\",\"bdata\":\"V0FlXKRSOkDQwuJChqw4QKxU3VBxFDdA5vZUhmWKNUB+qUnjYg40QHlsu2dpoDJA1D+qE3lAMUAbRyzOI90vQE8v\\u002fsNnVS1AQDjKCL7pKkD0YZCcJpooQGisUH+hZiZAmhcLsS5PJECNo78xzlMiQEFQbgGAdCBAZjsuQIhiHUDLF3QbNRQaQLA1rpQG\\u002fhZAFJXcq\\u002fwfFED6Nf9gF3oRQL0wLGitGA5AhHhCSnWtCUBOQ0FohrIFQBSRKMLgJwJAscPwrwgb\\u002fj89a2FT4sb4P8cYo25OU\\u002fQ\\u002fU8y1AU3A8D+1CzMZvBvsP8GKnB4DeOg\\u002fzRWoE2+V5j\\u002fXrFX4\\u002f3PmP+BPpcy1E+g\\u002f6P6WkJB06z\\u002f2XBUiSEvwP3VAsHPavPM\\u002f+ykcPf8O+D92GVl+tkH9P3eHsxuAqgFAOgUjNG4kBUD2BXuIpQ4JQLCJuxgmaQ1AOUhy8vcZEUAWDXt2gbcTQHETeJgvjRZAU1tpWAKbGUCu5E62+eAcQMhXFNmKLyBA9V37JasKIkDhhNzB3QEkQGVO\\u002fjdjeDhAbJy4XxTiNkDU+u+uzlk1QJtppCWS3zNAw+jVw15zMkBLeISJNBUxQGMwYO0mii9A8pCxFvcFLUA\\u002fEv2O2Z0qQE20QlbOUShAHXeCbNUhJkCsWrzR7g0kQPde8IUaFiJABYQeiVg6IECnk422UfUcQMRg0vgWrhlAXm8L2QCfFkB3vzhXD8gTQBBRWnNCKRFAWUjgWjSFDUCOcfQKLSgJQMAd8fZuOwVA9UzWHvq+AUBL\\u002fkcFnWX9P6xotETYLfg\\u002fDtnx+6XW8z9tTwArBmDwP52Xv6Pxk+s\\u002fWpwg4fso6D8UrSMOK3\\u002fmP87JyCp\\u002fluY\\u002fg\\u002fIPN\\u002fhu6D86J\\u002fkylgjsP\\u002fczQo+ssfA\\u002fUNrYfKA\\u002f9D+mhkDiJq74PwM5eb8\\u002f\\u002ff0\\u002fqXhBinUWAkDQ165wlJ4FQAC6BJP8lglAJh9D8a3\\u002fDUCkA7VFVGwRQDy5vDD2EBRAT7C4ubztFkDg6KjgpwIaQPZijaW3Tx1AQw8zBHZqIEDPjZmEIkkiQBYt+lPhQyRAH+1UcrJaJkCqajYCW6A2QKMd\\u002f6FmGjVA++BEaXuiM0CztAdYmTgyQMuYR27A3DBAiRoJWOEdL0A3JH0iVJ4sQKlO6zvZOipA2JlTpHDzJ0DGBbZbGsglQHeSEmLWuCNA5z9pt6TFIUAuHHS3Ct0fQAr6CZ7wZhxAahmUIvsoGUBJehJFKiMWQKYchQV+VRNAggDsY\\u002fa\\u002fEEC\\u002fS47AJsUMQH0ZLfWpeghAN2q0ZXagBEDwPSQSjDYBQFQp+fTVefw\\u002fw9x6PSZn9z8wls39CDXzPzqr4mv8xu8\\u002fEzbMywvl6j\\u002fszFcbQMTnP8FvhVqZZOY\\u002flB5ViRfG5j9k2canuujoPzOg2rWCzOw\\u002fgTnI2bc48T\\u002fnKHTQwOv0P00e8T5cf\\u002fk\\u002fqxk\\u002fJYrz\\u002fj+MDa9BJaQCQDoRp6zOPgZA55eHU8FJCkCdoVA2\\u002fcQOQCUXgSpB2BFA+R7OVyiGFEBUaA8jNGwXQCnzRIxkihpAe79uk7ngHUCsZkacmbcgQFWOz73omiJAw9ZSLkqaJEDsP9DtvbUmQNTJR\\u002fxD7ShA9\\u002feaLYDqNEAztj2BWXQzQM+EXfw7DDJAyWP6nieyMEBGpijSOMwuQLylVrU0UCxA8cV+50LwKUDmBqFoY6wnQJtovTiWhCVADuvTV9t4I0BEjuTFMokhQHKk3gU5ax9A2m3oHTH8G0DDeObTTcUYQCzF2CePxhVAFFO\\u002fGfX\\u002fEkB7Ipqpf3EQQMRm0q5dNgxAkwtZRgX6B0BkM8gZ9i0EQDPeHykw0gBA\\u002fhfA6GbN+z+aeRH3\\u002f9b2PzHhM30rwfI\\u002fjJ1O9tIX7z+3hNfhc27qP+F3Ar05huc\\u002fCXfPhyRf5j8wgj5CNPnmP1SZT+xoVOk\\u002fcbwChsJw7T\\u002fJ9auHIKfxP1mTJ0RydvU\\u002f6DZ0eFYm+j924JEkzbb\\u002fP\\u002f1HQCTrEwNAyCIg8ri8BkCKgOj7z9UKQEthmUEwXw9AimKZ4WwsEkDrVVpAZuEUQMmKDz2EzhdALgG518bzGkAMuVYQLlEeQDVZdPNc8yBAp3a3LTXaIkDVtPS2H90kQMkTLI8c\\u002fCZAdpNdtis3KUDlM4ksTY4rQP+xIMjIcDNATVarQtYIMkD7CrPk7K4wQA6gb1wZxi5A6EpzPmtKLECDFnFvz+opQN4Cae9FpydA9w9bvs5\\u002fJUDRPUfcaXQjQGqMLUkXhSFAifcbCq5jH0C8F9EfUvUbQG55etMavxhAnxwYJQjBFUBUAaoUGvsSQIUnMKJQbRBAbR5Vm1cvDEDOcDIuV\\u002fQHQDBG+PyfKQRAlJ6mBzLPAEDs83qcGsr7P6yweaFj1vY\\u002fb3NJHj\\u002fD8j9aeNQlWiHvP9QVuP5afeo\\u002fT789x4Ca5z\\u002fGdGV\\u002fy3jmPzw2Lyc7GOc\\u002frwObvs946T8i3ahFiZrtP0dhLN6zvvE\\u002f\\u002fllVkbWQ9T+1WE+8SUP6P2xdGl9w1v8\\u002fETTbvBQlA0BnvBGGOs8GQMbHMIup6QpAG1Y4zGF0D0C4M5SksTcSQOZ9AAFX7RRAjwlh+yDbF0C41rWTDwEbQGbl\\u002fskiXx5AyBoeT636IECb4zaI2+EiQDLNSRAc5SRAh9dW524EJ0CfAl4N1D8pQHFOX4JLlytAA7taRtUKLkC3DA5uKkYyQHC+7zjm6TBAEQGdVlY3L0ADplSK8rYsQLVrBg2hUipAJ1Ky3mEKKEBaWVj\\u002fNN4lQE2B+G4aziNA\\u002fcmSLRLaIUBuMyc7HAIgQEF7ay9xjBxAJNF8hs5MGUCEaIJ7UEUWQGVBfA73dRNAyVtqP8LeEEBVb5kcZP8MQBaqRvaMsQhA12fcC\\u002f\\u002fTBECYqFpdumYBQLfYgtV90\\u002fw\\u002fOGYhaBm69z+4+ZByR4HzPzeT0fQHKfA\\u002famXG3bVi6z9gsIvBgDToP1UH85Rwx+Y\\u002fTGr8V4Ub5z892acKvzDpPyxU9awdB+0\\u002fj21yn1BP8T8DNzvgpPv0P3gG1ZiLiPk\\u002f7ds\\u002fyQT2\\u002fj+x2704CKICQGxMxEhXOQZAIECzlO9ACkDgtooc0bgOQElYJfB90BFApJb577d8FECCFsKNFmEXQNrXfsmZfRpAsdovo0HSHUCJj2oNh68gQHNSN5j\\u002fkSJAIDb+cYqQJECQOr+aJ6smQLpfehLX4ShAqqUv2Zg0K0BVDN\\u002fubKMtQOBJxKkpFzBARiZmp+J2MUADxFCfDSMwQEHkcH2Dui1APWE6C\\u002f5KK0D3\\u002fv3nivcoQHK9uxMqwCZArpxzjtukJECpnCVYn6UiQGO90XB1wiBAuP3vsLv2HUAvwjAesaAaQCXIZSnLghdAlw+P0gmdFECKmKwZbe8RQADGfP3p8w5A592IA0N5CkDMeH1F5W4GQLGWWsPQ1AJAK29A+gpW\\u002fz\\u002f5tpzlBuP5P8MEykiVUPU\\u002fiVjII7ae8T+gZC\\u002ft0prtPyskcIJeuek\\u002fse9SBw+Z5z83x9d75DnnP72q\\u002ft\\u002fem+g\\u002fPJrHM\\u002f6+6z\\u002ffSpk7oVHwP57OH9VVpPM\\u002fWVh35pzX9z8Y6J9vduv8P+q+TDjxbwFAyAyydHDaBECn3f\\u002fsOLUIQH4xNqFKAA1AMYSqyNLdEEAcMa7epHMTQIgfppKbQRZAeU+S5LZHGUDjwHLU9oUcQM1zR2Jb\\u002fB9AHzQIR3LVIUAUz+YrycgjQMiKv18y2CVAQWeS4q0DKEB1ZF+0O0sqQG2CJtXbrixAIsHnRI4uL0BJkNGBKeUwQAhakh9rCTFAQV371Jt0L0A1J8y5c\\u002fIsQOoRl+1djCpAXR1ccFpCKECPSRtCaRQmQIOW1GKKAiRANwSI0r0MIkCnkjWRAzMgQLWDuj236hxAmyP+9ounGUABBTZOhZwWQOUnYkOjyRNASIyC1uUuEUBaZC4PmpgNQCQzQK2xQwlA6oQ6hxJfBUCvWR2dvOoBQOpi0d1fzf0\\u002feRg5+dil+D8F1HGM5F70P42Ve5eC+PA\\u002fLLqsNGbl7D85VQQq7JrpP0T8\\u002fQ6XEeg\\u002fTq+Z42ZJ6D9WbtenW0LqP1k5t1t1\\u002fO0\\u002fMIic\\u002f9m78T+xeS7JC1r1PyxxkQrQ2Pk\\u002frG7FwyY4\\u002fz8WOWX6B7wCQNU90M5FTAZAk8Uj38xMCkBP0F8rnb0OQAkvwllbzxFAZbfIuwx4FEBAgcO74lgXQKKMslndcRpAfdmVlfzCHUDrs7Y3IKYgQNybnHPUhiJAiaR8\\u002fpqDJED2zVbYc5wmQCcYKwFf0ShAEoP5eFwiK0DDDsI\\u002fbI8tQJhdwipHDDBALcQgXeFeMUDegWzPZv8wQIJVOe82Yi9ACsiTjrLhLEBUW+h8QH0qQFoPN7rgNChAJOR\\u002fRpMIJkCr2cIhWPgjQPLv\\u002f0svBCJA+SY3xRgsIECC\\u002fdAaKeAcQI\\u002fuJ0lFoBlAHyFzFYaYFkAslbJ\\u002f68gTQLhK5od1MRFAjIMcXEikDUCn9FTk7lUJQMHodajedwVA119\\u002fqBcKAkDgs+LIMxn+PxSul7jK\\u002fvg\\u002fRK4dIPTE9D9xtHT\\u002fr2vxPz2BOa385e0\\u002flKUrS7616j\\u002fm1b\\u002fYpEbpPzoS9lWwmOk\\u002fjFrOwuCr6z\\u002fXrkgfNoDvP5OHsjXYivI\\u002fub2R0yc29j\\u002fa+UHpCcL6P\\u002f6dYTs\\u002fFwBAEcIKvsI9A0AiaZx8j9QGQDOTFnel2wpAQUB5rQRTD0ArOOKPVh0SQLAR\\u002fGZPyRRAtSwK3GytF0A\\u002fiQzvrskaQEQnA6AVHh5AYwN3d1DVIEDqk+ZtqLciQCtFULMStiRALBe0R4\\u002fQJkDxCRIrHgcpQHEdal2\\u002fWStAuFG83nLILUBbU4RXnCkwQDyOJ2cIfTFATebMrAdWMUCsP19+xQQwQNdS3e4Ygy1AFEf2L7kYK0ATXAnAa8ooQNCRFp8wmCZAT+gdzQeCJECMXx9K8YciQIr3GhbtqSBAjGAhYvbPHUCJEwE2N4QaQAMI1aeccBdA\\u002fT2dtyaVFEB1tVll1fERQN7cFGJRDQ9A0tFeNUGnCkDDSZFEerEGQLRErI\\u002f8KwNApMKvFsgWAEAshzezueP6Pw6P4LB1evY\\u002f7JxaJsTx8j\\u002fJsKUTpUnwP0uVg\\u002fEwBO0\\u002fANVdqzw26z+zINpUbSnrP2Z4+O3C3ew\\u002fCW5cu54p8D\\u002fipY137sTyP7jjj6vQQPY\\u002fiSdjV0Wd+j9gcQd7TNr\\u002fP5pgPgvz+wJAg4vhFAl7BkBuOW1aaGoKQFJq4dsQyg5AIA+fTAHNEUCRqkHJHm0UQIKH2ONgRRdA+aVjnMdVGkDoBePyUp4dQKxTq3OBjyBAJ0XfvOtrIkBfVw1VaGQkQFeKNTz3eCZAEd5XcpipKECJUnT3S\\u002fYqQMTnissRXy1Aup2b7unjL0A4OlMwakIxQElTLT\\u002fOBTJAuiFrhzGuMEAYAUzuO8kuQH3fuxwnUixAot4lmiT3KUCE\\u002folmNLgnQCc\\u002f6IFWlSVAiqBA7IqOI0CsIpOl0aMhQB+Lv1tVqh9AYxJNCixFHEAr285WJxgZQG3lREFHIxZAMTGvyYtmE0B2vg3w9OEQQHcawWgFKw1A\\u002fTpPLWoCCUCC3sUtGEoFQAgFJWoPAgJAIF3ZxJ9U\\u002fj8ttjkts4X5PzUVaw1Zl\\u002fU\\u002fP3ptZZGJ8j9G5UA1XFzwP5qsyvlyH+4\\u002fpJq1eFJH7T+slELnVjDuP1fNuCJAbfA\\u002fWlahSeei8j9d5VroILn1P1l65f7sr\\u002fk\\u002fWRVBjUuH\\u002fj8s27ZJnh8CQKyutQjgawVAKwWdA2soCUCm3mw6P1UNQJSdklYu+RBAUA3jreF\\u002fE0CNviejuT4WQE+xYDa2NRlAieWNZ9dkHEBEW682HcwfQEOJ4tHDtSFAn4VnV4uhI0C8ouYrZaklQJ3gX09RzSdAOT\\u002fTwU8NKkCavkCDYGksQLVeqJOD4S5AyQ+Fedy6MEBGvvwz7QEzQNk6EfU0oTFAzsei3YVOMEBBymLbvxMuQKclekqGpitAzaGLCF9VKUC0PpcVSiAnQFr8nHFHByVAv9qcHFcKI0Dl2ZYWeSkhQJbzFb9ayR5A5XTy7ud3G0CuN8O8mV4YQPc7iChwfRVAw4FBMmvUEkAOCe\\u002fZimMQQK6jIT+eVQxAQLhNBnBUCEDST2IJi8MEQGZqX0jvogFA8g+Khjnl\\u002fT8UUSb0JmX5PzeYk9mmxfU\\u002fV+XRNrkG8z92OOELXijxP5ORwViVKvA\\u002fsfByHV8N8D\\u002fMVfVZu9DwP+jASA6qdPI\\u002fAjJtOiv59D8YqWLePl74PzEmKfrko\\u002fw\\u002fplTgxg7lAEAxmZRMdOgDQLxgMQ4jXAdAQ6u2CxtAC0DUeCRFXJQPQKxkPV1zLBJAb87cNd3GFEC2eXCsa5kXQHdm+MAepBpAuJR0c\\u002fbmHUBAgvJh+bAgQODaJNmJiiJAP1RRnyyAJEBj7ne04ZEmQEOpmBipvyhA5oSzy4IJK0BGgcjNbm8tQGOe1x5t8S9AmDeQ\\u002fOA3NEAWE0ihHcwyQPP+fG1jbjFAMfsuYbIeMECdD7z4FLotQJpJFH7XUitAUqRmUqwHKUDPH7N1k9gmQAe8+eeMxSRAAXk6qZjOIkC8VnW5tvMgQG+qVDHOaR5A4uiyjVMkG0DUaAWI\\u002fRYYQEkqTCDMQRVAPS2HVr+kEkCxcbYq1z8QQETvszknJgxAKn7jWek8CEARkPu19MMEQPYk\\u002fE1JuwFAsXnKQ85F\\u002fj99r21jnPX5P0Hr4fr8hfY\\u002fAy0nCvD28z\\u002fGdD2RdUjyP4nCJJCNevE\\u002fShbdBjiN8T8KcGb1dIDyP8nPwFtEVPQ\\u002fhTXsOaYI9z9CoeiPmp36PwATtl0hE\\u002f8\\u002fX0WqUZ00AkA8BGIw808FQBVGAkuS2whA9wqLoXrXDEBoKf4Z1qEQQNMOK4ETEBNAxDVMhnW2FUAvnmEp\\u002fJQYQBhIa2qnqxtAiTNpSXf6HkA5sC3jtUAhQG3noHBCICNAZj8OTeEbJUAauHV4kjMnQJNR1\\u002fJVZylAxgszvCu3K0C65ojUEyMuQJs+tETTjzVAJjxfxgIYNEAOSodvO64yQFloLEB9UjFAApdOOMgEMEAUrNuvOIotQOZKFD7zJitAdwpHG8DfKEDJ6nNHn7QmQNrrmsKQpSRArQ28jJSyIkA9UNelqtsgQB1n2RumQR5AP2\\u002f4iRsEG0DhuAuWtf4XQAREE0B0MRVApRAPiFecEkDFHv9tXz8QQMvcxuMXNQxAEP93J7pbCEBSpBGnpfIEQJDMk2La+QFApO\\u002f8s7Di\\u002fj8hTKMaP7L6P5yuGvlfYvc\\u002fGBdjTxPz9D+ThXwdWWTzPw76ZmMxtvI\\u002fh3QiIZzo8j\\u002f+9K5WmfvzP3R7DAQp7\\u002fU\\u002f6gc7KUvD+D9gmjrG\\u002f3f8P2uZhW2jhgBApWjWM5BBA0Daug82xmwGQBiQMXRFCApAS+g77g0UDkDBYRfSD0gRQOAQBUs9vhNAdwHnYY9sFkCQM70WBlMZQDCnh2mhcRxASFxGWmHIH0BvqXz0oqshQH5F0IonjyNASQIecL6OJUDZ32WkZ6onQCTepycj4ilALv3j+fA1LEC1AIubKO42QE\\u002fJ0D0+ajVARqKTB130M0Cfi9P4hIwyQFeFkBG2MjFA4B6Vo+DNL0DQUwNzZ1ItQIGpa5EA8ypA8R\\u002fO\\u002fquvKEAgtyq7aYgmQBFvgcY5fSRAw0fSIByOIkAxQR3KELsgQMG2xIQvCB5AoCxDE2LSGkAA5LU\\u002fudQXQN7cHAo1DxVAPBd4ctWBEkAak8d4miwQQPKgFjoIHwxAsJ6GviRVCEBqH99+ivsEQCYjIHs5EgJAv1OTZmMy\\u002fz8wZ7dO5iD7P6CArK777\\u002fc\\u002fEKByhqOf9T+BxQnW3S\\u002f0P+\\u002fwcZ2qoPM\\u002fXCKr3Any8z\\u002fIWbWT+yP1PzOXkMJ\\u002fNvc\\u002fn9o8aZYp+j8JJLqHP\\u002f39P7k5BI+9WAFAa+QTliQjBEAiEgzZ1F0HQNLC7FfOCAtAgva1EhEkD0Cc1rOEztcRQHLzAB65VRRAyVFCVcgLF0Ck8Xcq\\u002fPkZQPnSoZ1UIB1A6Ppf12g\\u002fIEAULemuuQoiQP9\\u002fbNUc8iNArvPpSpL1JUAYiGEPGhUoQEE90yK0UCpAbK57yTE2OEDxwzpkCac2QNfpdibqJTVAHiAwENSyM0DDZmYhx00yQMm9GVrD9jBAYEqUdJFbL0DsOe+DruUsQDdKROLdiypAQ3uTjx9OKEAOzdyLcywmQJo\\u002fINfZJiRA5dJdcVI9IkDvhpVa3W8gQHa3jiX1fB1AjKLmM1RSGkAgzzLg118XQDM9cyqApRRAyeynEk0jEkC9u6ExfbIPQOgg3HmpjgtAEAn\\u002f\\u002fR7bB0A6dAq+3ZcEQGBi\\u002frnlxAFACqe1423E\\u002fj9Xjz\\u002fLot\\u002f6P6J9mipq2\\u002fc\\u002f7HHGAcS39T82bMNQsHT0P31skRcvEvQ\\u002fw3IwVkCQ9D8Kf6AM5O71P0+R4ToaLvg\\u002flKnz4OJN+z\\u002fXx9b+PU7\\u002fPwp2RcqVFwJAMAsI0VX4BEBNI7MTX0kIQGq+RpKxCgxAR25hpiYeEEDUvpMhGW8SQOFQujow+BRAdCTV8Wu5F0CAOeRGzLIaQAqQ5zlR5B1AD5RvZf2mIEDUgOV85HciQF2OVePdZCRAory\\u002fmOltJkCnCySdB5MoQGYPN+2PTTlAY1rzh860N0DBtSxKFio2QH0h4zNnrTRAm50WRcE+M0AXKsd9JN4xQPXG9N2QizBAYeg+ywyOLkCaY44pCiEsQJP\\u002f19YZ0ClATbwb0zubJ0DGmVkecIIlQP6Xkbi2hSNA9rbDoQ+lIUBg7d+z9cAfQFCuLMLwbxxAwLBtbhBXGUCw9KK4VHYWQB96zKC9zRNAEUHqJktdEUACk\\u002fiV+kkOQOAmBRqoSQpAwD362Z65BkCb19fV3pkDQHf0nQ1o6gBApyiZAnVW\\u002fT9ebsdhrLj5Pxa6xjh2+\\u002fY\\u002fywuXh9Ie9T9\\u002fYzhOwSL0PzHBqoxCB\\u002fQ\\u002f5STuQlbM9D+WjgJx\\u002fHH2P0f+5xY1+Pg\\u002f93OeNABf\\u002fD\\u002fQ9xLlLlMAQKw4v+sm5wJAf\\u002fxTLmjrBUBTQ9Gs8l8JQCwNN2fGRA1A\\u002f6zCrvHMEEDnFN7HpC8TQFS+7X58yhVAPKnx03idGECi1enGmagbQI9D1lff6x5Ae3lbw6QzIUDx8cUpbA0jQCSLKt9FAyVAFkWJ4zEVJ0AAj9P+kR86QLlP4Rl3fzhA0iBsXGXtNkBLAnTGXGk1QCL0+Fdd8zNAWvb6EGeLMkDyCHrxeTExQNdX7PIryy9Ah77eUXZPLUD2Rcv\\u002f0u8qQCbusfxBrChAFreSSMOEJkDEoG3jVnkkQDWrQs38iSJAZdYRBrW2IECpRLYb\\u002f\\u002f4dQAYePcm4yBpA4zi4FJfKF0A\\u002flSf+mQQVQB8zi4XBdhJAfRLjqg0hEECxZl7c\\u002fAYMQG0r354nPAhAJnNInZvhBEDcPZrXWPcBQCcXqZu++v4\\u002flLju\\u002f13n+j8FYAXcj7T3P3AN7S9UYvU\\u002f2sCl+6rw8z9Eei8\\u002flF\\u002fzP605ivoPr\\u002fM\\u002fFv+1LR7f9D99yrLYvu\\u002f2P+SbgPvx4Pk\\u002fRnMflrey\\u002fT9ZqEfUhzIBQAgaaBn9+wNAtw5xmrs1B0BshmJXw98KQBiBPFAU+g5AYX9\\u002fQlfCEUC8\\u002f9T6yD8UQJHBHlFf9RZA5cRcRRrjGUDBCY\\u002fX+QgdQArI2gN\\u002fMyBA+CvoapP+IUCisO8guuUjQApW8SXz6CVAZdpE8sWfOkAHEjIb8vo4QApanGsnZDdAbLKD42XbNUAwG+iCrWA0QFKUyUn+8zJA1B0oOFiVMUC3twNOu0QwQPLDuBZPBC5ANTlk4DmbK0A5zwn5Nk4pQP+FqWBGHSdAg11DF2gIJUDFVdccnA8jQMluZXHiMiFAHVHbKXbkHkAiBuAOTJsbQKn82JFGihhAsDTGsmWxFUA4rqdxqRATQD9pfc4RqBBAicuOkj3vDECXRwvEoP4IQKBGcDFNfgVAqsi92kJuAkBmm+d\\u002fA53\\u002fP3erJMITPvs\\u002fisEyfLa\\u002f9z+b3RGu6yH1P6n\\u002fwVezZPM\\u002fuCdDeQ2I8j\\u002fGVZUS+ovyP9KJuCN5cPM\\u002f3sOsrIo19T\\u002foA3KtLtv3P+9JCCZlYfs\\u002f\\u002fZVvFi7I\\u002fz8A9FO\\u002fxIcCQAGgWK+7mwVACc9F2\\u002fsfCUAHgRtDhRQNQALbbPOrvBBABjdA4zknE0CF1Adx7MkVQIKzw5zDpBhABdRzZr+3G0ADNhjO3wIfQMNs2GkSQyFAQt+eO8cgI0CAcl9cjholQO3brw8ryzpAFCqtLGEkOUCbiCdxoIs3QIL3Ht3oADZAyHaTcDqENEBvBoUrlRUzQHam8w35tDFA3lbfF2ZiMEBGL5CSuDsuQJPRW0S3zitAn5QhRch9KUBteOGU60gnQPl8mzMhMCVARKJPIWkzI0BQ6P1dw1IhQDyeTNNfHB9AUq2RiF3LG0Dp\\u002fcrbf7IYQAGQ+MzG0RVAmmMaXDIpE0CxeDCJwrgQQI+edajuAA1Av85yeqEACUDqgViInXAFQBS4JtLiUAJAfuK6r+JC\\u002fz\\u002fTWvkyksT6PynZCC7UJvc\\u002ffV3poKhp9D\\u002fP55qLD43yPyB4He4IkfE\\u002fbw5xyJR18T+\\u002fqpUaszryPw5Ni+Rj4PM\\u002fXPVRJqdm9j+mo+nffM35P\\u002fdXUhHlFP4\\u002fHwlG3W+eAUBAactttqIEQGhMOTpGFwhAirKPQh\\u002f8C0DVTWfDoCgQQOgDe4NWixJAd\\u002fuC4TAmFUCFNH\\u002fdL\\u002fkXQBqvb3dTBBtAKWtUr5tHHkBetJZChOEgQOVTffxMuyJAKxReBSixJEDCFTXb0qc6QKBY6OO5ATlA3qsYFKppN0B7D8Zro981QHmD8OqlYzRA1weYkbH1MkCUnLxfxpUxQLFBXlXkQzBAXO755BYALkAWejFud5QrQJEmY0bqRClAy\\u002fOObW8RJ0DG4bTjBvokQH7w1Kiw\\u002fiJA+R\\u002fvvGwfIUBm4AZAdrgeQFnCI6Q3ahtAy+U0ph1UGEC9SjpGKHYVQDHxM4RX0BJAJNkhYKtiEEArBQi0R1oMQBHbtOOBXwhA8jNKTwXVBEDUD8j20boBQGjdXLTPIf4\\u002fKaH68o2u+T\\u002ftammp3hv2P6w6qdfBafM\\u002faxC6fTeY8T8p7JubP6fwP+XNTjHalvA\\u002fobXSPgdn8T9coyfExhfzPxiXTcEYqfU\\u002fzZBENv0a+T+MkAwjdG39Px\\u002fL0sM+UAFA99AHsgxaBEDXWSXcI9QHQK5lK0KEvgtAQfoM8pYMEEAxg\\u002fhgEHISQJtN2G2uDxVAhFmsGHHlF0D0pnRhWPMaQNw1MUhkOR5AJgNxZsrbIEAajMP39LYiQM81ENgxriRATAq+vydDOkA+diRdEqA4QJHyByIGCzdARH9oDgOENUBXHEYiCQs0QMnJoF0YoDJAnId4wDBDMUCdq5qVpOgvQMFoPvn5Zi1Apkbcq2EBK0BLRXSt27coQLBkBv5niiZA1KSSnQZ5JEC3BRmMt4MiQFuHmcl6qiBAgFMorKDaHUDI2RFjcJgaQI6h77dkjhdA1KrBqn28FECd9Yc7uyISQMgDhdQ6gg9AVJ\\u002fibUgvC0DjvShDn0wHQGxfV1Q\\u002f2gNA94NuoSjYAEAAV9xUtoz8PxSsrN6tSfg\\u002fKgdO4Dfn9D86aMBZVGXyP0vPA0sDxPA\\u002fWjwYtEQD8D9pr\\u002f2UGCPwP3cotO1+I\\u002fE\\u002fhac7vncE8z+SLJQGA8b1P5i3vcYgaPk\\u002fqUi4\\u002ftDq\\u002fT\\u002fX70HXCacBQFk+EGv0yARA4A\\u002fHOihbCEBgZGZGpV0MQO8d98Y1aBBAM0uviL3ZEkDxuVvoaYMVQDBq\\u002fOU6ZRhA8luRgTB\\u002fG0Awjxq7StEeQPsBTMnELSFAGN0EhPYOI0D32LeNOgwlQOg\\u002fC7NgrzlAD1zShB8ROECWiBZ+54A2QH3F1564\\u002fjRAwxIW55KKM0BrcNFWdiQyQHHeCe5izDBAsbl+WbEEL0A91+Mlr4wsQIcVQ0G\\u002fMCpAlXScq+HwJ0Bj9O9kFs0lQO+UPW1dxSNAO1aFxLbZIUBJOMdqIgogQCl2BsBArRxAQb1ySGF+GUDYRdNupocWQO8PKDMQyRNAiRtxlZ5CEUBB0Vwro+gNQG3uv2dSvAlAm44L4EoABkDIsT+UjLQCQOivuAgvsv8\\u002fPQLDYNfb+j+SWp4wEub2P+q4Snjf0PM\\u002fPR3INz+c8T+PhxZvMUjwP8Pvazxsqe8\\u002fMm4mRc1B8D+D6ufjdo\\u002fxP9JsevqyvfM\\u002fIPXdiIHM9j9rgxKP4rv6P70XGA3Wi\\u002f8\\u002fAll3AS6eAkAlKUs4uuYFQE18B6uPnwlAbVKsWa7IDUDH1RwiCzERQNrDV7XjtRNAavOG5uByFkB5ZKq1AmgZQA4XwiJJlRxAGwvOLbT6H0BYIGfrIcwhQN5b4Q78tiNAJrhVgei9JUBNbG\\u002fuxgA5QCSaHw+JaDdAWthMV1TeNUDxJvfGKGI0QOiFHl4G9DJAPfXCHO2TMUD0dOQC3UEwQBQKBiGs+y1AAks9i7CPK0CurG5Exz8pQBovmkzwCydASNK\\u002foyv0JEAzlt9JefgiQN96+T7ZGCFAlgAbBpeqHkDvTDcsoFsbQMbaR\\u002fDNRBhAHapMUiBmFUDyukVSl78SQEsNM\\u002fAyURBAREIpWOY1DEDx7NQLsDkIQJ8aafvCrQRASMvlJh+SAUDl\\u002fZUcic39PzdrMWNmV\\u002fk\\u002fid6dIdbB9T\\u002fdV9tX2AzzPy7X6QVtOPE\\u002ffVzJK5RE8D\\u002fM53nJTTHwPxp5+96Z\\u002fvA\\u002fZxBObHis8j+zrXFx6Tr1P\\u002f5QZu7sqfg\\u002fRPor44L5\\u002fD\\u002fLVOGn1RQBQG0vFRozHQRADY0xyNmVB0C1bTayyX4LQFTRI9gC2A9A+dv8nMJQEkDNENxrqO0UQBuHr9iywhdA6T534+HPGkA9ODOMNRUeQIW5celWySBAr\\u002ffDWyWkIkCVVhAdBpskQDrWVi35rSZABv2hMVpLOEAsWUoinrk2QLXFbzrrNTVAm0ISekHAM0DjzzHhoFgyQIptzm8J\\u002fzBAIjfQS\\u002fZmL0Dys\\u002f0G7OssQIBRJRH0jCpAzQ9Hag5KKEDa7mISOyMmQKnueAl6GCRANQ+JT8spIkCDUJPkLlcgQCJlL5FJQR1AvWos91kMGkDWsR37jg8XQG86A53oShRAiATd3Ga+EUBGIFZ1E9QOQHm62myimwpAq9dHoHrTBkDed50PnHsDQA6b27oGlABAeYIERHU5\\u002fD\\u002fX1CKKbyv4PzQtEkj8\\u002ffQ\\u002fk4vSfRux8j\\u002fv72MrzUTxP0laxlARufA\\u002fosr57ecN8T\\u002f7QP4CUUPyP1S9049MWfQ\\u002fqz96lNpP9z8CyPEQ+yb7P1JWOgWu3v8\\u002fV\\u002fWpuHm7AkB+Qp+q5fcFQKQSfdiapAlA1GVDQpnBDUD8HflzcCcRQIzKxOQ4phNApLiE8yVdFkA16DigN0wZQERZ4eptcxxA2gt+08jSH0D1fwctJLUhQMEaSj\\u002f2nCNASdaGoNqgJUCPsr1Q0cAnQO998nkgoTdAn8RfBrYVNkCxG0q6VJg0QCKDsZX8KDNA8\\u002fqVmK3HMUAmg\\u002ffCZ3QwQG03rClWXi5AT4ljHO\\u002fvK0Dw+xRemp0pQFKPwO5XZydAdENmzidNJUBXGAb9CU8jQPcNoHr+bCFAsUhojgpOH0D2toTFPPobQLlmlZqT3hhA+VeaDQ\\u002f7FUC7ipMer08TQP3+gM1z3BBAgGnFNLpCDUADWHEK1jwJQITJBRw7pwVAB76CaemBAkAPa9DlwZn\\u002fPw1gbHBDEPs\\u002fC1vZcldn9z8JXBft\\u002fZ70PwljJt82t\\u002fI\\u002fBHAGSQKw8T\\u002f\\u002fgrcqYInxP\\u002fmbOYRQQ\\u002fI\\u002f8rqMVdPd8z\\u002fs37Ce6Fj2P+MKpl+QtPk\\u002f2jtsmMrw\\u002fT9muYGky4YBQOXXtTh7hQRAXHnSCHT0B0DSndcUttMLQKeiYq6gERBA4bdN8IpxEkCbDi3QmQkVQNumAE7N2RdAlIDIaSXiGkDLm4QjoiIeQEZ8mr2hzSBAYctsuASmIkBBOzkCepokQNzL\\u002f5oBqyZAN33AgpvXKEBUPuD5IxE3QJ\\u002feNw8+izVASY8MTGETNEBVUF6wjakyQMEhLTzDTTFAiwN57wEAMEBt64OUk4AtQIPwD5k1HStAWRaW7OnVKEDsXBaPsKomQEPEkICJmyRAWUwFwXSoIkAu9XNQctEgQIV9uV0ELR5AMFJ\\u002fuEjvGkBaaDmxsekXQALA50c\\u002fHBVAK1mKfPGGEkDUMyFPyCkQQP2fWH+HCQxAT1tXnMcvCECfmT71UMYEQPBaDoojzQFAfj6NtX6I\\u002fj8azc7OSFf6P7Vh4V+lBvc\\u002fT\\u002fzEaJSW9D\\u002fsnHnpFQfzP4VD\\u002f+EpWPI\\u002fHfBVUtCJ8j+zon06CZzzP0lbdprUjvU\\u002f4BlAcjJi+D903trBIhb8P4VUo8RSVQBAy7xBZN0PA0AZqMg\\u002fsToGQF0WOFfO1QlAoAeQqjThDUD3Pegcci4RQJm5fIJupBNAuXYFho9SFkBgdYIn1TgZQIC182Y\\u002fVxxAIDdZRM6tH0AkfdnfQJ4hQHJ\\u002fgOysgSNAhaIhSCuBJUBV5rzyu5wnQONKUuxe1ClAqepCoeqmNkAzeYegPiU1QBoYScebsTNAZceHFQJMMkANh0OLcfQwQCmu+FDUVS9A\\u002fW5k2tfeLECPUMqy7YMqQN5SKtoVRShA7nWEUFAiJkC\\u002fudgVnRskQFAeJyr8MCJAoKNvjW1iIEBgk2R\\u002f4l8dQAAh3oEOMxpAIPBLIl8+F0C\\u002fAK5g1IEUQN9SBD1u\\u002fRFA+cydblliD0A8dxufHzoLQHqkgQsvggdAtlTQs4c6BED0hweYKWMBQFx8TnAp+P0\\u002f0e5eKJIK+j9FZ0BYjf32P7jl8v8a0fQ\\u002fLmp2HzuF8z+g9Mq27RnzPxGF8MUyj\\u002fM\\u002ffhvnTArl9D\\u002fvt65LdBv3P1xaR8JwMvo\\u002fywKxsP8p\\u002fj+b2HWLEIEBQM+ye3pqXQRACRBqpQ2qB0A68EAM+mYLQGxTAK8vlA9A0hzURtcYEkBpURxUu58UQIDHWP\\u002fDXhdAHX+JSPFVGkAzeK4vQ4UdQGXZY9pcdiBAcpfqaypGIkA+dmtMCjIkQMt15nv8OSZAFZZb+gBeKEAg18rHF54qQLWKMmsgajZAN7lwWQ\\u002frNEAY+CtvB3ozQFlHZKwIFzJA+6YZERPCMED2LZg6TfYuQLgu96GGhCxAOlBQWNIuKkB7kqNdMPUnQHz18LGg1yVAPXk4VSPWI0C\\u002fHXpHuPAhQP\\u002fitYhfJyBA\\u002fZHXMTL0HECBnzfwydEZQIPui0yG5xZAA3\\u002fURmc1FEADURHfbLsRQAPJhCou8w5AB3PP0svfCkAIoAK3sjwHQAdQHtfiCQRAB4MiM1xHAUAJch6WPer9PwLkyD1VJvo\\u002f+ltEXf9C9z\\u002fy2ZD0O0D1P+xdrgMLHvQ\\u002f4eecimzc8z\\u002fXd1yJYHv0P8sN7f\\u002fm+vU\\u002fv6lO7v9a+D+xS4FUq5v7P6LzhDLpvP8\\u002fy9AsxFxfAkC\\u002fqv8qjlAFQLwHu80IsghAsOderMyDDEBSpXXj7GIQQE8YsA4YvBJAyMze12dNFUC\\u002fwgE\\u002f3BYYQD76GER1GBtAN3Mk5zJSHkDWFhKUCuIgQNUUjAMOtyJAjzMAwiOoJEAPc27PS7UmQEnT1iuG3ihAQ1Q519IjK0CbThquQl42QPbSnd4H4DRArmeeNtZvM0DJDBy2rQ0yQEPCFl2OuTBAOBAdV\\u002fDmLkCsvAZD1nYsQOCJ6n3OIipA03fIB9nqJ0CEhqDg9c4lQPm1cgglzyNALAY\\u002ff2brIUAfdwVFuiMgQKIRjLNA8BxAiXYBezHRGUDtHGvgRuoWQNEEyeOAOxRANS4bhd\\u002fEEUAwMsOIxQwPQPuKOEMVAAtAw2aWOa5jB0CJxdxrkDcEQFCnC9q7ewFAKxhGCGFg\\u002fj+x50XU3Kn6Pzq9Fhjr0\\u002fc\\u002fwJi404ve9T9IeisHv8n0P81hb7KElfQ\\u002fUU+E1dxB9T\\u002fUQmpwx872P1U8IYNEPPk\\u002f1zupDVSK\\u002fD+tIAEIe1wAQG0mFkUV5AJAKa8TvvjbBUDtuvlyJUQJQKdJyGObHA1Asa0\\u002fSK2yEEATeI98MQ8TQO+D007aoxVAStELv6dwGEAsYDjNmXUbQIUwWXmwsh5AMSG34fUTIUDhyrvVpeoiQE+Vuhho3SRAgICzqjzsJkBsjKaLIxcpQBi5k7scXitApMdlMkiCNkAYAgy0KAM1QO1ML10SkjNAIqjPLQUvMkC3E+0lAdowQFkfD4sMJi9AADg+GSm0LEBqcWf2V14qQJTLiiKZJChAe0aonewGJkAl4r9nUgUkQI+e0YDKHyJAt3vd6FRWIEA988Y\\u002f41EdQI8wx0tBLxpAYK+79cNEF0Cxb6Q9a5IUQIBxgSM3GBJAnWmlTk+sD0A\\u002fczCSeZgLQN\\u002f\\u002foxHt9AdAfQ8AzanBBEAdokTEr\\u002f4BQHFv4+79V\\u002f8\\u002fqaAOzS6T+z\\u002fg1woj8q74PxUV2PBHq\\u002fY\\u002fTVh2NjCI9T+CoeXzqkX1P7bwJSm44\\u002fU\\u002f5kU31ldi9z8YoRn7icH5P0sCzZdOAf0\\u002fvbQo1tKQAEBUa1OcRxEDQOqkZp4FAgZAhWFi3AxjCUAYoUZWXTQNQNWxCYb7uhBAolTk\\u002fuwTE0DqOLMVA6UVQLJedso9bhhAAMYtHZ1vG0DGbtkNIakeQIesPM5kDSFAbMKGZEviIkAP+cpJRNMkQHdQCX5P4CZAmchBAW0JKUB7YXTTnE4rQCDdevJv0DZAS09HLOZONUDX0ZCNZdszQMJkVxbudTJACwibxn8eMUBsd7c8NaovQID\\u002fMjt9My1AVaioiNfYKkDqcRglRJooQD9cghDDdyZAU2fmSlRxJEAnk0TU94YiQLzfnKytuCBAG5rep+sMHkBGtneUoOAaQO4TBR967BdAFLOGR3gwFUC6k\\u002fwNm6wSQOG1ZnLiYBBAETOK6ZyaDEBefS8qvuMIQKpKvaYonQVA95ozX9zGAkBBbpJT2WAAQBSJswc\\u002f1vw\\u002fpzsT4F3L+T849EMwD6H3P8uyRfhSV\\u002fY\\u002fWncYOCnu9T\\u002frQbzvkWX2P3cSMR+Nvfc\\u002fA+l2xhr2+T+PxY3lOg\\u002f9Pw\\u002fUOr52hABAVEiXRZnxAkCWP9wIBc8FQOC5CQi6HAlAILcfQ7jaDECwGw\\u002fdf4QQQFSdgjbI0xJAc2DqLTVbFUARZUbDxhoYQDWrlvZ8EhtA1DLbx1dCHkD3\\u002fYmbK9UgQEqDIKI9pSJAWSmx92GRJEAr8DucmJkmQLjXwI\\u002fhvShAB+A\\u002f0jz+KkDTfYZVeD43QMZZttBXuTVAGUZjc0BCNEDMQo09MtkyQOBPNC8tfjFAUm1YSDExMEBINvMRfeQtQK6yL+KpgitA0k9mAek8KUC3DZdvOhMnQFzswSyeBSVAwevmOBQUI0DmCwaUnD4hQJOZPnxuCh9A3FxlbsjPG0CmYYD+Rs0YQO2njyzqAhZAtS+T+LFwE0D8+IpinhYRQIkH7tRe6Q1AGaCuIMoVCkClu1eofrIGQDNa6Wt8vwNAv3tja8M8AUCUQIxNp1T+P6uPIjxaEPs\\u002fwOSJop+s+D\\u002fWP8KAdyn3P+qgy9bhhvY\\u002f\\u002fQempN7E9j8OdVHqbeP3Px3ozaeP4vk\\u002fMGEb3UPC\\u002fD8f8BxFRUEAQKeylNexkQJAK\\u002fj0pWdSBUC1wD2wZoMIQDcMb\\u002fauJAxAXG1EPCAbEEAhlkWbDVwSQGEAO5gf1RRAIKwkM1aGF0BmmQJssW8aQCbI1EIxkR1AMZzN22p1IEAT9SplTz4iQLFugj1GIyRAFAnUZE8kJkAzxB\\u002fbakEoQBGgZaCYeipAqWyyP3a+N0Bs2NaMBDU2QIxUeAGcuTRADuGWnTxMM0DvfTJh5uwxQDArS0yZmzBAoNHBvaqwLkCibecxNUYsQGUqB\\u002fXR9ylA5gchB4HFJ0ApBjVoQq8lQColQxgWtSNA62RLF\\u002fzWIUBsxU1l9BQgQFyNlAT+3RxAXdGB3DfKGUDgVmNSlu4WQOAdOWYZSxRAYCYDGMHfEUDE4ILPGlkPQMj356r8YgtAyJE1wifdB0DKrmsVnMcEQMhOiqRZIgJAjOMi38Da\\u002fz+JLwLtYFH8P4WBsnKTqPk\\u002fg9kzcFjg9z98N4blr\\u002fj2P3SbqdKZ8fY\\u002fbAWeNxbL9z9jdWMUJYX5P1nr+WjGH\\u002fw\\u002fUmdhNfqa\\u002fz+i9Mw8YPsBQJq40ZqMmQRAlv++NAKoB0COyZQKwSYLQIIWUxzJFQ9AP\\u002fP8NI26EUC5nMR5WiIUQLGHgFxMwhZAMbQw3WKaGUApItX7naocQKDRbbj98h9AUGF9CcG5IUCK+r2FFZYjQIq0+FB8jiVARo8ta\\u002fWiJ0DBilzUgNMpQOi4h3lZQDhAmddHUFqyNkCoBoVOZDI1QBhGP3R3wDNA6JV2wZNcMkAY9io2uQYxQE3NuKTPfS9ALs8VLD8KLUDL8WwCwbIqQCk1vidVdyhASZkJnPtXJkApHk9ftFQkQMbDjnF\\u002fbSJAJIrI0lyiIECF4vgFmeYdQEPyVASdwBpAfkOloMXSF0A41unaEh0VQHSqIrOEnxJAMcBPKRtaEEDZLuJ6rJkMQExgDd9r7whAxBQhf3S1BUA3TB1bxusCQKkGAnNhkgBAN4iejYtS\\u002fT8bCQqt5mD6PwKQRkTUT\\u002fg\\u002f5RxUU1Qf9z\\u002fGrzLaZs\\u002f2P6ZI4tgLYPc\\u002fiOdiT0PR+D9mjLQ9DSP7P0Q316NpVf4\\u002fEXTlQCw0AUB+z8fr7K0DQO6tktL2lwZAWg9G9UnyCUDD8+FT5rwNQJotM\\u002ffl+xBAz6JpYn1RE0CBWZRrOd8VQLtRsxIapRhAbYvGVx+jG0CdBs46SdkeQKvh5N3LIyFAxOBcbQX3IkCgAM9LUeYkQDlBO3mv8SZAkaKh9R8ZKUAH\\u002fxQ187M4QBegBkOnITdAh1F1eGSdNUBXE2HVKic0QIflyVn6vjJAF8ivBdNkMUAHuxLZtBgwQK585ac\\u002ftS1ADqSf7CdVK0As7FOAIhEpQAtVAmMv6SZArN6qlE7dJEAKiU0VgO0iQChU6uTDGSFAEYACBzTEHkBPmSTiBI0bQAv0Olv6jRhASJBFchTHFUADbkQnUzgTQEKNN3q24RBA\\u002fds91nyGDUB0IPXz1bkJQO3nlE14XQZAZDId42NxA0DZ\\u002f420mPUAQJ2gzoMt1P0\\u002fh0dSFryd+j9y9KYg3Uf4P1qnzKKQ0vY\\u002fQWDDnNY99j8nH4sOr4n2Pw3kI\\u002fgZtvc\\u002f8a6NWRfD+T\\u002fVf8gyp7D8P10r6sFkPwBAy5lYJr+WAkA\\u002fi6\\u002fGYl4FQKz\\u002f7qJPlghAGPcWu4U+DEDHuJOHgisQQHs3kM\\u002fmbxJAsPeAtW\\u002fsFEBr+WU5HaEXQJ88P1vvjRpAUsEMG+ayHUDFQ2e8AIggQKBHQrqgUiJAPGwXB1M5JECWseaiFzwmQK4XsI3uWihA3GF5qSILOUBwW3zZOXU3QGFl\\u002fDBa7TVAs3\\u002f5r4NzNEBnqnNWtgczQHjlaiTyqTFA6zDfGTdaMEB7GaFtCjEuQN7xffa4yStAAOtUznl+KUDlBCb1TE8nQIk\\u002f8WoyPCVA7Jq2LypFI0APF3ZDNGohQOhnX0yhVh9ALuPGr\\u002f4QHEDynyKxgAMZQDieclAnLhZA\\u002fN22jfKQE0BEX+9o4isRQBNEOMTt\\u002fQ1AnEx68l8UCkAn2KRcG5sGQK\\u002fmtwIgkgNAN3iz5G35AEB7GS8FCqL9P4lIyLjKMfo\\u002fmH0y5B2i9z+kuG2HA\\u002fP1P635eaJ7JPU\\u002ft0BXNYY29T\\u002fAjQVAIyn2P8jghMJS\\u002fPc\\u002f0DnVvBSw+j\\u002fXmPYuaUT+P+x+dAyoXAFAcTRWvWQHBEDybCCqaiIHQG8o09K5rQpA9mZuN1KpDkA5FPnrmYoRQHY2L1qv+BNAOJpZZumeFkB2P3gQSH0ZQDEmi1jLkxxAdE6SPnPiH0AY3Ebhn7QhQLqxPnIYlCNAF6gwUqOPJUA1vxyBQKcnQCVJ5IO2OzlADMEguzejN0BUSdoZwhg2QPvhEKBVnDRAAYvETfItM0BoRPUimM0xQDAOox9HezBAq9Cbh\\u002f5tLkC4pesegQEsQIObNQUWsSlAEbJ5Or18J0Be6be+dmQlQGpB8JFCaCNANboitCCIIUCFp55KIogfQB0c7MonOBxANdIt6VEgGUDMyWOloEAWQOICjv8TmRNAe32s96spEUAmc34b0eQNQFJujIOT5glAgOyCJ59YBkCs7WEH9DoDQNVxKSOSjQBAAPKy9fKg\\u002fD9UBuQcVAf5P6wg5rtHTvY\\u002f\\u002fkC50s119D9QZ11h5n3zP6CT0meRZvM\\u002f8MUY5s4v9D8+\\u002fi\\u002fcntn1P408GEoBZPg\\u002f2oDRL\\u002fbO+z+T5a3GPg0AQLuNW7FLowJA3rjx16GpBUD\\u002fZnA6QSAJQCmY19gpBw1AJKaT2S2vEEC0wa9k6xITQMgewI3NrhVAV73EVNSCGEBjnb25\\u002f44bQPm+qrxP0x5AAxHGLuInIUBP4zDOLgIjQFTWlbyN+CRAGur0+f4KJ0A3OhPtoEA5QACLATDKpjdAJ+xsmvwaNkCuXVUsOJ00QJbfuuV8LTNA3nGdxsrLMUCGFP3OIXgwQBuPs\\u002f0DZS5A7BVnrNb1K0B5vRSqu6IpQMmFvPayaydA2W5ekrxQJUCnePp82FEjQDWjkLYGbyFACd1Bfo5QH0AmtVYtNPsbQMDOX3r+3RhA3CldZe34FUB3xk7uAEwTQJSkNBU51xBAYYgdtCs1DUCWSrp5LiwJQM+PP3t6kwVAAlituA9rAkBqRgdk3GX\\u002fP9DihM4r1vo\\u002fOIXTsA0n9z+fLfMKglj0PwPc49yIavI\\u002faJClJiJd8T\\u002fKSjjoTTDxPywLnCEM5PE\\u002fjNHQ0lx48z\\u002fsndb7P+31P0twrZy1Qvk\\u002fpkhVtb14\\u002fT+FE+cirEcBQLAFDKdCQwRA2noZZyKvB0AOcw9jS4sLQDfu7Zq91w9ALnZahzxKEkDINjLfvuAUQNo4\\u002ftRlrxdAbHy+aDG2GkCFAXOaIfUdQAzkDTUbtiBAGWjc67eNIkDgDKXxZoEkQGnSZ0YokSZAImoLnkkaOUBh7LYwbIA3QP9+3+qX9DVA\\u002fiGFzMx2NEBc1afVCgczQBuZRwZSpTFAOm1kXqJRMEBvo\\u002fy79xcuQCuNKgq9qCtAppdSp5RVKUDjwnSTfh4nQOAOkc56AyVAm3unWIkEI0AXCbgxqiEhQKZuhbO6tR5AnQyPoUVgG0AU7Iwt9UIYQAoNf1fJXRVAgG9lH8KwEkB3E0CF3zsQQNrxHRJD\\u002fgtAxT+kVRD1B0CyEBPVJlwEQJpkapCGMwFAB3dUD1\\u002f2\\u002fD\\u002fYKqV1Q2b4P6fkxlO6tvQ\\u002fe6S5qcPn8T+P1PruvvLvPylsJHob1+0\\u002fww\\u002fw9Jx87T9Zv11fQ+PuP3i9tlyHBfE\\u002fQaGPgf958z8MizkeCs\\u002f2P896tDKnBPs\\u002fTziAX2sNAEAvto5hzAgDQA63hZ92dAZA9jplGWpQCkDUQS3PppwOQNjlbmCWrBFAS2w79\\u002f1CFEA5NPwrihEXQKY9sf46GBpAmohabxBXHUCDCvw+BWcgQH3xRJWUPiJAMvmHOjYyJECoIcUu6kEmQLM3Kf4EzjhAkSo0UmE1N0DNLbzNxqo1QGpBwXA1LjRAZmVDO62\\u002fMkDEmUItLl8xQIDevka4DDBAOmdwD5eQLUAzMl3gzyMrQOwdRAAb0yhAZColb3ieJkCeVwAt6IUkQJal1TlqiSJATxSllf6oIECMR92ASskdQP6nZHS8eBpA7UngBVNgF0BcLVA1DoAUQEpStALu1xFAeXEZ3OTPDkBZwbLuNmAKQDWUND3SYAZAFOqex7bRAkDeheMbyWX\\u002fP5U9WiC3CPo\\u002fS\\u002fuhnDeM9T8Av7qQSvDxP20RSfnfae4\\u002f1LC+wE+06j84XNZ35L\\u002foP5sTkB6ejOg\\u002f+9brtHwa6j9cpuk6gGntP93ARFjUPPE\\u002firTlCnul9D81rlc1tO74P+itmtd\\u002fGP4\\u002fxlnX+G4RAkCY38lB54YFQHLopMaobAlAQXRoh7PCDUCJQQrCg0QRQHaKVF7S3xNA3BSTmEWzFkDD4MVw3b4ZQDDu7OaZAh1Aih6EfT0\\u002fIEDB5otWQBkiQLLPjX5VDyRAZdmJ9XwhJkA6wZ0262Q4QKyHjlSQzjZAgF78mT5GNUCzRecG9sszQEY9T5u2XzJAOUU0V4ABMUAYuyx1pmIvQH0M64pe3ixAon6j7yh2KkCHEVajBSooQCzFAqb0+SVAkZmp9\\u002fXlI0C3jkqYCe4hQJuk5YcvEiBAgrb1jM+kHEBJZRSoZF0ZQJJVJ2EeThZAWocuuPx2E0Ci+imt\\u002f9cQQNdeM4BO4gxAaEv74eaECED3uqt\\u002fyJcEQIitRFnzGgFAK0aM3c4c\\u002fD9EN2CASeT2P1wuBZtWjPI\\u002f6Fb2Wuwp7j8eXYRvUPzoP0tvtHPZj+U\\u002fd42GZ4fk4z+gt\\u002fpKWvrjP8jtEB5S0eU\\u002f7i\\u002fJ4G5p6T8UfiOTsMLuPxvsj5qL7vI\\u002fKR9fY1Fc9z89WP+jqar8P6RLOC7KbAFAJ25Zxoj0BECyE2OakOwIQDM8VarhVA1A2vMX+70WEUAgi\\u002fm+L7sTQOBjzyDGlxZAH36ZIIGsGUDl2Ve+YPkcQJE7BX0yPyBA9arY6cYdIkATO6albRgkQPHrbbAmLyZAwUfKamXqN0CsRhcCF1c2QPZV4cDR0TRAn3Uop5VaM0Cppey0YvExQBPmLeo4ljBAum3YjTCSLkAOME+WARQsQCATwO3ksSlA8hYrlNprJ0CGO5CJ4kElQNqA7838MyNA7OZIYSlCIUB72ziH0NgeQKAq1OlyZRtARrtj6jkqGEBqjeeIJScVQA6hX8U1XBJAYOyXP9WSD0CrGVkwiN0KQPLJAl2EmAZAOP2UxcnDAkAAZx\\u002fUsL7+P4fZ5ZRg1vg\\u002fDlJ9zaLO8z8pocv77k7vPzWqPky9weg\\u002fRL9TjLD14z9M4Aq8yOrgP6QayLYLQt8\\u002fVkZf6mcY4D9Zi\\u002fzo7lDiP1rcO9eaSuY\\u002fWjkdtWsF7D8tUVDBsMDxP6YL4x8+X\\u002fY\\u002fKcxG9l3e+z9QyT0iCB8BQIuvQIUqvwRAzRgsJJbPCEADBQD\\u002fSlANQB463oqkIBFAP7MwNEjRE0DabXd7ELoWQPRpsmD92hlAlKfh4w40HUBXk4KComIgQKdzDuJPRyJAtXSUkA9IJECBlhSO4WQmQKAeeVfDajdAZeP10ejaNUCIuO9zF1k0QAqeZj1P5TJA7ZNaLpB\\u002fMUAxmstG2icwQKdhcw1bvC1Arq9J3BNFK0BzHhr63ukoQPet5Ga8qiZAPV6pIqyHJEBEL2gtroAiQAkhIYfClSBAG2eoX9KNHUCmzQJPRCgaQLF1Udza+hZAOl+UB5YFFEBDisvQdUgRQJbt7W\\u002f0hg1ArEktekbtCEC+KFXA4cMEQM+KZULGCgFAv9+8AOiD+z\\u002fer3\\u002f01dL1P\\u002fuFE2BWAvE\\u002fLMTwhtIk6j9jiFw9HQbkPzix1MYZUd8\\u002fn2k08kIY2j8COtj8tWHYP14iwOZyLdo\\u002fuCLsr3l73z+JHS4s5SXkP7U1CHAyT+o\\u002f7yzCUdIc8T\\u002f9RFHjnfL1Pxhjsez7qPs\\u002fkkPxNvYfAUCWWHKzt9sEQKTw22vCBwlApwsuYBakDUDUVDTIWVgRQFrlRf7MFhRAWrdL0mQNF0DaykVEITwaQOAfNFQCox1AMFsLAQShIEAzx\\u002fYmmYwiQPJT3JtAlCRAcQG8X\\u002fq3JkAkzV9wDvI2QHLcoGGsZTVAIvxeelPnM0AxLJq6A3cyQKFsUiK9FDFA4XoPY\\u002f+AL0BBPXTQlvQsQGAg04xAhCpAPSQsmPwvKEDaSH\\u002fyyvclQDqOzJur2yNAWfQTlJ7bIUBs9qq2R+8fQKZFIuN2XxxAYtaNrcoHGUCeqO0VQ+gVQFm8QRzgABNAkxGKwKFREECYUI0FELULQA8B78UlNwdAgzQ5woQpA0Ds1df0WRj\\u002fP9RIDt08vvg\\u002ft8EVPbJE8z8wgdwpdFftP\\u002fCKL8mo5uU\\u002fsKAkWAI34D\\u002fmhHetAZHYP2Dg6YlINtQ\\u002f1FOgRdld0z9D35rgswfWP7GC2VrYM9w\\u002fDx8uWiPx4j\\u002fEiJF2f4npPzx\\u002fS0GA8fA\\u002fD0AfP9P+9T\\u002ftBsS0uOz7P9\\u002fpHFGYXQFARlPAgx01BUC1P0zy63wJQBuvwJwDNQ5Av9COQbKuEUB3i7FSB3sUQKmHyAGBfxdAWcXTTh+8GkCRRNM54jAeQKCCY+Hk7iBAvIPX9GrhIkCUpUVXA\\u002fAkQCvorQiuGidAQCLbTSiLNkCFdf955AE1QCvZoM2phjNAME2\\u002fSHgZMkCW0VrrT7owQLjM5mph0i5AAhcSTjVMLEAOgjeAG+IpQNcNVwEUlCdAYLpw0R5iJUCsh4TwO0wjQLV1kl5rUiFAAAk1N1rpHkARaDlPAmYbQKYIMgXPGhhAuuoeWcAHFUBNDgBL1iwSQL3mqrUhFA9A4TM+EeA+CkAJBLqo59kFQC1XHnw45QFAoFrWFqXB\\u002fD\\u002foDEGta5n2PyrFfLvEUfE\\u002f1wYTg2DV6T9Zj85+XMjiP7dHWNT6+No\\u002fvYhXiobj0z+34ZofXFDQP65SIpR7P9A\\u002foNvt5+Sw0z+PfP0amKTaP7+aqJZKjeI\\u002fNYN0D26J6T\\u002fUO\\u002fE7WyPxPwg8+eeRYvY\\u002fSELSC1uC\\u002fD89J75TW8EBQFSwe13SsQVAcrwho5ISCkCJS7AknOMOQM+uE3F3EhJAXnnDbUXrFEBohWcIOPwXQPHS\\u002f0BPRRtAAGKMF4vGHkBEmQbG9T8hQEwiQU+4OCNAEcx1J41NJUCUlqROdH4nQFK45V4iPzZAVIq6e1G4NEC3bAzAiT8zQHlf2yvL1DFAmmInvxV4MEA67ODz0lIuQP0zbbiM0StAg5zzy1hsKUDEJXQuNyMnQMjP7t8n9iRAjJpj4CrlIkAPhtIvQPAgQKYkd5zPLh5Aq349d0O1GkAyGvjv23MXQDj3pgaZahRAvRVKu3qZEUCD68IbAgEOQI0u2vxXPwlAmvTZGfftBECkPcJy3wwBQFUTJg8iOPs\\u002fabGYsBc39T93VdzJnxbwPwX\\u002f4bV0rec\\u002fHV+tx87u4D9lljWSm+LXP5SGVHTjadE\\u002fbx1va+rmzD+zXb2sof7NP\\u002fPmSVZ2DdM\\u002fDTd5teWd2j+RT\\u002fZ5T9jiP5sP0gjRIuo\\u002f0+2nwzuX8T\\u002fQ2bd6of32P9rLmKmZRP0\\u002f6mElKBI2AkDm4Ga3IDoGQOzikIJ4rgpA5mejiRmTD0DxN0\\u002fmAXQSQHP9wKWbVhVAbwQnA1pxGEDsTIH+PMQbQO3Wz5dETx9AM1GJZziJIUC11yTS4IYjQPJ+uouboCVA7kZKlGjWJ0DmG13fsBQ2QF6EWztsjzRAN\\u002f3WvjAYM0Bvhs9p\\u002fq4xQAcgRTzVUzBA\\u002fZNvbGoNLkCuCE+vPI8rQB2eKEEhLSlATVT8IRjnJkA8K8pRIb0kQOwiktA8ryJAXDtUnmq9IEAW6SB2Vc8dQPKcjU36WxpAUpLuwsMgF0AxyUPWsR0UQI5BjYfEUhFA1PaVrfd\\u002fDUCM7fmHr8oIQElnRp6whQRAA2R78PqwAEB3xzH9HJn6P+rMPZHWsPQ\\u002frrA1OkVS7z+G05FBAgTnP1wCkDjkduA\\u002fZXpgPtZV1z8UCOXqLUDRP3FbW+2eWc0\\u002ftdZ0w3U3zz\\u002fyQAss8AzUP4wuoFVvANw\\u002fEZo8Lxy74z\\u002feKEujJTfrP9LhfQMqOvI\\u002fMTUnrVO59z+ajqHODxn+P\\u002fp29jOvrAJAp6mEvB+9BkBcX\\u002fuA2T0LQANMrUBuFxBA1ynRXhTIEkAxSeka37AVQAeq9XTO0RhAWUz2bOIqHEAzMOsCG7wfQMQqahu8wiFAMd5YBH3DI0BaskE8UOAlQEOnJMM1GShABjvhqKUPNkCAfi0l5oo0QFvS9sgvFDNAlDY9lIKrMUAuqwCH3lAwQE9ggkKHCC5AA4v9xWOLK0B31nKYUiopQKtC4rlT5SZAnc9LKme8JEBQfa\\u002fpjK8iQMRLDfjEviBA7XXKqh7UHUDSlW4D2GIaQDf3Bvq1KRdAHpqTjrgoFECCfhTB318RQMlIEyNXng1AkRfm\\u002fzftCEBcaaEYYqwEQCQ+RW3V2wBA0yuj+yP3+j9j4YyULxf1P+2cR6XNF\\u002fA\\u002f67ymW\\u002fzx5z\\u002f7S2BcgnXhPxPOd5ladNk\\u002fMxxzWfp\\u002f0z9JgrL44w3RP14ANncXHtI\\u002fZ5b91JSw1j9yRAkSXMXePz2FLJc2LuU\\u002fQXT2FOS67D+iNzFBWwTzPx07uO\\u002fWi\\u002fg\\u002fpEQQFuXz\\u002fj8NqhzaQh4DQMi0GWXcMgdAikL\\u002fK7+3C0CiqWaXdVYQQH3zwTYwCRNA4H4RdA\\u002f0FUC6S1VPExcZQBRajcg7chxA+9Tcb8QCIECnHW1KfeghQBmH93NI6iNARRF87CUIJkAxvPqzFUIoQPGE7tR4MDZA7MrKKzSrNEBFISSq+DMzQACI+k\\u002fGyjFAGv9NHZ1vMEApDT0k+kQuQN482FzMxitAUY1t5LBkKUCF\\u002fvy6px4nQHeQhuCw9CRALEMKVczmIkCgFogY+vQgQKYVAFZ0Ph5AjT\\u002fkGBnLGkD0qrx54o8XQNpXiXjQjBRAP0ZKFePBEUBJ7P6fNF4OQBPPUVHsqAlA4TSNPu1jBUCsHbFnN48BQOgSe5mVVfw\\u002ffvBk205t9j8O1B+VmmXxPzd7V43xfOo\\u002fUloR4NLv4z\\u002fXitpEskfePw551qgIMtg\\u002fOn8W7Kie1T9jnZoOk43WP4LTYhDH\\u002fto\\u002f0pC3eCJ54T\\u002fhw99YBjTnP\\u002fICqigPsO4\\u002f\\u002fSYLdJ728z9+UpLLx3X5PwqE6pqD1f8\\u002fw90J8eiKA0CA\\u002fIZQWZsHQEae7OsSHAxAgWGd4YqGEEBftTjrMDcTQMJKyJL7HxZAniFM2OpAGUD5OcS7\\u002fpkcQO9JmJ6bFSBAnJdILkr6IUAOBvMMC\\u002fsjQDuVlzreFyZAKUU2t8NQKEA=\",\"shape\":\"50, 50\"},\"type\":\"surface\"}],                        {\"autosize\":true,\"height\":700,\"scene\":{\"aspectmode\":\"manual\",\"aspectratio\":{\"x\":1,\"y\":1,\"z\":0.7},\"camera\":{\"eye\":{\"x\":-1.7428,\"y\":1.0707,\"z\":0.71},\"up\":{\"x\":0,\"y\":0,\"z\":1}},\"xaxis\":{\"gridcolor\":\"rgb(255, 255, 255)\",\"showbackground\":true,\"zerolinecolor\":\"rgb(255, 255, 255)\"},\"yaxis\":{\"gridcolor\":\"rgb(255, 255, 255)\",\"showbackground\":true,\"zerolinecolor\":\"rgb(255, 255, 255)\"},\"zaxis\":{\"gridcolor\":\"rgb(255, 255, 255)\",\"showbackground\":true,\"zerolinecolor\":\"rgb(255, 255, 255)\"}},\"template\":{\"data\":{\"barpolar\":[{\"marker\":{\"line\":{\"color\":\"#E5ECF6\",\"width\":0.5},\"pattern\":{\"fillmode\":\"overlay\",\"size\":10,\"solidity\":0.2}},\"type\":\"barpolar\"}],\"bar\":[{\"error_x\":{\"color\":\"#2a3f5f\"},\"error_y\":{\"color\":\"#2a3f5f\"},\"marker\":{\"line\":{\"color\":\"#E5ECF6\",\"width\":0.5},\"pattern\":{\"fillmode\":\"overlay\",\"size\":10,\"solidity\":0.2}},\"type\":\"bar\"}],\"carpet\":[{\"aaxis\":{\"endlinecolor\":\"#2a3f5f\",\"gridcolor\":\"white\",\"linecolor\":\"white\",\"minorgridcolor\":\"white\",\"startlinecolor\":\"#2a3f5f\"},\"baxis\":{\"endlinecolor\":\"#2a3f5f\",\"gridcolor\":\"white\",\"linecolor\":\"white\",\"minorgridcolor\":\"white\",\"startlinecolor\":\"#2a3f5f\"},\"type\":\"carpet\"}],\"choropleth\":[{\"colorbar\":{\"outlinewidth\":0,\"ticks\":\"\"},\"type\":\"choropleth\"}],\"contourcarpet\":[{\"colorbar\":{\"outlinewidth\":0,\"ticks\":\"\"},\"type\":\"contourcarpet\"}],\"contour\":[{\"colorbar\":{\"outlinewidth\":0,\"ticks\":\"\"},\"colorscale\":[[0.0,\"#0d0887\"],[0.1111111111111111,\"#46039f\"],[0.2222222222222222,\"#7201a8\"],[0.3333333333333333,\"#9c179e\"],[0.4444444444444444,\"#bd3786\"],[0.5555555555555556,\"#d8576b\"],[0.6666666666666666,\"#ed7953\"],[0.7777777777777778,\"#fb9f3a\"],[0.8888888888888888,\"#fdca26\"],[1.0,\"#f0f921\"]],\"type\":\"contour\"}],\"heatmap\":[{\"colorbar\":{\"outlinewidth\":0,\"ticks\":\"\"},\"colorscale\":[[0.0,\"#0d0887\"],[0.1111111111111111,\"#46039f\"],[0.2222222222222222,\"#7201a8\"],[0.3333333333333333,\"#9c179e\"],[0.4444444444444444,\"#bd3786\"],[0.5555555555555556,\"#d8576b\"],[0.6666666666666666,\"#ed7953\"],[0.7777777777777778,\"#fb9f3a\"],[0.8888888888888888,\"#fdca26\"],[1.0,\"#f0f921\"]],\"type\":\"heatmap\"}],\"histogram2dcontour\":[{\"colorbar\":{\"outlinewidth\":0,\"ticks\":\"\"},\"colorscale\":[[0.0,\"#0d0887\"],[0.1111111111111111,\"#46039f\"],[0.2222222222222222,\"#7201a8\"],[0.3333333333333333,\"#9c179e\"],[0.4444444444444444,\"#bd3786\"],[0.5555555555555556,\"#d8576b\"],[0.6666666666666666,\"#ed7953\"],[0.7777777777777778,\"#fb9f3a\"],[0.8888888888888888,\"#fdca26\"],[1.0,\"#f0f921\"]],\"type\":\"histogram2dcontour\"}],\"histogram2d\":[{\"colorbar\":{\"outlinewidth\":0,\"ticks\":\"\"},\"colorscale\":[[0.0,\"#0d0887\"],[0.1111111111111111,\"#46039f\"],[0.2222222222222222,\"#7201a8\"],[0.3333333333333333,\"#9c179e\"],[0.4444444444444444,\"#bd3786\"],[0.5555555555555556,\"#d8576b\"],[0.6666666666666666,\"#ed7953\"],[0.7777777777777778,\"#fb9f3a\"],[0.8888888888888888,\"#fdca26\"],[1.0,\"#f0f921\"]],\"type\":\"histogram2d\"}],\"histogram\":[{\"marker\":{\"pattern\":{\"fillmode\":\"overlay\",\"size\":10,\"solidity\":0.2}},\"type\":\"histogram\"}],\"mesh3d\":[{\"colorbar\":{\"outlinewidth\":0,\"ticks\":\"\"},\"type\":\"mesh3d\"}],\"parcoords\":[{\"line\":{\"colorbar\":{\"outlinewidth\":0,\"ticks\":\"\"}},\"type\":\"parcoords\"}],\"pie\":[{\"automargin\":true,\"type\":\"pie\"}],\"scatter3d\":[{\"line\":{\"colorbar\":{\"outlinewidth\":0,\"ticks\":\"\"}},\"marker\":{\"colorbar\":{\"outlinewidth\":0,\"ticks\":\"\"}},\"type\":\"scatter3d\"}],\"scattercarpet\":[{\"marker\":{\"colorbar\":{\"outlinewidth\":0,\"ticks\":\"\"}},\"type\":\"scattercarpet\"}],\"scattergeo\":[{\"marker\":{\"colorbar\":{\"outlinewidth\":0,\"ticks\":\"\"}},\"type\":\"scattergeo\"}],\"scattergl\":[{\"marker\":{\"colorbar\":{\"outlinewidth\":0,\"ticks\":\"\"}},\"type\":\"scattergl\"}],\"scattermapbox\":[{\"marker\":{\"colorbar\":{\"outlinewidth\":0,\"ticks\":\"\"}},\"type\":\"scattermapbox\"}],\"scattermap\":[{\"marker\":{\"colorbar\":{\"outlinewidth\":0,\"ticks\":\"\"}},\"type\":\"scattermap\"}],\"scatterpolargl\":[{\"marker\":{\"colorbar\":{\"outlinewidth\":0,\"ticks\":\"\"}},\"type\":\"scatterpolargl\"}],\"scatterpolar\":[{\"marker\":{\"colorbar\":{\"outlinewidth\":0,\"ticks\":\"\"}},\"type\":\"scatterpolar\"}],\"scatter\":[{\"fillpattern\":{\"fillmode\":\"overlay\",\"size\":10,\"solidity\":0.2},\"type\":\"scatter\"}],\"scatterternary\":[{\"marker\":{\"colorbar\":{\"outlinewidth\":0,\"ticks\":\"\"}},\"type\":\"scatterternary\"}],\"surface\":[{\"colorbar\":{\"outlinewidth\":0,\"ticks\":\"\"},\"colorscale\":[[0.0,\"#0d0887\"],[0.1111111111111111,\"#46039f\"],[0.2222222222222222,\"#7201a8\"],[0.3333333333333333,\"#9c179e\"],[0.4444444444444444,\"#bd3786\"],[0.5555555555555556,\"#d8576b\"],[0.6666666666666666,\"#ed7953\"],[0.7777777777777778,\"#fb9f3a\"],[0.8888888888888888,\"#fdca26\"],[1.0,\"#f0f921\"]],\"type\":\"surface\"}],\"table\":[{\"cells\":{\"fill\":{\"color\":\"#EBF0F8\"},\"line\":{\"color\":\"white\"}},\"header\":{\"fill\":{\"color\":\"#C8D4E3\"},\"line\":{\"color\":\"white\"}},\"type\":\"table\"}]},\"layout\":{\"annotationdefaults\":{\"arrowcolor\":\"#2a3f5f\",\"arrowhead\":0,\"arrowwidth\":1},\"autotypenumbers\":\"strict\",\"coloraxis\":{\"colorbar\":{\"outlinewidth\":0,\"ticks\":\"\"}},\"colorscale\":{\"diverging\":[[0,\"#8e0152\"],[0.1,\"#c51b7d\"],[0.2,\"#de77ae\"],[0.3,\"#f1b6da\"],[0.4,\"#fde0ef\"],[0.5,\"#f7f7f7\"],[0.6,\"#e6f5d0\"],[0.7,\"#b8e186\"],[0.8,\"#7fbc41\"],[0.9,\"#4d9221\"],[1,\"#276419\"]],\"sequential\":[[0.0,\"#0d0887\"],[0.1111111111111111,\"#46039f\"],[0.2222222222222222,\"#7201a8\"],[0.3333333333333333,\"#9c179e\"],[0.4444444444444444,\"#bd3786\"],[0.5555555555555556,\"#d8576b\"],[0.6666666666666666,\"#ed7953\"],[0.7777777777777778,\"#fb9f3a\"],[0.8888888888888888,\"#fdca26\"],[1.0,\"#f0f921\"]],\"sequentialminus\":[[0.0,\"#0d0887\"],[0.1111111111111111,\"#46039f\"],[0.2222222222222222,\"#7201a8\"],[0.3333333333333333,\"#9c179e\"],[0.4444444444444444,\"#bd3786\"],[0.5555555555555556,\"#d8576b\"],[0.6666666666666666,\"#ed7953\"],[0.7777777777777778,\"#fb9f3a\"],[0.8888888888888888,\"#fdca26\"],[1.0,\"#f0f921\"]]},\"colorway\":[\"#636efa\",\"#EF553B\",\"#00cc96\",\"#ab63fa\",\"#FFA15A\",\"#19d3f3\",\"#FF6692\",\"#B6E880\",\"#FF97FF\",\"#FECB52\"],\"font\":{\"color\":\"#2a3f5f\"},\"geo\":{\"bgcolor\":\"white\",\"lakecolor\":\"white\",\"landcolor\":\"#E5ECF6\",\"showlakes\":true,\"showland\":true,\"subunitcolor\":\"white\"},\"hoverlabel\":{\"align\":\"left\"},\"hovermode\":\"closest\",\"mapbox\":{\"style\":\"light\"},\"paper_bgcolor\":\"white\",\"plot_bgcolor\":\"#E5ECF6\",\"polar\":{\"angularaxis\":{\"gridcolor\":\"white\",\"linecolor\":\"white\",\"ticks\":\"\"},\"bgcolor\":\"#E5ECF6\",\"radialaxis\":{\"gridcolor\":\"white\",\"linecolor\":\"white\",\"ticks\":\"\"}},\"scene\":{\"xaxis\":{\"backgroundcolor\":\"#E5ECF6\",\"gridcolor\":\"white\",\"gridwidth\":2,\"linecolor\":\"white\",\"showbackground\":true,\"ticks\":\"\",\"zerolinecolor\":\"white\"},\"yaxis\":{\"backgroundcolor\":\"#E5ECF6\",\"gridcolor\":\"white\",\"gridwidth\":2,\"linecolor\":\"white\",\"showbackground\":true,\"ticks\":\"\",\"zerolinecolor\":\"white\"},\"zaxis\":{\"backgroundcolor\":\"#E5ECF6\",\"gridcolor\":\"white\",\"gridwidth\":2,\"linecolor\":\"white\",\"showbackground\":true,\"ticks\":\"\",\"zerolinecolor\":\"white\"}},\"shapedefaults\":{\"line\":{\"color\":\"#2a3f5f\"}},\"ternary\":{\"aaxis\":{\"gridcolor\":\"white\",\"linecolor\":\"white\",\"ticks\":\"\"},\"baxis\":{\"gridcolor\":\"white\",\"linecolor\":\"white\",\"ticks\":\"\"},\"bgcolor\":\"#E5ECF6\",\"caxis\":{\"gridcolor\":\"white\",\"linecolor\":\"white\",\"ticks\":\"\"}},\"title\":{\"x\":0.05},\"xaxis\":{\"automargin\":true,\"gridcolor\":\"white\",\"linecolor\":\"white\",\"ticks\":\"\",\"title\":{\"standoff\":15},\"zerolinecolor\":\"white\",\"zerolinewidth\":2},\"yaxis\":{\"automargin\":true,\"gridcolor\":\"white\",\"linecolor\":\"white\",\"ticks\":\"\",\"title\":{\"standoff\":15},\"zerolinecolor\":\"white\",\"zerolinewidth\":2}}},\"title\":{\"text\":\"Gradient Descent\"},\"width\":800},                        {\"responsive\": true}                    ).then(function(){\n",
       "                            \n",
       "var gd = document.getElementById('b0836f52-eafc-4cba-b66a-5b371461fb40');\n",
       "var x = new MutationObserver(function (mutations, observer) {{\n",
       "        var display = window.getComputedStyle(gd).display;\n",
       "        if (!display || display === 'none') {{\n",
       "            console.log([gd, 'removed!']);\n",
       "            Plotly.purge(gd);\n",
       "            observer.disconnect();\n",
       "        }}\n",
       "}});\n",
       "\n",
       "// Listen for the removal of the full notebook cells\n",
       "var notebookContainer = gd.closest('#notebook-container');\n",
       "if (notebookContainer) {{\n",
       "    x.observe(notebookContainer, {childList: true});\n",
       "}}\n",
       "\n",
       "// Listen for the clearing of the current output cell\n",
       "var outputEl = gd.closest('.output');\n",
       "if (outputEl) {{\n",
       "    x.observe(outputEl, {childList: true});\n",
       "}}\n",
       "\n",
       "                        })                };            </script>        </div>"
      ]
     },
     "metadata": {},
     "output_type": "display_data"
    }
   ],
   "source": [
    "# Run this cell to see a 3D plot (gradient descent with static alpha).\n",
    "from lab7_utils import plot_3d\n",
    "plot_3d(thetas[:, 0], thetas[:, 1], loss, mean_squared_error, sin_model, X, Y)"
   ]
  },
  {
   "cell_type": "code",
   "execution_count": 81,
   "metadata": {},
   "outputs": [],
   "source": [
    "def contour_plot(title, theta_history, loss_function, model, X, Y):\n",
    "    \"\"\"\n",
    "    The function takes the following as argument:\n",
    "        theta_history: An (N, 2) array of theta history.\n",
    "        loss: A list or array of loss values.\n",
    "        loss_function: For example, l2_loss.\n",
    "        model: For example, sin_model.\n",
    "        X: The original X input.\n",
    "        Y: The original Y output.\n",
    "    \"\"\"\n",
    "    theta_1_series = theta_history[:,0] # A list or array of theta_1 value\n",
    "    theta_2_series = theta_history[:,1] # A list or array of theta_2 value\n",
    "\n",
    "    ## In the following block of code, we generate the z-value\n",
    "    ## across a 2D grid\n",
    "    theta1_s = np.linspace(np.min(theta_1_series) - 0.1, np.max(theta_1_series) + 0.1)\n",
    "    theta2_s = np.linspace(np.min(theta_2_series) - 0.1, np.max(theta_2_series) + 0.1)\n",
    "\n",
    "    x_s, y_s = np.meshgrid(theta1_s, theta2_s)\n",
    "    data = np.stack([x_s.flatten(), y_s.flatten()]).T\n",
    "    ls = []\n",
    "    for theta1, theta2 in data:\n",
    "        l = loss_function(model(X, np.array([theta1, theta2])), Y)\n",
    "        ls.append(l)\n",
    "    z = np.array(ls).reshape(50, 50)\n",
    "\n",
    "    fig1, ax = plt.subplots(figsize=(30, 10))\n",
    "    cs = ax.contourf(x_s, y_s, z, levels=20, cmap='viridis')\n",
    "    ax.scatter(theta_1_series, theta_2_series, c='w')\n",
    "    ax.plot(theta_1_series, theta_2_series, c='w')\n",
    "\n",
    "    cbar = fig1.colorbar(cs)\n",
    "\n",
    "    plt.title(title)\n",
    "    plt.show()"
   ]
  },
  {
   "cell_type": "code",
   "execution_count": 83,
   "metadata": {},
   "outputs": [
    {
     "data": {
      "image/png": "[encoded data removed]",
      "text/plain": [
       "<Figure size 3000x1000 with 2 Axes>"
      ]
     },
     "metadata": {},
     "output_type": "display_data"
    }
   ],
   "source": [
    "contour_plot('Gradient Descent with Static Learning Rate', thetas, mean_squared_error, sin_model, df[\"x\"], df[\"y\"])"
   ]
  },
  {
   "cell_type": "markdown",
   "metadata": {},
   "source": [
    "As we can see, gradient descent is able to navigate even this fairly complex loss space and find a nice minimum."
   ]
  },
  {
   "cell_type": "markdown",
   "metadata": {},
   "source": [
    "### Bonus:\n",
    "To save some computational time, you will often see two modifications in the standard library:\n",
    "\n",
    "* Instead of always making some fixed number of iterations, we can terminate early if we determine that `theta` already converges. Convergence is usually defined by $\\theta_{t+1} - \\theta_{t}$ is less than some number, and you can specify this in the `tol` argument in `scipy.optimize.minimize` function. The maximum iteration can be set using the `maxiter` parameter as well.\n",
    "* Instead of calculating the risk by averaging over all data points, we estimate the risk by averaging over some subsample of data points. This is known as stochastic gradient descent and is usually denoted as SGD. See the relevant lecture slides for a more precise definition of SGD in the context of Data 100.\n"
   ]
  },
  {
   "cell_type": "markdown",
   "metadata": {},
   "source": [
    "<br/><br/>\n",
    "<hr style=\"border: 5px solid #003262;\" />\n",
    "<hr style=\"border: 1px solid #fdb515;\" />\n",
    "\n",
    "# Ruby congratulates you for finishing Lab 07!"
   ]
  },
  {
   "cell_type": "markdown",
   "metadata": {},
   "source": [
    "<img src='ruby.jpeg' width=\"400px\" />"
   ]
  },
  {
   "cell_type": "markdown",
   "metadata": {},
   "source": [
    "### Course Content Feedback\n",
    "\n",
    "If you have any feedback about this assignment or about any of our other weekly, weekly assignments, lectures, or discussions, please fill out the [Course Content Feedback Form](https://docs.google.com/forms/d/e/1FAIpQLSenPfvkr0iHmkxD0v4bjEyo1iH2g0znEYe-OEkShrJikFkFfg/viewform). Your input is valuable in helping us improve the quality and relevance of our content to better meet your needs and expectations!"
   ]
  },
  {
   "cell_type": "markdown",
   "metadata": {},
   "source": [
    "### Submission Instructions\n",
    "\n",
    "Below, you will see a cell. Running this cell will automatically generate a zip file with your autograded answers. Submit this file to the Lab 07 assignment on Gradescope. If you run into any issues when running this cell, feel free to check this [section](https://ds100.org/debugging-guide/autograder_gradescope/autograder_gradescope.html#why-does-grader.exportrun_teststrue-fail-if-all-previous-tests-passed) in the Data 100 Debugging Guide."
   ]
  },
  {
   "cell_type": "markdown",
   "metadata": {
    "deletable": false,
    "editable": false
   },
   "source": [
    "## Submission\n",
    "\n",
    "Make sure you have run all cells in your notebook in order before running the cell below, so that all images/graphs appear in the output. The cell below will generate a zip file for you to submit. **Please save before exporting!**"
   ]
  },
  {
   "cell_type": "code",
   "execution_count": null,
   "metadata": {
    "deletable": false,
    "editable": false
   },
   "outputs": [],
   "source": [
    "# Save your notebook first, then run this cell to export your submission.\n",
    "grader.export(pdf=False, run_tests=True)"
   ]
  },
  {
   "cell_type": "markdown",
   "metadata": {},
   "source": [
    " "
   ]
  }
 ],
 "metadata": {
  "celltoolbar": "Create Assignment",
  "kernelspec": {
   "display_name": "6.S191",
   "language": "python",
   "name": "python3"
  },
  "language_info": {
   "codemirror_mode": {
    "name": "ipython",
    "version": 3
   },
   "file_extension": ".py",
   "mimetype": "text/x-python",
   "name": "python",
   "nbconvert_exporter": "python",
   "pygments_lexer": "ipython3",
   "version": "3.11.13"
  },
  "otter": {
   "OK_FORMAT": true,
   "tests": {
    "q1": {
     "name": "q1",
     "points": 2,
     "suites": [
      {
       "cases": [
        {
         "code": ">>> one_hot_X.shape == (244, 13)\nTrue",
         "hidden": false,
         "locked": false
        },
        {
         "code": ">>> bool(np.all([np.issubdtype(one_hot_X[column].dtype, np.number) for column in one_hot_X]))\nTrue",
         "hidden": false,
         "locked": false
        }
       ],
       "scored": true,
       "setup": "",
       "teardown": "",
       "type": "doctest"
      }
     ]
    },
    "q2a": {
     "name": "q2a",
     "points": null,
     "suites": [
      {
       "cases": [
        {
         "code": ">>> len(model._thetas) == 13\nTrue",
         "hidden": false,
         "locked": false
        },
        {
         "code": ">>> len(model_l1._thetas) == 13\nTrue",
         "hidden": false,
         "locked": false
        },
        {
         "code": ">>> test_model = MyScipyLinearModel()\n>>> test_model.fit(l1, one_hot_X, tips)\n>>> len(model_l1.predict(one_hot_X)) == 244\nTrue",
         "hidden": false,
         "locked": false
        },
        {
         "code": ">>> test_model = MyScipyLinearModel()\n>>> test_model.fit(l2, one_hot_X, tips)\n>>> len(test_model.predict(one_hot_X)) == 244\nTrue",
         "hidden": false,
         "locked": false
        }
       ],
       "scored": true,
       "setup": "",
       "teardown": "",
       "type": "doctest"
      }
     ]
    },
    "q2b": {
     "name": "q2b",
     "points": null,
     "suites": [
      {
       "cases": [
        {
         "code": ">>> isinstance(sklearn_model, LinearRegression)\nTrue",
         "hidden": false,
         "locked": false
        },
        {
         "code": ">>> len(sklearn_model.coef_) == 13\nTrue",
         "hidden": false,
         "locked": false
        },
        {
         "code": ">>> len(sklearn_model.predict(one_hot_X)) == 244\nTrue",
         "hidden": false,
         "locked": false
        }
       ],
       "scored": true,
       "setup": "",
       "teardown": "",
       "type": "doctest"
      }
     ]
    },
    "q2c": {
     "name": "q2c",
     "points": null,
     "suites": [
      {
       "cases": [
        {
         "code": ">>> len(sklearn_model_intercept.coef_) == 12\nTrue",
         "hidden": false,
         "locked": false
        },
        {
         "code": ">>> bool(sklearn_model_intercept.intercept_ != 0)\nTrue",
         "hidden": false,
         "locked": false
        }
       ],
       "scored": true,
       "setup": "",
       "teardown": "",
       "type": "doctest"
      }
     ]
    },
    "q3a": {
     "name": "q3a",
     "points": null,
     "suites": [
      {
       "cases": [
        {
         "code": ">>> X_test = np.array([[1, 2], [-1, -9]])\n>>> Y_test = np.array([1, 3])\n>>> model_test = MyAnalyticallyFitOLSModel()\n>>> model_test.fit(X_test, Y_test)\n>>> assert isinstance(model_test._thetas, np.ndarray)\n>>> assert np.all(np.isclose(model_test._thetas, np.array([2.14285714, -0.57142857])))\n>>> assert len(model_test.predict(X_test)) == 2\n",
         "hidden": false,
         "locked": false
        },
        {
         "code": ">>> X_test = pd.DataFrame([[1, 2], [-1, -9]])\n>>> Y_test = pd.Series([1, 3])\n>>> model_test = MyAnalyticallyFitOLSModel()\n>>> model_test.fit(X_test, Y_test)\n>>> assert isinstance(model_test._thetas, np.ndarray)\n>>> assert np.all(np.isclose(model_test._thetas, np.array([2.14285714, -0.57142857])))\n>>> assert len(model_test.predict(X_test)) == 2\n",
         "hidden": false,
         "locked": false
        }
       ],
       "scored": true,
       "setup": "",
       "teardown": "",
       "type": "doctest"
      }
     ]
    },
    "q3c": {
     "name": "q3c",
     "points": null,
     "suites": [
      {
       "cases": [
        {
         "code": ">>> one_hot_X_revised.shape == (244, 9)\nTrue",
         "hidden": false,
         "locked": false
        },
        {
         "code": ">>> bool(np.isclose(mean_squared_error(scipy_model.predict(one_hot_X_revised), tips), 1.043942840612841, rtol=1))\nTrue",
         "hidden": false,
         "locked": false
        },
        {
         "code": ">>> bool(np.isclose(mean_squared_error(analytical_model.predict(one_hot_X_revised), tips), 1.043942840612841, rtol=1))\nTrue",
         "hidden": false,
         "locked": false
        }
       ],
       "scored": true,
       "setup": "",
       "teardown": "",
       "type": "doctest"
      }
     ]
    },
    "q4a": {
     "name": "q4a",
     "points": null,
     "suites": [
      {
       "cases": [
        {
         "code": ">>> X, Y = (df['x'], df['y'])\n>>> bool(np.isclose(sin_MSE([0, np.pi], X, Y), 19.49000412080223))\nTrue",
         "hidden": false,
         "locked": false
        },
        {
         "code": ">>> X, Y = (df['x'], df['y'])\n>>> bool(np.isclose(sin_MSE([0, np.pi / 2], X, Y), 20.954427404991762))\nTrue",
         "hidden": false,
         "locked": false
        },
        {
         "code": ">>> X, Y = (df['x'], df['y'])\n>>> bool(np.isclose(sin_MSE_dt1([0, np.pi], X, Y), -25.37666067092453))\nTrue",
         "hidden": false,
         "locked": false
        },
        {
         "code": ">>> X, Y = (df['x'], df['y'])\n>>> bool(np.isclose(sin_MSE_dt1([0, np.pi / 2], X, Y), -25.815630534245813))\nTrue",
         "hidden": false,
         "locked": false
        },
        {
         "code": ">>> X, Y = (df['x'], df['y'])\n>>> bool(np.isclose(sin_MSE_dt2([0, np.pi], X, Y), 1.9427210155296564))\nTrue",
         "hidden": false,
         "locked": false
        },
        {
         "code": ">>> X, Y = (df['x'], df['y'])\n>>> bool(np.isclose(sin_MSE_dt2([0, np.pi / 2], X, Y), -8.680852400281287))\nTrue",
         "hidden": false,
         "locked": false
        }
       ],
       "scored": true,
       "setup": "",
       "teardown": "",
       "type": "doctest"
      }
     ]
    },
    "q4b": {
     "name": "q4b",
     "points": null,
     "suites": [
      {
       "cases": [
        {
         "code": ">>> bool(np.isclose(np.round(theta_hat[0], 8), 1.51625373) and np.isclose(np.round(theta_hat[1], 8), 2.99448441))\nTrue",
         "hidden": false,
         "locked": false
        },
        {
         "code": ">>> bool(np.isclose(np.round(thetas_used[1][0], 8), 2.60105745) and np.isclose(np.round(thetas_used[1][1], 8), 2.60105745))\nTrue",
         "hidden": false,
         "locked": false
        },
        {
         "code": ">>> bool(np.isclose(np.round(thetas_used[3][0], 8), 2.05633644) and np.isclose(np.round(thetas_used[3][1], 7), 2.9631291))\nTrue",
         "hidden": false,
         "locked": false
        },
        {
         "code": ">>> bool(np.isclose(np.round(losses_calculated[5], 8), 0.90732714) and np.isclose(np.round(losses_calculated[8], 8), 0.29697507))\nTrue",
         "hidden": false,
         "locked": false
        }
       ],
       "scored": true,
       "setup": "",
       "teardown": "",
       "type": "doctest"
      }
     ]
    }
   }
  }
 },
 "nbformat": 4,
 "nbformat_minor": 4
}
